{
  "nbformat": 4,
  "nbformat_minor": 0,
  "metadata": {
    "kernelspec": {
      "display_name": "Python 3",
      "language": "python",
      "name": "python3"
    },
    "language_info": {
      "codemirror_mode": {
        "name": "ipython",
        "version": 3
      },
      "file_extension": ".py",
      "mimetype": "text/x-python",
      "name": "python",
      "nbconvert_exporter": "python",
      "pygments_lexer": "ipython3",
      "version": "3.7.3"
    },
    "colab": {
      "provenance": [],
      "include_colab_link": true
    }
  },
  "cells": [
    {
      "cell_type": "markdown",
      "metadata": {
        "id": "view-in-github",
        "colab_type": "text"
      },
      "source": [
        "<a href=\"https://colab.research.google.com/github/acody14/Springboard/blob/main/Unit_4_Challenge_Tier_3_Austin_Cody.ipynb\" target=\"_parent\"><img src=\"https://colab.research.google.com/assets/colab-badge.svg\" alt=\"Open In Colab\"/></a>"
      ]
    },
    {
      "cell_type": "markdown",
      "metadata": {
        "id": "Tia3MP1SJpgj"
      },
      "source": [
        "# Springboard Data Science Career Track Unit 4 Challenge - Tier 3 Complete\n",
        "\n",
        "## Objectives\n",
        "Hey! Great job getting through those challenging DataCamp courses. You're learning a lot in a short span of time.\n",
        "\n",
        "In this notebook, you're going to apply the skills you've been learning, bridging the gap between the controlled environment of DataCamp and the *slightly* messier work that data scientists do with actual datasets!\n",
        "\n",
        "Here’s the mystery we’re going to solve: ***which boroughs of London have seen the greatest increase in housing prices, on average, over the last two decades?***\n",
        "\n",
        "\n",
        "A borough is just a fancy word for district. You may be familiar with the five boroughs of New York… well, there are 32 boroughs within Greater London [(here's some info for the curious)](https://en.wikipedia.org/wiki/London_boroughs). Some of them are more desirable areas to live in, and the data will reflect that with a greater rise in housing prices.\n",
        "\n",
        "***This is the Tier 3 notebook, which means it's not filled in at all: we'll just give you the skeleton of a project, the brief and the data. It's up to you to play around with it and see what you can find out! Good luck! If you struggle, feel free to look at easier tiers for help; but try to dip in and out of them, as the more independent work you do, the better it is for your learning!***\n",
        "\n",
        "This challenge will make use of only what you learned in the following DataCamp courses:\n",
        "- Prework courses (Introduction to Python for Data Science, Intermediate Python for Data Science)\n",
        "- Data Types for Data Science\n",
        "- Python Data Science Toolbox (Part One)\n",
        "- pandas Foundations\n",
        "- Manipulating DataFrames with pandas\n",
        "- Merging DataFrames with pandas\n",
        "\n",
        "Of the tools, techniques and concepts in the above DataCamp courses, this challenge should require the application of the following:\n",
        "- **pandas**\n",
        "    - **data ingestion and inspection** (pandas Foundations, Module One)\n",
        "    - **exploratory data analysis** (pandas Foundations, Module Two)\n",
        "    - **tidying and cleaning** (Manipulating DataFrames with pandas, Module Three)\n",
        "    - **transforming DataFrames** (Manipulating DataFrames with pandas, Module One)\n",
        "    - **subsetting DataFrames with lists** (Manipulating DataFrames with pandas, Module One)\n",
        "    - **filtering DataFrames** (Manipulating DataFrames with pandas, Module One)\n",
        "    - **grouping data** (Manipulating DataFrames with pandas, Module Four)\n",
        "    - **melting data** (Manipulating DataFrames with pandas, Module Three)\n",
        "    - **advanced indexing** (Manipulating DataFrames with pandas, Module Four)\n",
        "- **matplotlib** (Intermediate Python for Data Science, Module One)\n",
        "- **fundamental data types** (Data Types for Data Science, Module One)\n",
        "- **dictionaries** (Intermediate Python for Data Science, Module Two)\n",
        "- **handling dates and times** (Data Types for Data Science, Module Four)\n",
        "- **function definition** (Python Data Science Toolbox - Part One, Module One)\n",
        "- **default arguments, variable length, and scope** (Python Data Science Toolbox - Part One, Module Two)\n",
        "- **lambda functions and error handling** (Python Data Science Toolbox - Part One, Module Four)"
      ]
    },
    {
      "cell_type": "markdown",
      "metadata": {
        "id": "Ipgd2nV8Jpgl"
      },
      "source": [
        "## The Data Science Pipeline\n",
        "\n",
        "This is Tier Three, so we'll get you started. But after that, it's all in your hands! When you feel done with your investigations, look back over what you've accomplished, and prepare a quick presentation of your findings for the next mentor meeting.\n",
        "\n",
        "Data Science is magical. In this case study, you'll get to apply some complex machine learning algorithms. But as  [David Spiegelhalter](https://www.youtube.com/watch?v=oUs1uvsz0Ok) reminds us, there is no substitute for simply **taking a really, really good look at the data.** Sometimes, this is all we need to answer our question.\n",
        "\n",
        "Data Science projects generally adhere to the four stages of Data Science Pipeline:\n",
        "1. Sourcing and loading\n",
        "2. Cleaning, transforming, and visualizing\n",
        "3. Modeling\n",
        "4. Evaluating and concluding\n"
      ]
    },
    {
      "cell_type": "markdown",
      "metadata": {
        "id": "zswDqbefJpgm"
      },
      "source": [
        "### 1. Sourcing and Loading\n",
        "\n",
        "Any Data Science project kicks off by importing  ***pandas***. The documentation of this wonderful library can be found [here](https://pandas.pydata.org/). As you've seen, pandas is conveniently connected to the [Numpy](http://www.numpy.org/) and [Matplotlib](https://matplotlib.org/) libraries.\n",
        "\n",
        "***Hint:*** This part of the data science pipeline will test those skills you acquired in the pandas Foundations course, Module One."
      ]
    },
    {
      "cell_type": "markdown",
      "metadata": {
        "id": "aEau5nEvJpgm"
      },
      "source": [
        "#### 1.1. Importing Libraries"
      ]
    },
    {
      "cell_type": "code",
      "metadata": {
        "id": "7Bt_Q_oPJpgn"
      },
      "source": [
        "# Let's import the pandas, numpy libraries as pd, and np respectively.\n",
        "import pandas as pd\n",
        "import numpy as np\n",
        "\n",
        "# Load the pyplot collection of functions from matplotlib, as plt\n",
        "import matplotlib.pyplot as plt"
      ],
      "execution_count": 356,
      "outputs": []
    },
    {
      "cell_type": "markdown",
      "metadata": {
        "id": "koUrawxsJpgq"
      },
      "source": [
        "#### 1.2.  Loading the data\n",
        "Your data comes from the [London Datastore](https://data.london.gov.uk/): a free, open-source data-sharing portal for London-oriented datasets."
      ]
    },
    {
      "cell_type": "code",
      "metadata": {
        "id": "AiLiD4v3Jpgr"
      },
      "source": [
        "# First, make a variable called url_LondonHousePrices, and assign it the following link, enclosed in quotation-marks as a string:\n",
        "# https://data.london.gov.uk/download/uk-house-price-index/70ac0766-8902-4eb5-aab5-01951aaed773/UK%20House%20price%20index.xls\n",
        "\n",
        "url_LondonHousePrices = \"https://data.london.gov.uk/download/uk-house-price-index/70ac0766-8902-4eb5-aab5-01951aaed773/UK%20House%20price%20index.xls\"\n",
        "\n",
        "# The dataset we're interested in contains the Average prices of the houses, and is actually on a particular sheet of the Excel file.\n",
        "# As a result, we need to specify the sheet name in the read_excel() method.\n",
        "# Put this data into a variable called properties.\n",
        "properties = pd.read_excel(url_LondonHousePrices, sheet_name='Average price', index_col= None)"
      ],
      "execution_count": 357,
      "outputs": []
    },
    {
      "cell_type": "markdown",
      "metadata": {
        "id": "POukEJXgJpgu"
      },
      "source": [
        "### 2. Cleaning, transforming, and visualizing\n",
        "This second stage is arguably the most important part of any Data Science project. The first thing to do is take a proper look at the data. Cleaning forms the majority of this stage, and can be done both before or after Transformation.\n",
        "\n",
        "The end goal of data cleaning is to have tidy data. When data is tidy:\n",
        "\n",
        "1. Each variable has a column.\n",
        "2. Each observation forms a row.\n",
        "\n",
        "Keep the end goal in mind as you move through this process, every step will take you closer.\n",
        "\n",
        "\n",
        "\n",
        "***Hint:*** This part of the data science pipeline should test those skills you acquired in:\n",
        "- Intermediate Python for data science, all modules.\n",
        "- pandas Foundations, all modules.\n",
        "- Manipulating DataFrames with pandas, all modules.\n",
        "- Data Types for Data Science, Module Four.\n",
        "- Python Data Science Toolbox - Part One, all modules"
      ]
    },
    {
      "cell_type": "markdown",
      "metadata": {
        "id": "Te0Q548tnzZa"
      },
      "source": [
        "**2.1. Exploring your data**\n",
        "\n",
        "Think about your pandas functions for checking out a dataframe."
      ]
    },
    {
      "cell_type": "code",
      "metadata": {
        "id": "Rxirxw_qoAJa",
        "colab": {
          "base_uri": "https://localhost:8080/",
          "height": 360
        },
        "outputId": "03d20dc2-d1b9-499a-9b3c-599b7fb7f6dc"
      },
      "source": [
        "properties.head()"
      ],
      "execution_count": 358,
      "outputs": [
        {
          "output_type": "execute_result",
          "data": {
            "text/plain": [
              "  Unnamed: 0 City of London Barking & Dagenham       Barnet       Bexley  \\\n",
              "0        NaT      E09000001          E09000002    E09000003    E09000004   \n",
              "1 1995-01-01    91448.98487         50460.2266  93284.51832  64958.09036   \n",
              "2 1995-02-01    82202.77314        51085.77983  93190.16963  64787.92069   \n",
              "3 1995-03-01    79120.70256        51268.96956  92247.52435  64367.49344   \n",
              "4 1995-04-01    77101.20804        53133.50526  90762.87492  64277.66881   \n",
              "\n",
              "         Brent      Bromley       Camden      Croydon       Ealing  ...  \\\n",
              "0    E09000005    E09000006    E09000007    E09000008    E09000009  ...   \n",
              "1  71306.56698  81671.47692  120932.8881  69158.16225  79885.89069  ...   \n",
              "2  72022.26197  81657.55944  119508.8622  68951.09542  80897.06551  ...   \n",
              "3  72015.76274  81449.31143  120282.2131  68712.44341  81379.86288  ...   \n",
              "4  72965.63094  81124.41227   120097.899  68610.04641  82188.90498  ...   \n",
              "\n",
              "    NORTH WEST YORKS & THE HUMBER EAST MIDLANDS WEST MIDLANDS EAST OF ENGLAND  \\\n",
              "0    E12000002          E12000003     E12000004     E12000005       E12000006   \n",
              "1  43958.48001        44803.42878   45544.52227   48527.52339      56701.5961   \n",
              "2  43925.42289        44528.80721   46051.57066   49341.29029     56593.59475   \n",
              "3   44434.8681        45200.46775   45383.82395   49442.17973     56171.18278   \n",
              "4   44267.7796        45614.34341   46124.23045   49455.93299     56567.89582   \n",
              "\n",
              "        LONDON   SOUTH EAST   SOUTH WEST Unnamed: 47      England  \n",
              "0    E12000007    E12000008    E12000009         NaN    E92000001  \n",
              "1  74435.76052  64018.87894   54705.1579         NaN  53202.77128  \n",
              "2  72777.93709  63715.02399  54356.14843         NaN   53096.1549  \n",
              "3  73896.84204  64113.60858  53583.07667         NaN   53201.2843  \n",
              "4  74455.28754  64623.22395  54786.01938         NaN   53590.8548  \n",
              "\n",
              "[5 rows x 49 columns]"
            ],
            "text/html": [
              "\n",
              "  <div id=\"df-446df58f-43ed-4c69-b674-45f6e7355c5e\" class=\"colab-df-container\">\n",
              "    <div>\n",
              "<style scoped>\n",
              "    .dataframe tbody tr th:only-of-type {\n",
              "        vertical-align: middle;\n",
              "    }\n",
              "\n",
              "    .dataframe tbody tr th {\n",
              "        vertical-align: top;\n",
              "    }\n",
              "\n",
              "    .dataframe thead th {\n",
              "        text-align: right;\n",
              "    }\n",
              "</style>\n",
              "<table border=\"1\" class=\"dataframe\">\n",
              "  <thead>\n",
              "    <tr style=\"text-align: right;\">\n",
              "      <th></th>\n",
              "      <th>Unnamed: 0</th>\n",
              "      <th>City of London</th>\n",
              "      <th>Barking &amp; Dagenham</th>\n",
              "      <th>Barnet</th>\n",
              "      <th>Bexley</th>\n",
              "      <th>Brent</th>\n",
              "      <th>Bromley</th>\n",
              "      <th>Camden</th>\n",
              "      <th>Croydon</th>\n",
              "      <th>Ealing</th>\n",
              "      <th>...</th>\n",
              "      <th>NORTH WEST</th>\n",
              "      <th>YORKS &amp; THE HUMBER</th>\n",
              "      <th>EAST MIDLANDS</th>\n",
              "      <th>WEST MIDLANDS</th>\n",
              "      <th>EAST OF ENGLAND</th>\n",
              "      <th>LONDON</th>\n",
              "      <th>SOUTH EAST</th>\n",
              "      <th>SOUTH WEST</th>\n",
              "      <th>Unnamed: 47</th>\n",
              "      <th>England</th>\n",
              "    </tr>\n",
              "  </thead>\n",
              "  <tbody>\n",
              "    <tr>\n",
              "      <th>0</th>\n",
              "      <td>NaT</td>\n",
              "      <td>E09000001</td>\n",
              "      <td>E09000002</td>\n",
              "      <td>E09000003</td>\n",
              "      <td>E09000004</td>\n",
              "      <td>E09000005</td>\n",
              "      <td>E09000006</td>\n",
              "      <td>E09000007</td>\n",
              "      <td>E09000008</td>\n",
              "      <td>E09000009</td>\n",
              "      <td>...</td>\n",
              "      <td>E12000002</td>\n",
              "      <td>E12000003</td>\n",
              "      <td>E12000004</td>\n",
              "      <td>E12000005</td>\n",
              "      <td>E12000006</td>\n",
              "      <td>E12000007</td>\n",
              "      <td>E12000008</td>\n",
              "      <td>E12000009</td>\n",
              "      <td>NaN</td>\n",
              "      <td>E92000001</td>\n",
              "    </tr>\n",
              "    <tr>\n",
              "      <th>1</th>\n",
              "      <td>1995-01-01</td>\n",
              "      <td>91448.98487</td>\n",
              "      <td>50460.2266</td>\n",
              "      <td>93284.51832</td>\n",
              "      <td>64958.09036</td>\n",
              "      <td>71306.56698</td>\n",
              "      <td>81671.47692</td>\n",
              "      <td>120932.8881</td>\n",
              "      <td>69158.16225</td>\n",
              "      <td>79885.89069</td>\n",
              "      <td>...</td>\n",
              "      <td>43958.48001</td>\n",
              "      <td>44803.42878</td>\n",
              "      <td>45544.52227</td>\n",
              "      <td>48527.52339</td>\n",
              "      <td>56701.5961</td>\n",
              "      <td>74435.76052</td>\n",
              "      <td>64018.87894</td>\n",
              "      <td>54705.1579</td>\n",
              "      <td>NaN</td>\n",
              "      <td>53202.77128</td>\n",
              "    </tr>\n",
              "    <tr>\n",
              "      <th>2</th>\n",
              "      <td>1995-02-01</td>\n",
              "      <td>82202.77314</td>\n",
              "      <td>51085.77983</td>\n",
              "      <td>93190.16963</td>\n",
              "      <td>64787.92069</td>\n",
              "      <td>72022.26197</td>\n",
              "      <td>81657.55944</td>\n",
              "      <td>119508.8622</td>\n",
              "      <td>68951.09542</td>\n",
              "      <td>80897.06551</td>\n",
              "      <td>...</td>\n",
              "      <td>43925.42289</td>\n",
              "      <td>44528.80721</td>\n",
              "      <td>46051.57066</td>\n",
              "      <td>49341.29029</td>\n",
              "      <td>56593.59475</td>\n",
              "      <td>72777.93709</td>\n",
              "      <td>63715.02399</td>\n",
              "      <td>54356.14843</td>\n",
              "      <td>NaN</td>\n",
              "      <td>53096.1549</td>\n",
              "    </tr>\n",
              "    <tr>\n",
              "      <th>3</th>\n",
              "      <td>1995-03-01</td>\n",
              "      <td>79120.70256</td>\n",
              "      <td>51268.96956</td>\n",
              "      <td>92247.52435</td>\n",
              "      <td>64367.49344</td>\n",
              "      <td>72015.76274</td>\n",
              "      <td>81449.31143</td>\n",
              "      <td>120282.2131</td>\n",
              "      <td>68712.44341</td>\n",
              "      <td>81379.86288</td>\n",
              "      <td>...</td>\n",
              "      <td>44434.8681</td>\n",
              "      <td>45200.46775</td>\n",
              "      <td>45383.82395</td>\n",
              "      <td>49442.17973</td>\n",
              "      <td>56171.18278</td>\n",
              "      <td>73896.84204</td>\n",
              "      <td>64113.60858</td>\n",
              "      <td>53583.07667</td>\n",
              "      <td>NaN</td>\n",
              "      <td>53201.2843</td>\n",
              "    </tr>\n",
              "    <tr>\n",
              "      <th>4</th>\n",
              "      <td>1995-04-01</td>\n",
              "      <td>77101.20804</td>\n",
              "      <td>53133.50526</td>\n",
              "      <td>90762.87492</td>\n",
              "      <td>64277.66881</td>\n",
              "      <td>72965.63094</td>\n",
              "      <td>81124.41227</td>\n",
              "      <td>120097.899</td>\n",
              "      <td>68610.04641</td>\n",
              "      <td>82188.90498</td>\n",
              "      <td>...</td>\n",
              "      <td>44267.7796</td>\n",
              "      <td>45614.34341</td>\n",
              "      <td>46124.23045</td>\n",
              "      <td>49455.93299</td>\n",
              "      <td>56567.89582</td>\n",
              "      <td>74455.28754</td>\n",
              "      <td>64623.22395</td>\n",
              "      <td>54786.01938</td>\n",
              "      <td>NaN</td>\n",
              "      <td>53590.8548</td>\n",
              "    </tr>\n",
              "  </tbody>\n",
              "</table>\n",
              "<p>5 rows × 49 columns</p>\n",
              "</div>\n",
              "    <div class=\"colab-df-buttons\">\n",
              "\n",
              "  <div class=\"colab-df-container\">\n",
              "    <button class=\"colab-df-convert\" onclick=\"convertToInteractive('df-446df58f-43ed-4c69-b674-45f6e7355c5e')\"\n",
              "            title=\"Convert this dataframe to an interactive table.\"\n",
              "            style=\"display:none;\">\n",
              "\n",
              "  <svg xmlns=\"http://www.w3.org/2000/svg\" height=\"24px\" viewBox=\"0 -960 960 960\">\n",
              "    <path d=\"M120-120v-720h720v720H120Zm60-500h600v-160H180v160Zm220 220h160v-160H400v160Zm0 220h160v-160H400v160ZM180-400h160v-160H180v160Zm440 0h160v-160H620v160ZM180-180h160v-160H180v160Zm440 0h160v-160H620v160Z\"/>\n",
              "  </svg>\n",
              "    </button>\n",
              "\n",
              "  <style>\n",
              "    .colab-df-container {\n",
              "      display:flex;\n",
              "      gap: 12px;\n",
              "    }\n",
              "\n",
              "    .colab-df-convert {\n",
              "      background-color: #E8F0FE;\n",
              "      border: none;\n",
              "      border-radius: 50%;\n",
              "      cursor: pointer;\n",
              "      display: none;\n",
              "      fill: #1967D2;\n",
              "      height: 32px;\n",
              "      padding: 0 0 0 0;\n",
              "      width: 32px;\n",
              "    }\n",
              "\n",
              "    .colab-df-convert:hover {\n",
              "      background-color: #E2EBFA;\n",
              "      box-shadow: 0px 1px 2px rgba(60, 64, 67, 0.3), 0px 1px 3px 1px rgba(60, 64, 67, 0.15);\n",
              "      fill: #174EA6;\n",
              "    }\n",
              "\n",
              "    .colab-df-buttons div {\n",
              "      margin-bottom: 4px;\n",
              "    }\n",
              "\n",
              "    [theme=dark] .colab-df-convert {\n",
              "      background-color: #3B4455;\n",
              "      fill: #D2E3FC;\n",
              "    }\n",
              "\n",
              "    [theme=dark] .colab-df-convert:hover {\n",
              "      background-color: #434B5C;\n",
              "      box-shadow: 0px 1px 3px 1px rgba(0, 0, 0, 0.15);\n",
              "      filter: drop-shadow(0px 1px 2px rgba(0, 0, 0, 0.3));\n",
              "      fill: #FFFFFF;\n",
              "    }\n",
              "  </style>\n",
              "\n",
              "    <script>\n",
              "      const buttonEl =\n",
              "        document.querySelector('#df-446df58f-43ed-4c69-b674-45f6e7355c5e button.colab-df-convert');\n",
              "      buttonEl.style.display =\n",
              "        google.colab.kernel.accessAllowed ? 'block' : 'none';\n",
              "\n",
              "      async function convertToInteractive(key) {\n",
              "        const element = document.querySelector('#df-446df58f-43ed-4c69-b674-45f6e7355c5e');\n",
              "        const dataTable =\n",
              "          await google.colab.kernel.invokeFunction('convertToInteractive',\n",
              "                                                    [key], {});\n",
              "        if (!dataTable) return;\n",
              "\n",
              "        const docLinkHtml = 'Like what you see? Visit the ' +\n",
              "          '<a target=\"_blank\" href=https://colab.research.google.com/notebooks/data_table.ipynb>data table notebook</a>'\n",
              "          + ' to learn more about interactive tables.';\n",
              "        element.innerHTML = '';\n",
              "        dataTable['output_type'] = 'display_data';\n",
              "        await google.colab.output.renderOutput(dataTable, element);\n",
              "        const docLink = document.createElement('div');\n",
              "        docLink.innerHTML = docLinkHtml;\n",
              "        element.appendChild(docLink);\n",
              "      }\n",
              "    </script>\n",
              "  </div>\n",
              "\n",
              "\n",
              "<div id=\"df-bba8e77a-4297-4efe-aad7-270bb8fb06d6\">\n",
              "  <button class=\"colab-df-quickchart\" onclick=\"quickchart('df-bba8e77a-4297-4efe-aad7-270bb8fb06d6')\"\n",
              "            title=\"Suggest charts.\"\n",
              "            style=\"display:none;\">\n",
              "\n",
              "<svg xmlns=\"http://www.w3.org/2000/svg\" height=\"24px\"viewBox=\"0 0 24 24\"\n",
              "     width=\"24px\">\n",
              "    <g>\n",
              "        <path d=\"M19 3H5c-1.1 0-2 .9-2 2v14c0 1.1.9 2 2 2h14c1.1 0 2-.9 2-2V5c0-1.1-.9-2-2-2zM9 17H7v-7h2v7zm4 0h-2V7h2v10zm4 0h-2v-4h2v4z\"/>\n",
              "    </g>\n",
              "</svg>\n",
              "  </button>\n",
              "\n",
              "<style>\n",
              "  .colab-df-quickchart {\n",
              "      --bg-color: #E8F0FE;\n",
              "      --fill-color: #1967D2;\n",
              "      --hover-bg-color: #E2EBFA;\n",
              "      --hover-fill-color: #174EA6;\n",
              "      --disabled-fill-color: #AAA;\n",
              "      --disabled-bg-color: #DDD;\n",
              "  }\n",
              "\n",
              "  [theme=dark] .colab-df-quickchart {\n",
              "      --bg-color: #3B4455;\n",
              "      --fill-color: #D2E3FC;\n",
              "      --hover-bg-color: #434B5C;\n",
              "      --hover-fill-color: #FFFFFF;\n",
              "      --disabled-bg-color: #3B4455;\n",
              "      --disabled-fill-color: #666;\n",
              "  }\n",
              "\n",
              "  .colab-df-quickchart {\n",
              "    background-color: var(--bg-color);\n",
              "    border: none;\n",
              "    border-radius: 50%;\n",
              "    cursor: pointer;\n",
              "    display: none;\n",
              "    fill: var(--fill-color);\n",
              "    height: 32px;\n",
              "    padding: 0;\n",
              "    width: 32px;\n",
              "  }\n",
              "\n",
              "  .colab-df-quickchart:hover {\n",
              "    background-color: var(--hover-bg-color);\n",
              "    box-shadow: 0 1px 2px rgba(60, 64, 67, 0.3), 0 1px 3px 1px rgba(60, 64, 67, 0.15);\n",
              "    fill: var(--button-hover-fill-color);\n",
              "  }\n",
              "\n",
              "  .colab-df-quickchart-complete:disabled,\n",
              "  .colab-df-quickchart-complete:disabled:hover {\n",
              "    background-color: var(--disabled-bg-color);\n",
              "    fill: var(--disabled-fill-color);\n",
              "    box-shadow: none;\n",
              "  }\n",
              "\n",
              "  .colab-df-spinner {\n",
              "    border: 2px solid var(--fill-color);\n",
              "    border-color: transparent;\n",
              "    border-bottom-color: var(--fill-color);\n",
              "    animation:\n",
              "      spin 1s steps(1) infinite;\n",
              "  }\n",
              "\n",
              "  @keyframes spin {\n",
              "    0% {\n",
              "      border-color: transparent;\n",
              "      border-bottom-color: var(--fill-color);\n",
              "      border-left-color: var(--fill-color);\n",
              "    }\n",
              "    20% {\n",
              "      border-color: transparent;\n",
              "      border-left-color: var(--fill-color);\n",
              "      border-top-color: var(--fill-color);\n",
              "    }\n",
              "    30% {\n",
              "      border-color: transparent;\n",
              "      border-left-color: var(--fill-color);\n",
              "      border-top-color: var(--fill-color);\n",
              "      border-right-color: var(--fill-color);\n",
              "    }\n",
              "    40% {\n",
              "      border-color: transparent;\n",
              "      border-right-color: var(--fill-color);\n",
              "      border-top-color: var(--fill-color);\n",
              "    }\n",
              "    60% {\n",
              "      border-color: transparent;\n",
              "      border-right-color: var(--fill-color);\n",
              "    }\n",
              "    80% {\n",
              "      border-color: transparent;\n",
              "      border-right-color: var(--fill-color);\n",
              "      border-bottom-color: var(--fill-color);\n",
              "    }\n",
              "    90% {\n",
              "      border-color: transparent;\n",
              "      border-bottom-color: var(--fill-color);\n",
              "    }\n",
              "  }\n",
              "</style>\n",
              "\n",
              "  <script>\n",
              "    async function quickchart(key) {\n",
              "      const quickchartButtonEl =\n",
              "        document.querySelector('#' + key + ' button');\n",
              "      quickchartButtonEl.disabled = true;  // To prevent multiple clicks.\n",
              "      quickchartButtonEl.classList.add('colab-df-spinner');\n",
              "      try {\n",
              "        const charts = await google.colab.kernel.invokeFunction(\n",
              "            'suggestCharts', [key], {});\n",
              "      } catch (error) {\n",
              "        console.error('Error during call to suggestCharts:', error);\n",
              "      }\n",
              "      quickchartButtonEl.classList.remove('colab-df-spinner');\n",
              "      quickchartButtonEl.classList.add('colab-df-quickchart-complete');\n",
              "    }\n",
              "    (() => {\n",
              "      let quickchartButtonEl =\n",
              "        document.querySelector('#df-bba8e77a-4297-4efe-aad7-270bb8fb06d6 button');\n",
              "      quickchartButtonEl.style.display =\n",
              "        google.colab.kernel.accessAllowed ? 'block' : 'none';\n",
              "    })();\n",
              "  </script>\n",
              "</div>\n",
              "    </div>\n",
              "  </div>\n"
            ]
          },
          "metadata": {},
          "execution_count": 358
        }
      ]
    },
    {
      "cell_type": "markdown",
      "metadata": {
        "id": "tE9Sqt9-oAta"
      },
      "source": [
        "**2.2. Cleaning the data**\n",
        "\n",
        "You might find you need to transpose your dataframe, check out what its row indexes are, and reset the index. You  also might find you need to assign the values of the first row to your column headings  . (Hint: recall the .columns feature of DataFrames, as well as the iloc[] method).\n",
        "\n",
        "Don't be afraid to use StackOverflow for help  with this."
      ]
    },
    {
      "cell_type": "code",
      "metadata": {
        "id": "cdAu1A3YoH_r"
      },
      "source": [
        "# transposing dataframe so rows become columns and columns become rows\n",
        "properties = properties.transpose()"
      ],
      "execution_count": 359,
      "outputs": []
    },
    {
      "cell_type": "code",
      "source": [
        "# setting first row to be the column headings\n",
        "header = properties.iloc[0]\n",
        "properties = properties[1:]\n",
        "properties.columns = header"
      ],
      "metadata": {
        "id": "r-L9wmnobxP2"
      },
      "execution_count": 360,
      "outputs": []
    },
    {
      "cell_type": "code",
      "source": [
        "# resetting index values\n",
        "properties = properties.reset_index()"
      ],
      "metadata": {
        "id": "6TsUXNsdb8IL"
      },
      "execution_count": 361,
      "outputs": []
    },
    {
      "cell_type": "markdown",
      "metadata": {
        "id": "o1uLbJAsoIjK"
      },
      "source": [
        "**2.3. Cleaning the data (part 2)**\n",
        "\n",
        "You might we have to **rename** a couple columns. How do you do this? The clue's pretty bold..."
      ]
    },
    {
      "cell_type": "code",
      "metadata": {
        "id": "GKkmn1AnoVZS"
      },
      "source": [
        "# renaming borough column and borough code column\n",
        "# NaT column could not be renamed unless converted to string first\n",
        "properties.columns = properties.columns.astype(str)\n",
        "properties = properties.rename(columns={'index':'borough',\n",
        "                                        'NaT':'id'})"
      ],
      "execution_count": 362,
      "outputs": []
    },
    {
      "cell_type": "code",
      "source": [
        "# stripping column names of ' 00:00:00'\n",
        "new_column_names = [column.strip(' 00:00:00') for column in properties.columns]\n",
        "properties.columns = new_column_names\n",
        "\n",
        "# I realized later that this is unneccessary because datetime accessor dt works either way, but it makes column names more readable so I'm keeping it"
      ],
      "metadata": {
        "id": "4Hp0UACsyppT"
      },
      "execution_count": 363,
      "outputs": []
    },
    {
      "cell_type": "markdown",
      "metadata": {
        "id": "jy8BzXHmoWEw"
      },
      "source": [
        "**2.4.Transforming the data**\n",
        "\n",
        "Remember what Wes McKinney said about tidy data?\n",
        "\n",
        "You might need to **melt** your DataFrame here."
      ]
    },
    {
      "cell_type": "code",
      "metadata": {
        "id": "S2wM0qLuo2Zt"
      },
      "source": [
        "# unpivoting the table using .melt() method\n",
        "properties = properties.melt(id_vars=['borough','id'],\n",
        "                             var_name='date',\n",
        "                             value_name='avg_price')"
      ],
      "execution_count": 364,
      "outputs": []
    },
    {
      "cell_type": "markdown",
      "metadata": {
        "id": "7kIsgAo7o3mf"
      },
      "source": [
        "Remember to make sure your column data types are all correct. Average prices, for example, should be floating point numbers..."
      ]
    },
    {
      "cell_type": "code",
      "metadata": {
        "id": "ZcR4IHbcpOaq"
      },
      "source": [
        "# converts all values in avg_price column to floating point numbers\n",
        "properties['avg_price'] = properties['avg_price'].apply(lambda x: float(x))\n",
        "\n",
        "# while we're at it - converting all values in date column to datetimelike values - doing this retroactively because I run into an error later while trying to use .dt.year accessor\n",
        "properties['date'] = pd.to_datetime(properties['date'])"
      ],
      "execution_count": 365,
      "outputs": []
    },
    {
      "cell_type": "code",
      "source": [
        "# confirming that conversion to floats and datetimes was successful\n",
        "properties.dtypes"
      ],
      "metadata": {
        "colab": {
          "base_uri": "https://localhost:8080/"
        },
        "id": "rVYSOKzw5NuX",
        "outputId": "d5671b41-aefb-41cb-97b3-56cbcf756fda"
      },
      "execution_count": 366,
      "outputs": [
        {
          "output_type": "execute_result",
          "data": {
            "text/plain": [
              "borough              object\n",
              "id                   object\n",
              "date         datetime64[ns]\n",
              "avg_price           float64\n",
              "dtype: object"
            ]
          },
          "metadata": {},
          "execution_count": 366
        }
      ]
    },
    {
      "cell_type": "markdown",
      "metadata": {
        "id": "knLUXHLypOtw"
      },
      "source": [
        "**2.5. Cleaning the data (part 3)**\n",
        "\n",
        "Do we have an equal number of observations in the ID, Average Price, Month, and London Borough columns? Remember that there are only 32 London Boroughs. How many entries do you have in that column?\n",
        "\n",
        "Check out the contents of the London Borough column, and if you find null values, get rid of them however you see fit."
      ]
    },
    {
      "cell_type": "code",
      "metadata": {
        "id": "BnvTW5a3p0fC",
        "colab": {
          "base_uri": "https://localhost:8080/"
        },
        "outputId": "a78afb2c-08bd-46a2-d61d-aa858b603a1e"
      },
      "source": [
        "# checking for number of unique boroughs in our borough column\n",
        "properties.nunique()"
      ],
      "execution_count": 367,
      "outputs": [
        {
          "output_type": "execute_result",
          "data": {
            "text/plain": [
              "borough         48\n",
              "id              45\n",
              "date           343\n",
              "avg_price    15435\n",
              "dtype: int64"
            ]
          },
          "metadata": {},
          "execution_count": 367
        }
      ]
    },
    {
      "cell_type": "code",
      "source": [
        "# there are 48 boroughs listed but there should be 32\n",
        "# checking names of boroughs in case any stand out\n",
        "properties['borough'].unique()"
      ],
      "metadata": {
        "colab": {
          "base_uri": "https://localhost:8080/"
        },
        "id": "-n9Vlys-6wED",
        "outputId": "496fe791-dcc7-4451-c089-194ad4044037"
      },
      "execution_count": 368,
      "outputs": [
        {
          "output_type": "execute_result",
          "data": {
            "text/plain": [
              "array(['City of London', 'Barking & Dagenham', 'Barnet', 'Bexley',\n",
              "       'Brent', 'Bromley', 'Camden', 'Croydon', 'Ealing', 'Enfield',\n",
              "       'Greenwich', 'Hackney', 'Hammersmith & Fulham', 'Haringey',\n",
              "       'Harrow', 'Havering', 'Hillingdon', 'Hounslow', 'Islington',\n",
              "       'Kensington & Chelsea', 'Kingston upon Thames', 'Lambeth',\n",
              "       'Lewisham', 'Merton', 'Newham', 'Redbridge',\n",
              "       'Richmond upon Thames', 'Southwark', 'Sutton', 'Tower Hamlets',\n",
              "       'Waltham Forest', 'Wandsworth', 'Westminster', 'Unnamed: 34',\n",
              "       'Inner London', 'Outer London', 'Unnamed: 37', 'NORTH EAST',\n",
              "       'NORTH WEST', 'YORKS & THE HUMBER', 'EAST MIDLANDS',\n",
              "       'WEST MIDLANDS', 'EAST OF ENGLAND', 'LONDON', 'SOUTH EAST',\n",
              "       'SOUTH WEST', 'Unnamed: 47', 'England'], dtype=object)"
            ]
          },
          "metadata": {},
          "execution_count": 368
        }
      ]
    },
    {
      "cell_type": "code",
      "source": [
        "# 16 boroughs don't seem to fit in - this would account for the difference between expected number of boroughs (32) and observed number of boroughs (48)\n",
        "questionable_borough_names = ['City of London','Unnamed: 34', 'Inner London', 'Outer London', 'Unnamed: 37', 'NORTH EAST', 'NORTH WEST', 'YORKS & THE HUMBER', 'EAST MIDLANDS', 'WEST MIDLANDS', 'EAST OF ENGLAND', 'LONDON', 'SOUTH EAST', 'SOUTH WEST', 'Unnamed: 47', 'England']\n",
        "\n",
        "# filtering out questionably named boroughs\n",
        "properties = properties.query('borough not in @questionable_borough_names') # can use variables within a query using @ symbol\n",
        "properties.nunique()"
      ],
      "metadata": {
        "colab": {
          "base_uri": "https://localhost:8080/"
        },
        "id": "KytNmvG07YNC",
        "outputId": "765832b9-1555-4aa7-b60b-297e92daa8a5"
      },
      "execution_count": 369,
      "outputs": [
        {
          "output_type": "execute_result",
          "data": {
            "text/plain": [
              "borough         32\n",
              "id              32\n",
              "date           343\n",
              "avg_price    10976\n",
              "dtype: int64"
            ]
          },
          "metadata": {},
          "execution_count": 369
        }
      ]
    },
    {
      "cell_type": "code",
      "source": [
        "# checking for any remaining null values\n",
        "properties.isna().any()\n",
        "\n",
        "# no missing values"
      ],
      "metadata": {
        "colab": {
          "base_uri": "https://localhost:8080/"
        },
        "id": "YKYnyJe09qKm",
        "outputId": "b5a1cdc1-2913-4cb8-bb5e-48e31e7146c5"
      },
      "execution_count": 370,
      "outputs": [
        {
          "output_type": "execute_result",
          "data": {
            "text/plain": [
              "borough      False\n",
              "id           False\n",
              "date         False\n",
              "avg_price    False\n",
              "dtype: bool"
            ]
          },
          "metadata": {},
          "execution_count": 370
        }
      ]
    },
    {
      "cell_type": "code",
      "source": [
        "# properties DataFrame is looking clean now\n",
        "properties"
      ],
      "metadata": {
        "colab": {
          "base_uri": "https://localhost:8080/",
          "height": 424
        },
        "id": "wHOcASV2B5Jn",
        "outputId": "76832cd0-d3b7-48c5-e528-429cc09fe0c5"
      },
      "execution_count": 371,
      "outputs": [
        {
          "output_type": "execute_result",
          "data": {
            "text/plain": [
              "                  borough         id       date     avg_price\n",
              "1      Barking & Dagenham  E09000002 1995-01-01   50460.22660\n",
              "2                  Barnet  E09000003 1995-01-01   93284.51832\n",
              "3                  Bexley  E09000004 1995-01-01   64958.09036\n",
              "4                   Brent  E09000005 1995-01-01   71306.56698\n",
              "5                 Bromley  E09000006 1995-01-01   81671.47692\n",
              "...                   ...        ...        ...           ...\n",
              "16444              Sutton  E09000029 2023-07-01  434203.00000\n",
              "16445       Tower Hamlets  E09000030 2023-07-01  475243.00000\n",
              "16446      Waltham Forest  E09000031 2023-07-01  496615.00000\n",
              "16447          Wandsworth  E09000032 2023-07-01  632895.00000\n",
              "16448         Westminster  E09000033 2023-07-01  954356.00000\n",
              "\n",
              "[10976 rows x 4 columns]"
            ],
            "text/html": [
              "\n",
              "  <div id=\"df-56a66815-0e7b-4b66-9ab6-04fe372c9f76\" class=\"colab-df-container\">\n",
              "    <div>\n",
              "<style scoped>\n",
              "    .dataframe tbody tr th:only-of-type {\n",
              "        vertical-align: middle;\n",
              "    }\n",
              "\n",
              "    .dataframe tbody tr th {\n",
              "        vertical-align: top;\n",
              "    }\n",
              "\n",
              "    .dataframe thead th {\n",
              "        text-align: right;\n",
              "    }\n",
              "</style>\n",
              "<table border=\"1\" class=\"dataframe\">\n",
              "  <thead>\n",
              "    <tr style=\"text-align: right;\">\n",
              "      <th></th>\n",
              "      <th>borough</th>\n",
              "      <th>id</th>\n",
              "      <th>date</th>\n",
              "      <th>avg_price</th>\n",
              "    </tr>\n",
              "  </thead>\n",
              "  <tbody>\n",
              "    <tr>\n",
              "      <th>1</th>\n",
              "      <td>Barking &amp; Dagenham</td>\n",
              "      <td>E09000002</td>\n",
              "      <td>1995-01-01</td>\n",
              "      <td>50460.22660</td>\n",
              "    </tr>\n",
              "    <tr>\n",
              "      <th>2</th>\n",
              "      <td>Barnet</td>\n",
              "      <td>E09000003</td>\n",
              "      <td>1995-01-01</td>\n",
              "      <td>93284.51832</td>\n",
              "    </tr>\n",
              "    <tr>\n",
              "      <th>3</th>\n",
              "      <td>Bexley</td>\n",
              "      <td>E09000004</td>\n",
              "      <td>1995-01-01</td>\n",
              "      <td>64958.09036</td>\n",
              "    </tr>\n",
              "    <tr>\n",
              "      <th>4</th>\n",
              "      <td>Brent</td>\n",
              "      <td>E09000005</td>\n",
              "      <td>1995-01-01</td>\n",
              "      <td>71306.56698</td>\n",
              "    </tr>\n",
              "    <tr>\n",
              "      <th>5</th>\n",
              "      <td>Bromley</td>\n",
              "      <td>E09000006</td>\n",
              "      <td>1995-01-01</td>\n",
              "      <td>81671.47692</td>\n",
              "    </tr>\n",
              "    <tr>\n",
              "      <th>...</th>\n",
              "      <td>...</td>\n",
              "      <td>...</td>\n",
              "      <td>...</td>\n",
              "      <td>...</td>\n",
              "    </tr>\n",
              "    <tr>\n",
              "      <th>16444</th>\n",
              "      <td>Sutton</td>\n",
              "      <td>E09000029</td>\n",
              "      <td>2023-07-01</td>\n",
              "      <td>434203.00000</td>\n",
              "    </tr>\n",
              "    <tr>\n",
              "      <th>16445</th>\n",
              "      <td>Tower Hamlets</td>\n",
              "      <td>E09000030</td>\n",
              "      <td>2023-07-01</td>\n",
              "      <td>475243.00000</td>\n",
              "    </tr>\n",
              "    <tr>\n",
              "      <th>16446</th>\n",
              "      <td>Waltham Forest</td>\n",
              "      <td>E09000031</td>\n",
              "      <td>2023-07-01</td>\n",
              "      <td>496615.00000</td>\n",
              "    </tr>\n",
              "    <tr>\n",
              "      <th>16447</th>\n",
              "      <td>Wandsworth</td>\n",
              "      <td>E09000032</td>\n",
              "      <td>2023-07-01</td>\n",
              "      <td>632895.00000</td>\n",
              "    </tr>\n",
              "    <tr>\n",
              "      <th>16448</th>\n",
              "      <td>Westminster</td>\n",
              "      <td>E09000033</td>\n",
              "      <td>2023-07-01</td>\n",
              "      <td>954356.00000</td>\n",
              "    </tr>\n",
              "  </tbody>\n",
              "</table>\n",
              "<p>10976 rows × 4 columns</p>\n",
              "</div>\n",
              "    <div class=\"colab-df-buttons\">\n",
              "\n",
              "  <div class=\"colab-df-container\">\n",
              "    <button class=\"colab-df-convert\" onclick=\"convertToInteractive('df-56a66815-0e7b-4b66-9ab6-04fe372c9f76')\"\n",
              "            title=\"Convert this dataframe to an interactive table.\"\n",
              "            style=\"display:none;\">\n",
              "\n",
              "  <svg xmlns=\"http://www.w3.org/2000/svg\" height=\"24px\" viewBox=\"0 -960 960 960\">\n",
              "    <path d=\"M120-120v-720h720v720H120Zm60-500h600v-160H180v160Zm220 220h160v-160H400v160Zm0 220h160v-160H400v160ZM180-400h160v-160H180v160Zm440 0h160v-160H620v160ZM180-180h160v-160H180v160Zm440 0h160v-160H620v160Z\"/>\n",
              "  </svg>\n",
              "    </button>\n",
              "\n",
              "  <style>\n",
              "    .colab-df-container {\n",
              "      display:flex;\n",
              "      gap: 12px;\n",
              "    }\n",
              "\n",
              "    .colab-df-convert {\n",
              "      background-color: #E8F0FE;\n",
              "      border: none;\n",
              "      border-radius: 50%;\n",
              "      cursor: pointer;\n",
              "      display: none;\n",
              "      fill: #1967D2;\n",
              "      height: 32px;\n",
              "      padding: 0 0 0 0;\n",
              "      width: 32px;\n",
              "    }\n",
              "\n",
              "    .colab-df-convert:hover {\n",
              "      background-color: #E2EBFA;\n",
              "      box-shadow: 0px 1px 2px rgba(60, 64, 67, 0.3), 0px 1px 3px 1px rgba(60, 64, 67, 0.15);\n",
              "      fill: #174EA6;\n",
              "    }\n",
              "\n",
              "    .colab-df-buttons div {\n",
              "      margin-bottom: 4px;\n",
              "    }\n",
              "\n",
              "    [theme=dark] .colab-df-convert {\n",
              "      background-color: #3B4455;\n",
              "      fill: #D2E3FC;\n",
              "    }\n",
              "\n",
              "    [theme=dark] .colab-df-convert:hover {\n",
              "      background-color: #434B5C;\n",
              "      box-shadow: 0px 1px 3px 1px rgba(0, 0, 0, 0.15);\n",
              "      filter: drop-shadow(0px 1px 2px rgba(0, 0, 0, 0.3));\n",
              "      fill: #FFFFFF;\n",
              "    }\n",
              "  </style>\n",
              "\n",
              "    <script>\n",
              "      const buttonEl =\n",
              "        document.querySelector('#df-56a66815-0e7b-4b66-9ab6-04fe372c9f76 button.colab-df-convert');\n",
              "      buttonEl.style.display =\n",
              "        google.colab.kernel.accessAllowed ? 'block' : 'none';\n",
              "\n",
              "      async function convertToInteractive(key) {\n",
              "        const element = document.querySelector('#df-56a66815-0e7b-4b66-9ab6-04fe372c9f76');\n",
              "        const dataTable =\n",
              "          await google.colab.kernel.invokeFunction('convertToInteractive',\n",
              "                                                    [key], {});\n",
              "        if (!dataTable) return;\n",
              "\n",
              "        const docLinkHtml = 'Like what you see? Visit the ' +\n",
              "          '<a target=\"_blank\" href=https://colab.research.google.com/notebooks/data_table.ipynb>data table notebook</a>'\n",
              "          + ' to learn more about interactive tables.';\n",
              "        element.innerHTML = '';\n",
              "        dataTable['output_type'] = 'display_data';\n",
              "        await google.colab.output.renderOutput(dataTable, element);\n",
              "        const docLink = document.createElement('div');\n",
              "        docLink.innerHTML = docLinkHtml;\n",
              "        element.appendChild(docLink);\n",
              "      }\n",
              "    </script>\n",
              "  </div>\n",
              "\n",
              "\n",
              "<div id=\"df-a1f2e01f-ce94-43c8-af07-423be51dfc3e\">\n",
              "  <button class=\"colab-df-quickchart\" onclick=\"quickchart('df-a1f2e01f-ce94-43c8-af07-423be51dfc3e')\"\n",
              "            title=\"Suggest charts.\"\n",
              "            style=\"display:none;\">\n",
              "\n",
              "<svg xmlns=\"http://www.w3.org/2000/svg\" height=\"24px\"viewBox=\"0 0 24 24\"\n",
              "     width=\"24px\">\n",
              "    <g>\n",
              "        <path d=\"M19 3H5c-1.1 0-2 .9-2 2v14c0 1.1.9 2 2 2h14c1.1 0 2-.9 2-2V5c0-1.1-.9-2-2-2zM9 17H7v-7h2v7zm4 0h-2V7h2v10zm4 0h-2v-4h2v4z\"/>\n",
              "    </g>\n",
              "</svg>\n",
              "  </button>\n",
              "\n",
              "<style>\n",
              "  .colab-df-quickchart {\n",
              "      --bg-color: #E8F0FE;\n",
              "      --fill-color: #1967D2;\n",
              "      --hover-bg-color: #E2EBFA;\n",
              "      --hover-fill-color: #174EA6;\n",
              "      --disabled-fill-color: #AAA;\n",
              "      --disabled-bg-color: #DDD;\n",
              "  }\n",
              "\n",
              "  [theme=dark] .colab-df-quickchart {\n",
              "      --bg-color: #3B4455;\n",
              "      --fill-color: #D2E3FC;\n",
              "      --hover-bg-color: #434B5C;\n",
              "      --hover-fill-color: #FFFFFF;\n",
              "      --disabled-bg-color: #3B4455;\n",
              "      --disabled-fill-color: #666;\n",
              "  }\n",
              "\n",
              "  .colab-df-quickchart {\n",
              "    background-color: var(--bg-color);\n",
              "    border: none;\n",
              "    border-radius: 50%;\n",
              "    cursor: pointer;\n",
              "    display: none;\n",
              "    fill: var(--fill-color);\n",
              "    height: 32px;\n",
              "    padding: 0;\n",
              "    width: 32px;\n",
              "  }\n",
              "\n",
              "  .colab-df-quickchart:hover {\n",
              "    background-color: var(--hover-bg-color);\n",
              "    box-shadow: 0 1px 2px rgba(60, 64, 67, 0.3), 0 1px 3px 1px rgba(60, 64, 67, 0.15);\n",
              "    fill: var(--button-hover-fill-color);\n",
              "  }\n",
              "\n",
              "  .colab-df-quickchart-complete:disabled,\n",
              "  .colab-df-quickchart-complete:disabled:hover {\n",
              "    background-color: var(--disabled-bg-color);\n",
              "    fill: var(--disabled-fill-color);\n",
              "    box-shadow: none;\n",
              "  }\n",
              "\n",
              "  .colab-df-spinner {\n",
              "    border: 2px solid var(--fill-color);\n",
              "    border-color: transparent;\n",
              "    border-bottom-color: var(--fill-color);\n",
              "    animation:\n",
              "      spin 1s steps(1) infinite;\n",
              "  }\n",
              "\n",
              "  @keyframes spin {\n",
              "    0% {\n",
              "      border-color: transparent;\n",
              "      border-bottom-color: var(--fill-color);\n",
              "      border-left-color: var(--fill-color);\n",
              "    }\n",
              "    20% {\n",
              "      border-color: transparent;\n",
              "      border-left-color: var(--fill-color);\n",
              "      border-top-color: var(--fill-color);\n",
              "    }\n",
              "    30% {\n",
              "      border-color: transparent;\n",
              "      border-left-color: var(--fill-color);\n",
              "      border-top-color: var(--fill-color);\n",
              "      border-right-color: var(--fill-color);\n",
              "    }\n",
              "    40% {\n",
              "      border-color: transparent;\n",
              "      border-right-color: var(--fill-color);\n",
              "      border-top-color: var(--fill-color);\n",
              "    }\n",
              "    60% {\n",
              "      border-color: transparent;\n",
              "      border-right-color: var(--fill-color);\n",
              "    }\n",
              "    80% {\n",
              "      border-color: transparent;\n",
              "      border-right-color: var(--fill-color);\n",
              "      border-bottom-color: var(--fill-color);\n",
              "    }\n",
              "    90% {\n",
              "      border-color: transparent;\n",
              "      border-bottom-color: var(--fill-color);\n",
              "    }\n",
              "  }\n",
              "</style>\n",
              "\n",
              "  <script>\n",
              "    async function quickchart(key) {\n",
              "      const quickchartButtonEl =\n",
              "        document.querySelector('#' + key + ' button');\n",
              "      quickchartButtonEl.disabled = true;  // To prevent multiple clicks.\n",
              "      quickchartButtonEl.classList.add('colab-df-spinner');\n",
              "      try {\n",
              "        const charts = await google.colab.kernel.invokeFunction(\n",
              "            'suggestCharts', [key], {});\n",
              "      } catch (error) {\n",
              "        console.error('Error during call to suggestCharts:', error);\n",
              "      }\n",
              "      quickchartButtonEl.classList.remove('colab-df-spinner');\n",
              "      quickchartButtonEl.classList.add('colab-df-quickchart-complete');\n",
              "    }\n",
              "    (() => {\n",
              "      let quickchartButtonEl =\n",
              "        document.querySelector('#df-a1f2e01f-ce94-43c8-af07-423be51dfc3e button');\n",
              "      quickchartButtonEl.style.display =\n",
              "        google.colab.kernel.accessAllowed ? 'block' : 'none';\n",
              "    })();\n",
              "  </script>\n",
              "</div>\n",
              "    </div>\n",
              "  </div>\n"
            ]
          },
          "metadata": {},
          "execution_count": 371
        }
      ]
    },
    {
      "cell_type": "markdown",
      "metadata": {
        "id": "PGEx6mJsp6dG"
      },
      "source": [
        "**2.6. Visualizing the data**\n",
        "\n",
        "To visualize the data, why not subset on a particular London Borough? Maybe do a line plot of Month against Average Price?"
      ]
    },
    {
      "cell_type": "code",
      "metadata": {
        "id": "nAg5pT9cqHAR",
        "colab": {
          "base_uri": "https://localhost:8080/",
          "height": 493
        },
        "outputId": "d151fe08-f36c-4226-e7bf-df5f8c341680"
      },
      "source": [
        "# subsetting for bexley, lineplotting avg_price vs date\n",
        "bexley = properties[properties['borough'] == 'Bexley']\n",
        "bexley.plot(x='date',\n",
        "            y='avg_price',\n",
        "            kind='line',\n",
        "            rot=45)\n",
        "plt.ylabel('price')\n",
        "plt.title(\"Average Housing Price in Bexley, London\")\n",
        "plt.show()"
      ],
      "execution_count": 372,
      "outputs": [
        {
          "output_type": "display_data",
          "data": {
            "text/plain": [
              "<Figure size 640x480 with 1 Axes>"
            ],
            "image/png": "[encoded data removed]"
          },
          "metadata": {}
        }
      ]
    },
    {
      "cell_type": "markdown",
      "metadata": {
        "id": "aWTPqSJeqHnC"
      },
      "source": [
        "To limit the number of data points you have, you might want to extract the year from every month value your *Month* column.\n",
        "\n",
        "To this end, you *could* apply a ***lambda function***. Your logic could work as follows:\n",
        "1. look through the `Month` column\n",
        "2. extract the year from each individual value in that column\n",
        "3. store that corresponding year as separate column.\n",
        "\n",
        "Whether you go ahead with this is up to you. Just so long as you answer our initial brief: which boroughs of London have seen the greatest house price increase, on average, over the past two decades?"
      ]
    },
    {
      "cell_type": "code",
      "metadata": {
        "id": "e0DF92cyqnu8"
      },
      "source": [
        "# my date column IS a month column - it's just called date.. the dates are stored monthly - I was confused for a moment\n",
        "properties['year'] = properties['date'].apply(lambda x: x.year)"
      ],
      "execution_count": 373,
      "outputs": []
    },
    {
      "cell_type": "code",
      "source": [
        "# creating same plot from newly created year column\n",
        "bexley = properties[properties['borough'] == 'Bexley']\n",
        "bexley.plot(x='year',y='avg_price',kind='line',rot=45)\n",
        "plt.ylabel('price')\n",
        "plt.title(\"Average Housing Price in Bexley, London by Year\")\n",
        "plt.show()\n",
        "\n",
        "# certainly \"limits the number of data points we have\" but I don't see why that's helpful"
      ],
      "metadata": {
        "colab": {
          "base_uri": "https://localhost:8080/",
          "height": 493
        },
        "id": "1k9BSKbgMwXG",
        "outputId": "f6eee349-eff8-49d9-b32d-9a0192992f57"
      },
      "execution_count": 374,
      "outputs": [
        {
          "output_type": "display_data",
          "data": {
            "text/plain": [
              "<Figure size 640x480 with 1 Axes>"
            ],
            "image/png": "[encoded data removed]"
          },
          "metadata": {}
        }
      ]
    },
    {
      "cell_type": "markdown",
      "metadata": {
        "id": "2knuTxAEqoJ4"
      },
      "source": [
        "**3. Modeling**\n",
        "\n",
        "Consider creating a function that will calculate a ratio of house prices, comparing the price of a house in 2018 to the price in 1998.\n",
        "\n",
        "Consider calling this function create_price_ratio.\n",
        "\n",
        "You'd want this function to:\n",
        "1. Take a filter of dfg, specifically where this filter constrains the London_Borough, as an argument. For example, one admissible argument should be: dfg[dfg['London_Borough']=='Camden'].\n",
        "2. Get the Average Price for that Borough, for the years 1998 and 2018.\n",
        "4. Calculate the ratio of the Average Price for 1998 divided by the Average Price for 2018.\n",
        "5. Return that ratio.\n",
        "\n",
        "Once you've written this function, you ultimately want to use it to iterate through all the unique London_Boroughs and work out the ratio capturing the difference of house prices between 1998 and 2018.\n",
        "\n",
        "Bear in mind: you don't have to write a function like this if you don't want to. If you can solve the brief otherwise, then great!\n",
        "\n",
        "***Hint***: This section should test the skills you acquired in:\n",
        "- Python Data Science Toolbox - Part One, all modules"
      ]
    },
    {
      "cell_type": "code",
      "metadata": {
        "id": "cKTyr437UgDa"
      },
      "source": [
        "# creating function to calculate house price ratio\n",
        "def create_price_ratio(df,borough):\n",
        "\n",
        "  borough_data = df[df['borough'] == borough] # selects only rows from the borough we want\n",
        "  borough_data_by_year = borough_data.groupby('year')['avg_price'].mean() # mean avg_price for each borough for each year\n",
        "  #print(borough_data_by_year)\n",
        "\n",
        "  avg_price_1998 = borough_data_by_year[1998]\n",
        "  avg_price_2018 = borough_data_by_year[2018]\n",
        "\n",
        "  ratio = avg_price_1998 / avg_price_2018\n",
        "\n",
        "  return ratio"
      ],
      "execution_count": 375,
      "outputs": []
    },
    {
      "cell_type": "code",
      "source": [
        "# create empty dictionary for storage of boroughs' price ratio information\n",
        "dict_borough_ratios = {}\n",
        "\n",
        "# looping through each borough and storing borough and price ratio into our dictionary\n",
        "for borough in properties['borough'].unique():\n",
        "  dict_borough_ratios[borough] = create_price_ratio(properties,borough)"
      ],
      "metadata": {
        "id": "M6vKdp-2RLMK"
      },
      "execution_count": 376,
      "outputs": []
    },
    {
      "cell_type": "code",
      "source": [
        "# turning dictionary into data frame -> index was required because we're using all scalar values\n",
        "borough_ratios = pd.DataFrame(dict_borough_ratios, index=['price_ratio'])"
      ],
      "metadata": {
        "id": "ceOELQg6XLmo"
      },
      "execution_count": 377,
      "outputs": []
    },
    {
      "cell_type": "code",
      "source": [
        "# swapping columns and rows to make it more readable\n",
        "borough_ratios = borough_ratios.transpose()"
      ],
      "metadata": {
        "id": "Xg0wu8Nlao1H"
      },
      "execution_count": 378,
      "outputs": []
    },
    {
      "cell_type": "code",
      "source": [
        "# sorting by price ratio we can see the boroughs with the lowest ratios - these are the boroughs that saw the greatest housing price increases, on average between 1998 and 2018\n",
        "borough_ratios.sort_values('price_ratio',ascending=True).head()"
      ],
      "metadata": {
        "colab": {
          "base_uri": "https://localhost:8080/",
          "height": 206
        },
        "id": "5TMqIwkWbBtR",
        "outputId": "fdb9f896-93b5-4933-d778-12f5972382d9"
      },
      "execution_count": 379,
      "outputs": [
        {
          "output_type": "execute_result",
          "data": {
            "text/plain": [
              "                price_ratio\n",
              "Hackney            0.161335\n",
              "Waltham Forest     0.171387\n",
              "Southwark          0.181275\n",
              "Lewisham           0.183512\n",
              "Westminster        0.186791"
            ],
            "text/html": [
              "\n",
              "  <div id=\"df-a009cac5-cf70-4e04-9bc7-0c8bfabc0f44\" class=\"colab-df-container\">\n",
              "    <div>\n",
              "<style scoped>\n",
              "    .dataframe tbody tr th:only-of-type {\n",
              "        vertical-align: middle;\n",
              "    }\n",
              "\n",
              "    .dataframe tbody tr th {\n",
              "        vertical-align: top;\n",
              "    }\n",
              "\n",
              "    .dataframe thead th {\n",
              "        text-align: right;\n",
              "    }\n",
              "</style>\n",
              "<table border=\"1\" class=\"dataframe\">\n",
              "  <thead>\n",
              "    <tr style=\"text-align: right;\">\n",
              "      <th></th>\n",
              "      <th>price_ratio</th>\n",
              "    </tr>\n",
              "  </thead>\n",
              "  <tbody>\n",
              "    <tr>\n",
              "      <th>Hackney</th>\n",
              "      <td>0.161335</td>\n",
              "    </tr>\n",
              "    <tr>\n",
              "      <th>Waltham Forest</th>\n",
              "      <td>0.171387</td>\n",
              "    </tr>\n",
              "    <tr>\n",
              "      <th>Southwark</th>\n",
              "      <td>0.181275</td>\n",
              "    </tr>\n",
              "    <tr>\n",
              "      <th>Lewisham</th>\n",
              "      <td>0.183512</td>\n",
              "    </tr>\n",
              "    <tr>\n",
              "      <th>Westminster</th>\n",
              "      <td>0.186791</td>\n",
              "    </tr>\n",
              "  </tbody>\n",
              "</table>\n",
              "</div>\n",
              "    <div class=\"colab-df-buttons\">\n",
              "\n",
              "  <div class=\"colab-df-container\">\n",
              "    <button class=\"colab-df-convert\" onclick=\"convertToInteractive('df-a009cac5-cf70-4e04-9bc7-0c8bfabc0f44')\"\n",
              "            title=\"Convert this dataframe to an interactive table.\"\n",
              "            style=\"display:none;\">\n",
              "\n",
              "  <svg xmlns=\"http://www.w3.org/2000/svg\" height=\"24px\" viewBox=\"0 -960 960 960\">\n",
              "    <path d=\"M120-120v-720h720v720H120Zm60-500h600v-160H180v160Zm220 220h160v-160H400v160Zm0 220h160v-160H400v160ZM180-400h160v-160H180v160Zm440 0h160v-160H620v160ZM180-180h160v-160H180v160Zm440 0h160v-160H620v160Z\"/>\n",
              "  </svg>\n",
              "    </button>\n",
              "\n",
              "  <style>\n",
              "    .colab-df-container {\n",
              "      display:flex;\n",
              "      gap: 12px;\n",
              "    }\n",
              "\n",
              "    .colab-df-convert {\n",
              "      background-color: #E8F0FE;\n",
              "      border: none;\n",
              "      border-radius: 50%;\n",
              "      cursor: pointer;\n",
              "      display: none;\n",
              "      fill: #1967D2;\n",
              "      height: 32px;\n",
              "      padding: 0 0 0 0;\n",
              "      width: 32px;\n",
              "    }\n",
              "\n",
              "    .colab-df-convert:hover {\n",
              "      background-color: #E2EBFA;\n",
              "      box-shadow: 0px 1px 2px rgba(60, 64, 67, 0.3), 0px 1px 3px 1px rgba(60, 64, 67, 0.15);\n",
              "      fill: #174EA6;\n",
              "    }\n",
              "\n",
              "    .colab-df-buttons div {\n",
              "      margin-bottom: 4px;\n",
              "    }\n",
              "\n",
              "    [theme=dark] .colab-df-convert {\n",
              "      background-color: #3B4455;\n",
              "      fill: #D2E3FC;\n",
              "    }\n",
              "\n",
              "    [theme=dark] .colab-df-convert:hover {\n",
              "      background-color: #434B5C;\n",
              "      box-shadow: 0px 1px 3px 1px rgba(0, 0, 0, 0.15);\n",
              "      filter: drop-shadow(0px 1px 2px rgba(0, 0, 0, 0.3));\n",
              "      fill: #FFFFFF;\n",
              "    }\n",
              "  </style>\n",
              "\n",
              "    <script>\n",
              "      const buttonEl =\n",
              "        document.querySelector('#df-a009cac5-cf70-4e04-9bc7-0c8bfabc0f44 button.colab-df-convert');\n",
              "      buttonEl.style.display =\n",
              "        google.colab.kernel.accessAllowed ? 'block' : 'none';\n",
              "\n",
              "      async function convertToInteractive(key) {\n",
              "        const element = document.querySelector('#df-a009cac5-cf70-4e04-9bc7-0c8bfabc0f44');\n",
              "        const dataTable =\n",
              "          await google.colab.kernel.invokeFunction('convertToInteractive',\n",
              "                                                    [key], {});\n",
              "        if (!dataTable) return;\n",
              "\n",
              "        const docLinkHtml = 'Like what you see? Visit the ' +\n",
              "          '<a target=\"_blank\" href=https://colab.research.google.com/notebooks/data_table.ipynb>data table notebook</a>'\n",
              "          + ' to learn more about interactive tables.';\n",
              "        element.innerHTML = '';\n",
              "        dataTable['output_type'] = 'display_data';\n",
              "        await google.colab.output.renderOutput(dataTable, element);\n",
              "        const docLink = document.createElement('div');\n",
              "        docLink.innerHTML = docLinkHtml;\n",
              "        element.appendChild(docLink);\n",
              "      }\n",
              "    </script>\n",
              "  </div>\n",
              "\n",
              "\n",
              "<div id=\"df-d4f992e6-bd77-401f-b3e4-1f7f30224208\">\n",
              "  <button class=\"colab-df-quickchart\" onclick=\"quickchart('df-d4f992e6-bd77-401f-b3e4-1f7f30224208')\"\n",
              "            title=\"Suggest charts.\"\n",
              "            style=\"display:none;\">\n",
              "\n",
              "<svg xmlns=\"http://www.w3.org/2000/svg\" height=\"24px\"viewBox=\"0 0 24 24\"\n",
              "     width=\"24px\">\n",
              "    <g>\n",
              "        <path d=\"M19 3H5c-1.1 0-2 .9-2 2v14c0 1.1.9 2 2 2h14c1.1 0 2-.9 2-2V5c0-1.1-.9-2-2-2zM9 17H7v-7h2v7zm4 0h-2V7h2v10zm4 0h-2v-4h2v4z\"/>\n",
              "    </g>\n",
              "</svg>\n",
              "  </button>\n",
              "\n",
              "<style>\n",
              "  .colab-df-quickchart {\n",
              "      --bg-color: #E8F0FE;\n",
              "      --fill-color: #1967D2;\n",
              "      --hover-bg-color: #E2EBFA;\n",
              "      --hover-fill-color: #174EA6;\n",
              "      --disabled-fill-color: #AAA;\n",
              "      --disabled-bg-color: #DDD;\n",
              "  }\n",
              "\n",
              "  [theme=dark] .colab-df-quickchart {\n",
              "      --bg-color: #3B4455;\n",
              "      --fill-color: #D2E3FC;\n",
              "      --hover-bg-color: #434B5C;\n",
              "      --hover-fill-color: #FFFFFF;\n",
              "      --disabled-bg-color: #3B4455;\n",
              "      --disabled-fill-color: #666;\n",
              "  }\n",
              "\n",
              "  .colab-df-quickchart {\n",
              "    background-color: var(--bg-color);\n",
              "    border: none;\n",
              "    border-radius: 50%;\n",
              "    cursor: pointer;\n",
              "    display: none;\n",
              "    fill: var(--fill-color);\n",
              "    height: 32px;\n",
              "    padding: 0;\n",
              "    width: 32px;\n",
              "  }\n",
              "\n",
              "  .colab-df-quickchart:hover {\n",
              "    background-color: var(--hover-bg-color);\n",
              "    box-shadow: 0 1px 2px rgba(60, 64, 67, 0.3), 0 1px 3px 1px rgba(60, 64, 67, 0.15);\n",
              "    fill: var(--button-hover-fill-color);\n",
              "  }\n",
              "\n",
              "  .colab-df-quickchart-complete:disabled,\n",
              "  .colab-df-quickchart-complete:disabled:hover {\n",
              "    background-color: var(--disabled-bg-color);\n",
              "    fill: var(--disabled-fill-color);\n",
              "    box-shadow: none;\n",
              "  }\n",
              "\n",
              "  .colab-df-spinner {\n",
              "    border: 2px solid var(--fill-color);\n",
              "    border-color: transparent;\n",
              "    border-bottom-color: var(--fill-color);\n",
              "    animation:\n",
              "      spin 1s steps(1) infinite;\n",
              "  }\n",
              "\n",
              "  @keyframes spin {\n",
              "    0% {\n",
              "      border-color: transparent;\n",
              "      border-bottom-color: var(--fill-color);\n",
              "      border-left-color: var(--fill-color);\n",
              "    }\n",
              "    20% {\n",
              "      border-color: transparent;\n",
              "      border-left-color: var(--fill-color);\n",
              "      border-top-color: var(--fill-color);\n",
              "    }\n",
              "    30% {\n",
              "      border-color: transparent;\n",
              "      border-left-color: var(--fill-color);\n",
              "      border-top-color: var(--fill-color);\n",
              "      border-right-color: var(--fill-color);\n",
              "    }\n",
              "    40% {\n",
              "      border-color: transparent;\n",
              "      border-right-color: var(--fill-color);\n",
              "      border-top-color: var(--fill-color);\n",
              "    }\n",
              "    60% {\n",
              "      border-color: transparent;\n",
              "      border-right-color: var(--fill-color);\n",
              "    }\n",
              "    80% {\n",
              "      border-color: transparent;\n",
              "      border-right-color: var(--fill-color);\n",
              "      border-bottom-color: var(--fill-color);\n",
              "    }\n",
              "    90% {\n",
              "      border-color: transparent;\n",
              "      border-bottom-color: var(--fill-color);\n",
              "    }\n",
              "  }\n",
              "</style>\n",
              "\n",
              "  <script>\n",
              "    async function quickchart(key) {\n",
              "      const quickchartButtonEl =\n",
              "        document.querySelector('#' + key + ' button');\n",
              "      quickchartButtonEl.disabled = true;  // To prevent multiple clicks.\n",
              "      quickchartButtonEl.classList.add('colab-df-spinner');\n",
              "      try {\n",
              "        const charts = await google.colab.kernel.invokeFunction(\n",
              "            'suggestCharts', [key], {});\n",
              "      } catch (error) {\n",
              "        console.error('Error during call to suggestCharts:', error);\n",
              "      }\n",
              "      quickchartButtonEl.classList.remove('colab-df-spinner');\n",
              "      quickchartButtonEl.classList.add('colab-df-quickchart-complete');\n",
              "    }\n",
              "    (() => {\n",
              "      let quickchartButtonEl =\n",
              "        document.querySelector('#df-d4f992e6-bd77-401f-b3e4-1f7f30224208 button');\n",
              "      quickchartButtonEl.style.display =\n",
              "        google.colab.kernel.accessAllowed ? 'block' : 'none';\n",
              "    })();\n",
              "  </script>\n",
              "</div>\n",
              "    </div>\n",
              "  </div>\n"
            ]
          },
          "metadata": {},
          "execution_count": 379
        }
      ]
    },
    {
      "cell_type": "markdown",
      "metadata": {
        "id": "NzYUI7FxJpgv"
      },
      "source": [
        "### 4. Conclusion\n",
        "What can you conclude? Type out your conclusion below.\n",
        "\n",
        "Look back at your notebook. Think about how you might summarize what you have done, and prepare a quick presentation on it to your mentor at your next meeting.\n",
        "\n",
        "We hope you enjoyed this practical project. It should have consolidated your data hygiene and pandas skills by looking at a real-world problem involving just the kind of dataset you might encounter as a budding data scientist. Congratulations, and looking forward to seeing you at the next step in the course!"
      ]
    },
    {
      "cell_type": "code",
      "source": [
        "\"\"\"\n",
        "We can conclude that the borough of London that saw the greatest increase in housing price, on average, between 1998 and 2018 was Hackney.\n",
        "\"\"\""
      ],
      "metadata": {
        "colab": {
          "base_uri": "https://localhost:8080/",
          "height": 35
        },
        "id": "qt6HANthcnZJ",
        "outputId": "8ebb1206-d67f-4bf1-be86-697f50781b47"
      },
      "execution_count": 381,
      "outputs": [
        {
          "output_type": "execute_result",
          "data": {
            "text/plain": [
              "'\\nWe can conclude that the borough of London that saw the greatest increase in housing price, on average, between 1998 and 2018 was Hackney. \\n'"
            ],
            "application/vnd.google.colaboratory.intrinsic+json": {
              "type": "string"
            }
          },
          "metadata": {},
          "execution_count": 381
        }
      ]
    }
  ]
}