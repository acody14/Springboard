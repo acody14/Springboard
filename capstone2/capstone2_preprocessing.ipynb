{
 "cells": [
  {
   "cell_type": "code",
   "execution_count": 1,
   "id": "7b476946",
   "metadata": {},
   "outputs": [],
   "source": [
    "# 1. Create dummy or indicator features for categorical variables\n",
    "# 2. Split your data into testing and training datasets\n",
    "# 3. Standardize the magnitude of numeric features using a scaler"
   ]
  },
  {
   "cell_type": "markdown",
   "id": "3631ab93",
   "metadata": {},
   "source": [
    "# Capstone 2 Preprocessing\n",
    "## NBA Salary Predictor and Trade Suggestion\n",
    "## Austin Cody\n",
    "From previous notebook we learned that our best features are age, points_pg, 3_pointers_pg, 2_pointers_pg, free_throws_pg, assists_pg, and minutes_pg.\n",
    "Domain knowledge let's us avoid multicollinearity by removing all attempts columns, field_goals_pg, and turnovers_pg as features that came up previously to avoid multicollinearity."
   ]
  },
  {
   "cell_type": "code",
   "execution_count": 2,
   "id": "d23e93aa",
   "metadata": {},
   "outputs": [],
   "source": [
    "import pandas as pd\n",
    "import matplotlib.pyplot as plt\n",
    "from sklearn.model_selection import train_test_split\n",
    "\n",
    "# increasing the number of displayable columns to better examine all dummy variables \n",
    "pd.set_option('display.max_columns', 63)\n",
    "pd.set_option('display.max_rows', 63)"
   ]
  },
  {
   "cell_type": "code",
   "execution_count": 3,
   "id": "de25e269",
   "metadata": {},
   "outputs": [],
   "source": [
    "df = pd.read_csv('nba_salaries_cleaned.csv')"
   ]
  },
  {
   "cell_type": "code",
   "execution_count": 4,
   "id": "6279e419",
   "metadata": {},
   "outputs": [
    {
     "data": {
      "text/html": [
       "<div>\n",
       "<style scoped>\n",
       "    .dataframe tbody tr th:only-of-type {\n",
       "        vertical-align: middle;\n",
       "    }\n",
       "\n",
       "    .dataframe tbody tr th {\n",
       "        vertical-align: top;\n",
       "    }\n",
       "\n",
       "    .dataframe thead th {\n",
       "        text-align: right;\n",
       "    }\n",
       "</style>\n",
       "<table border=\"1\" class=\"dataframe\">\n",
       "  <thead>\n",
       "    <tr style=\"text-align: right;\">\n",
       "      <th></th>\n",
       "      <th>name</th>\n",
       "      <th>salary</th>\n",
       "      <th>position</th>\n",
       "      <th>age</th>\n",
       "      <th>team</th>\n",
       "      <th>games_played</th>\n",
       "      <th>games_started</th>\n",
       "      <th>minutes_pg</th>\n",
       "      <th>field_goals_pg</th>\n",
       "      <th>field_goal_attempts_pg</th>\n",
       "      <th>field_goal_%</th>\n",
       "      <th>3_pointers_pg</th>\n",
       "      <th>3_point_attempts_pg</th>\n",
       "      <th>3_point_%</th>\n",
       "      <th>2_pointers_pg</th>\n",
       "      <th>2_point_attempts_pg</th>\n",
       "      <th>2_point_%</th>\n",
       "      <th>effective_field_goal_%</th>\n",
       "      <th>free_throws_pg</th>\n",
       "      <th>free_throw_attempts_pg</th>\n",
       "      <th>free_throw_%</th>\n",
       "      <th>o_rebounds_pg</th>\n",
       "      <th>d_rebounds_pg</th>\n",
       "      <th>total_rebounds_pg</th>\n",
       "      <th>assists_pg</th>\n",
       "      <th>steals_pg</th>\n",
       "      <th>blocks_pg</th>\n",
       "      <th>turnovers_pg</th>\n",
       "      <th>personal_fouls_pg</th>\n",
       "      <th>points_pg</th>\n",
       "    </tr>\n",
       "  </thead>\n",
       "  <tbody>\n",
       "    <tr>\n",
       "      <th>0</th>\n",
       "      <td>Stephen Curry</td>\n",
       "      <td>48070014</td>\n",
       "      <td>['PG']</td>\n",
       "      <td>34</td>\n",
       "      <td>['GSW']</td>\n",
       "      <td>56</td>\n",
       "      <td>56</td>\n",
       "      <td>34.7</td>\n",
       "      <td>10.0</td>\n",
       "      <td>20.2</td>\n",
       "      <td>0.493</td>\n",
       "      <td>4.9</td>\n",
       "      <td>11.4</td>\n",
       "      <td>0.427</td>\n",
       "      <td>5.1</td>\n",
       "      <td>8.8</td>\n",
       "      <td>0.579</td>\n",
       "      <td>0.614</td>\n",
       "      <td>4.6</td>\n",
       "      <td>5.0</td>\n",
       "      <td>0.915</td>\n",
       "      <td>0.7</td>\n",
       "      <td>5.4</td>\n",
       "      <td>6.1</td>\n",
       "      <td>6.3</td>\n",
       "      <td>0.9</td>\n",
       "      <td>0.4</td>\n",
       "      <td>3.2</td>\n",
       "      <td>2.1</td>\n",
       "      <td>29.4</td>\n",
       "    </tr>\n",
       "    <tr>\n",
       "      <th>1</th>\n",
       "      <td>John Wall</td>\n",
       "      <td>47345760</td>\n",
       "      <td>['PG']</td>\n",
       "      <td>32</td>\n",
       "      <td>['LAC']</td>\n",
       "      <td>34</td>\n",
       "      <td>3</td>\n",
       "      <td>22.2</td>\n",
       "      <td>4.1</td>\n",
       "      <td>9.9</td>\n",
       "      <td>0.408</td>\n",
       "      <td>1.0</td>\n",
       "      <td>3.2</td>\n",
       "      <td>0.303</td>\n",
       "      <td>3.1</td>\n",
       "      <td>6.7</td>\n",
       "      <td>0.459</td>\n",
       "      <td>0.457</td>\n",
       "      <td>2.3</td>\n",
       "      <td>3.3</td>\n",
       "      <td>0.681</td>\n",
       "      <td>0.4</td>\n",
       "      <td>2.3</td>\n",
       "      <td>2.7</td>\n",
       "      <td>5.2</td>\n",
       "      <td>0.8</td>\n",
       "      <td>0.4</td>\n",
       "      <td>2.4</td>\n",
       "      <td>1.7</td>\n",
       "      <td>11.4</td>\n",
       "    </tr>\n",
       "    <tr>\n",
       "      <th>2</th>\n",
       "      <td>Russell Westbrook</td>\n",
       "      <td>47080179</td>\n",
       "      <td>['PG']</td>\n",
       "      <td>34</td>\n",
       "      <td>['LAL', 'LAC']</td>\n",
       "      <td>73</td>\n",
       "      <td>24</td>\n",
       "      <td>29.1</td>\n",
       "      <td>5.9</td>\n",
       "      <td>13.6</td>\n",
       "      <td>0.436</td>\n",
       "      <td>1.2</td>\n",
       "      <td>3.9</td>\n",
       "      <td>0.311</td>\n",
       "      <td>4.7</td>\n",
       "      <td>9.7</td>\n",
       "      <td>0.487</td>\n",
       "      <td>0.481</td>\n",
       "      <td>2.8</td>\n",
       "      <td>4.3</td>\n",
       "      <td>0.656</td>\n",
       "      <td>1.2</td>\n",
       "      <td>4.6</td>\n",
       "      <td>5.8</td>\n",
       "      <td>7.5</td>\n",
       "      <td>1.0</td>\n",
       "      <td>0.5</td>\n",
       "      <td>3.5</td>\n",
       "      <td>2.2</td>\n",
       "      <td>15.9</td>\n",
       "    </tr>\n",
       "  </tbody>\n",
       "</table>\n",
       "</div>"
      ],
      "text/plain": [
       "                name    salary position  age            team  games_played  \\\n",
       "0      Stephen Curry  48070014   ['PG']   34         ['GSW']            56   \n",
       "1          John Wall  47345760   ['PG']   32         ['LAC']            34   \n",
       "2  Russell Westbrook  47080179   ['PG']   34  ['LAL', 'LAC']            73   \n",
       "\n",
       "   games_started  minutes_pg  field_goals_pg  field_goal_attempts_pg  \\\n",
       "0             56        34.7            10.0                    20.2   \n",
       "1              3        22.2             4.1                     9.9   \n",
       "2             24        29.1             5.9                    13.6   \n",
       "\n",
       "   field_goal_%  3_pointers_pg  3_point_attempts_pg  3_point_%  2_pointers_pg  \\\n",
       "0         0.493            4.9                 11.4      0.427            5.1   \n",
       "1         0.408            1.0                  3.2      0.303            3.1   \n",
       "2         0.436            1.2                  3.9      0.311            4.7   \n",
       "\n",
       "   2_point_attempts_pg  2_point_%  effective_field_goal_%  free_throws_pg  \\\n",
       "0                  8.8      0.579                   0.614             4.6   \n",
       "1                  6.7      0.459                   0.457             2.3   \n",
       "2                  9.7      0.487                   0.481             2.8   \n",
       "\n",
       "   free_throw_attempts_pg  free_throw_%  o_rebounds_pg  d_rebounds_pg  \\\n",
       "0                     5.0         0.915            0.7            5.4   \n",
       "1                     3.3         0.681            0.4            2.3   \n",
       "2                     4.3         0.656            1.2            4.6   \n",
       "\n",
       "   total_rebounds_pg  assists_pg  steals_pg  blocks_pg  turnovers_pg  \\\n",
       "0                6.1         6.3        0.9        0.4           3.2   \n",
       "1                2.7         5.2        0.8        0.4           2.4   \n",
       "2                5.8         7.5        1.0        0.5           3.5   \n",
       "\n",
       "   personal_fouls_pg  points_pg  \n",
       "0                2.1       29.4  \n",
       "1                1.7       11.4  \n",
       "2                2.2       15.9  "
      ]
     },
     "execution_count": 4,
     "metadata": {},
     "output_type": "execute_result"
    }
   ],
   "source": [
    "df.head(3)"
   ]
  },
  {
   "cell_type": "code",
   "execution_count": null,
   "id": "2c1d6437",
   "metadata": {},
   "outputs": [],
   "source": []
  },
  {
   "cell_type": "markdown",
   "id": "7d5c0519",
   "metadata": {},
   "source": [
    "## Dummy Variable Creation\n",
    "1. converting categorical data into lists because some rows belong to multiple classes in each category\n",
    "2. creating dummy variables\n",
    "3. concatenating dummy variables to our original dataframe and removing the original categorical columns"
   ]
  },
  {
   "cell_type": "code",
   "execution_count": 5,
   "id": "8c68811a",
   "metadata": {},
   "outputs": [
    {
     "name": "stdout",
     "output_type": "stream",
     "text": [
      "<class 'str'> <class 'str'>\n"
     ]
    }
   ],
   "source": [
    "# our categorical variables were an issue before due to the conversion of list objects to strings\n",
    "# during the dataframe to .csv process.\n",
    "print(type(df['position'].iloc[0]), type(df['team'].iloc[0]))"
   ]
  },
  {
   "cell_type": "code",
   "execution_count": 6,
   "id": "7032b945",
   "metadata": {},
   "outputs": [],
   "source": [
    "# converting strings back into lists\n",
    "# eval() function concisely converts strings formatted as '['team1','team2']' back into a list object\n",
    "df['position'] = df['position'].apply(eval)\n",
    "df['team'] = df['team'].apply(eval)"
   ]
  },
  {
   "cell_type": "code",
   "execution_count": 7,
   "id": "4e69012f",
   "metadata": {},
   "outputs": [
    {
     "name": "stdout",
     "output_type": "stream",
     "text": [
      "<class 'list'> <class 'list'>\n"
     ]
    }
   ],
   "source": [
    "# confirming our position and team columns are now list objects\n",
    "print(type(df['position'].iloc[0]), type(df['team'].iloc[0]))"
   ]
  },
  {
   "cell_type": "code",
   "execution_count": 8,
   "id": "4ba30c4d",
   "metadata": {},
   "outputs": [],
   "source": [
    "# because each category is a list I need to handle pd.get_dummies differently:\n",
    "# 1. turn the list objects into Series\n",
    "# 2. stack it to change it from wide format to long format\n",
    "# 3. adding team prefix (this part is standard)\n",
    "# 4. groupby(level=0) gets around the multi indexing\n",
    "team_dummies = pd.get_dummies(df['team'].apply(pd.Series).stack(), prefix='team').groupby(level=0).sum()"
   ]
  },
  {
   "cell_type": "code",
   "execution_count": 9,
   "id": "2d0e02e4",
   "metadata": {},
   "outputs": [
    {
     "data": {
      "text/html": [
       "<div>\n",
       "<style scoped>\n",
       "    .dataframe tbody tr th:only-of-type {\n",
       "        vertical-align: middle;\n",
       "    }\n",
       "\n",
       "    .dataframe tbody tr th {\n",
       "        vertical-align: top;\n",
       "    }\n",
       "\n",
       "    .dataframe thead th {\n",
       "        text-align: right;\n",
       "    }\n",
       "</style>\n",
       "<table border=\"1\" class=\"dataframe\">\n",
       "  <thead>\n",
       "    <tr style=\"text-align: right;\">\n",
       "      <th></th>\n",
       "      <th>name</th>\n",
       "      <th>position</th>\n",
       "      <th>team</th>\n",
       "    </tr>\n",
       "  </thead>\n",
       "  <tbody>\n",
       "    <tr>\n",
       "      <th>58</th>\n",
       "      <td>Mikal Bridges</td>\n",
       "      <td>[SF, SG]</td>\n",
       "      <td>[BRK, PHO]</td>\n",
       "    </tr>\n",
       "  </tbody>\n",
       "</table>\n",
       "</div>"
      ],
      "text/plain": [
       "             name  position        team\n",
       "58  Mikal Bridges  [SF, SG]  [BRK, PHO]"
      ]
     },
     "execution_count": 9,
     "metadata": {},
     "output_type": "execute_result"
    }
   ],
   "source": [
    "# finding player with 2 positions and 2 teams for verification of dummy variables\n",
    "df[df['name'] == 'Mikal Bridges'][['name','position','team']]\n",
    "# noting index of 58"
   ]
  },
  {
   "cell_type": "code",
   "execution_count": 10,
   "id": "505d6230",
   "metadata": {},
   "outputs": [
    {
     "name": "stdout",
     "output_type": "stream",
     "text": [
      "team_BRK    1\n",
      "team_PHO    1\n",
      "Name: 58, dtype: int64\n"
     ]
    },
    {
     "data": {
      "text/html": [
       "<div>\n",
       "<style scoped>\n",
       "    .dataframe tbody tr th:only-of-type {\n",
       "        vertical-align: middle;\n",
       "    }\n",
       "\n",
       "    .dataframe tbody tr th {\n",
       "        vertical-align: top;\n",
       "    }\n",
       "\n",
       "    .dataframe thead th {\n",
       "        text-align: right;\n",
       "    }\n",
       "</style>\n",
       "<table border=\"1\" class=\"dataframe\">\n",
       "  <thead>\n",
       "    <tr style=\"text-align: right;\">\n",
       "      <th></th>\n",
       "      <th>team_ATL</th>\n",
       "      <th>team_BOS</th>\n",
       "      <th>team_BRK</th>\n",
       "      <th>team_CHI</th>\n",
       "      <th>team_CHO</th>\n",
       "      <th>team_CLE</th>\n",
       "      <th>team_DAL</th>\n",
       "      <th>team_DEN</th>\n",
       "      <th>team_DET</th>\n",
       "      <th>team_GSW</th>\n",
       "      <th>team_HOU</th>\n",
       "      <th>team_IND</th>\n",
       "      <th>team_LAC</th>\n",
       "      <th>team_LAL</th>\n",
       "      <th>team_MEM</th>\n",
       "      <th>team_MIA</th>\n",
       "      <th>team_MIL</th>\n",
       "      <th>team_MIN</th>\n",
       "      <th>team_NOP</th>\n",
       "      <th>team_NYK</th>\n",
       "      <th>team_OKC</th>\n",
       "      <th>team_ORL</th>\n",
       "      <th>team_PHI</th>\n",
       "      <th>team_PHO</th>\n",
       "      <th>team_POR</th>\n",
       "      <th>team_SAC</th>\n",
       "      <th>team_SAS</th>\n",
       "      <th>team_TOR</th>\n",
       "      <th>team_UTA</th>\n",
       "      <th>team_WAS</th>\n",
       "    </tr>\n",
       "  </thead>\n",
       "  <tbody>\n",
       "    <tr>\n",
       "      <th>0</th>\n",
       "      <td>0</td>\n",
       "      <td>0</td>\n",
       "      <td>0</td>\n",
       "      <td>0</td>\n",
       "      <td>0</td>\n",
       "      <td>0</td>\n",
       "      <td>0</td>\n",
       "      <td>0</td>\n",
       "      <td>0</td>\n",
       "      <td>1</td>\n",
       "      <td>0</td>\n",
       "      <td>0</td>\n",
       "      <td>0</td>\n",
       "      <td>0</td>\n",
       "      <td>0</td>\n",
       "      <td>0</td>\n",
       "      <td>0</td>\n",
       "      <td>0</td>\n",
       "      <td>0</td>\n",
       "      <td>0</td>\n",
       "      <td>0</td>\n",
       "      <td>0</td>\n",
       "      <td>0</td>\n",
       "      <td>0</td>\n",
       "      <td>0</td>\n",
       "      <td>0</td>\n",
       "      <td>0</td>\n",
       "      <td>0</td>\n",
       "      <td>0</td>\n",
       "      <td>0</td>\n",
       "    </tr>\n",
       "    <tr>\n",
       "      <th>1</th>\n",
       "      <td>0</td>\n",
       "      <td>0</td>\n",
       "      <td>0</td>\n",
       "      <td>0</td>\n",
       "      <td>0</td>\n",
       "      <td>0</td>\n",
       "      <td>0</td>\n",
       "      <td>0</td>\n",
       "      <td>0</td>\n",
       "      <td>0</td>\n",
       "      <td>0</td>\n",
       "      <td>0</td>\n",
       "      <td>1</td>\n",
       "      <td>0</td>\n",
       "      <td>0</td>\n",
       "      <td>0</td>\n",
       "      <td>0</td>\n",
       "      <td>0</td>\n",
       "      <td>0</td>\n",
       "      <td>0</td>\n",
       "      <td>0</td>\n",
       "      <td>0</td>\n",
       "      <td>0</td>\n",
       "      <td>0</td>\n",
       "      <td>0</td>\n",
       "      <td>0</td>\n",
       "      <td>0</td>\n",
       "      <td>0</td>\n",
       "      <td>0</td>\n",
       "      <td>0</td>\n",
       "    </tr>\n",
       "    <tr>\n",
       "      <th>2</th>\n",
       "      <td>0</td>\n",
       "      <td>0</td>\n",
       "      <td>0</td>\n",
       "      <td>0</td>\n",
       "      <td>0</td>\n",
       "      <td>0</td>\n",
       "      <td>0</td>\n",
       "      <td>0</td>\n",
       "      <td>0</td>\n",
       "      <td>0</td>\n",
       "      <td>0</td>\n",
       "      <td>0</td>\n",
       "      <td>1</td>\n",
       "      <td>1</td>\n",
       "      <td>0</td>\n",
       "      <td>0</td>\n",
       "      <td>0</td>\n",
       "      <td>0</td>\n",
       "      <td>0</td>\n",
       "      <td>0</td>\n",
       "      <td>0</td>\n",
       "      <td>0</td>\n",
       "      <td>0</td>\n",
       "      <td>0</td>\n",
       "      <td>0</td>\n",
       "      <td>0</td>\n",
       "      <td>0</td>\n",
       "      <td>0</td>\n",
       "      <td>0</td>\n",
       "      <td>0</td>\n",
       "    </tr>\n",
       "  </tbody>\n",
       "</table>\n",
       "</div>"
      ],
      "text/plain": [
       "   team_ATL  team_BOS  team_BRK  team_CHI  team_CHO  team_CLE  team_DAL  \\\n",
       "0         0         0         0         0         0         0         0   \n",
       "1         0         0         0         0         0         0         0   \n",
       "2         0         0         0         0         0         0         0   \n",
       "\n",
       "   team_DEN  team_DET  team_GSW  team_HOU  team_IND  team_LAC  team_LAL  \\\n",
       "0         0         0         1         0         0         0         0   \n",
       "1         0         0         0         0         0         1         0   \n",
       "2         0         0         0         0         0         1         1   \n",
       "\n",
       "   team_MEM  team_MIA  team_MIL  team_MIN  team_NOP  team_NYK  team_OKC  \\\n",
       "0         0         0         0         0         0         0         0   \n",
       "1         0         0         0         0         0         0         0   \n",
       "2         0         0         0         0         0         0         0   \n",
       "\n",
       "   team_ORL  team_PHI  team_PHO  team_POR  team_SAC  team_SAS  team_TOR  \\\n",
       "0         0         0         0         0         0         0         0   \n",
       "1         0         0         0         0         0         0         0   \n",
       "2         0         0         0         0         0         0         0   \n",
       "\n",
       "   team_UTA  team_WAS  \n",
       "0         0         0  \n",
       "1         0         0  \n",
       "2         0         0  "
      ]
     },
     "execution_count": 10,
     "metadata": {},
     "output_type": "execute_result"
    }
   ],
   "source": [
    "# examining 58th index -> player whom we know has multiple teams\n",
    "# you can see this was successful because multiple 1s appear in the third row for LAC and LAL\n",
    "print(team_dummies.iloc[58][['team_BRK','team_PHO']])\n",
    "team_dummies.head(3)"
   ]
  },
  {
   "cell_type": "code",
   "execution_count": 11,
   "id": "8a9be0bf",
   "metadata": {},
   "outputs": [
    {
     "name": "stdout",
     "output_type": "stream",
     "text": [
      "position_SF    1\n",
      "position_SG    1\n",
      "Name: 58, dtype: int64\n"
     ]
    },
    {
     "data": {
      "text/html": [
       "<div>\n",
       "<style scoped>\n",
       "    .dataframe tbody tr th:only-of-type {\n",
       "        vertical-align: middle;\n",
       "    }\n",
       "\n",
       "    .dataframe tbody tr th {\n",
       "        vertical-align: top;\n",
       "    }\n",
       "\n",
       "    .dataframe thead th {\n",
       "        text-align: right;\n",
       "    }\n",
       "</style>\n",
       "<table border=\"1\" class=\"dataframe\">\n",
       "  <thead>\n",
       "    <tr style=\"text-align: right;\">\n",
       "      <th></th>\n",
       "      <th>position_C</th>\n",
       "      <th>position_PF</th>\n",
       "      <th>position_PG</th>\n",
       "      <th>position_SF</th>\n",
       "      <th>position_SG</th>\n",
       "    </tr>\n",
       "  </thead>\n",
       "  <tbody>\n",
       "    <tr>\n",
       "      <th>0</th>\n",
       "      <td>0</td>\n",
       "      <td>0</td>\n",
       "      <td>1</td>\n",
       "      <td>0</td>\n",
       "      <td>0</td>\n",
       "    </tr>\n",
       "    <tr>\n",
       "      <th>1</th>\n",
       "      <td>0</td>\n",
       "      <td>0</td>\n",
       "      <td>1</td>\n",
       "      <td>0</td>\n",
       "      <td>0</td>\n",
       "    </tr>\n",
       "    <tr>\n",
       "      <th>2</th>\n",
       "      <td>0</td>\n",
       "      <td>0</td>\n",
       "      <td>1</td>\n",
       "      <td>0</td>\n",
       "      <td>0</td>\n",
       "    </tr>\n",
       "  </tbody>\n",
       "</table>\n",
       "</div>"
      ],
      "text/plain": [
       "   position_C  position_PF  position_PG  position_SF  position_SG\n",
       "0           0            0            1            0            0\n",
       "1           0            0            1            0            0\n",
       "2           0            0            1            0            0"
      ]
     },
     "execution_count": 11,
     "metadata": {},
     "output_type": "execute_result"
    }
   ],
   "source": [
    "# repeating for position\n",
    "position_dummies = pd.get_dummies(df['position'].apply(pd.Series).stack(), prefix='position').groupby(level=0).sum()\n",
    "print(position_dummies.iloc[58][['position_SF','position_SG']])\n",
    "position_dummies.head(3)"
   ]
  },
  {
   "cell_type": "code",
   "execution_count": 12,
   "id": "099a7f48",
   "metadata": {},
   "outputs": [],
   "source": [
    "#concatenating with original dataframe and dropping original categorical columns:\n",
    "df_dummies = pd.concat([df, position_dummies, team_dummies], axis=1)\n",
    "df_dummies = df_dummies.drop(['position','team'], axis=1)"
   ]
  },
  {
   "cell_type": "code",
   "execution_count": 13,
   "id": "3b0b3793",
   "metadata": {},
   "outputs": [
    {
     "data": {
      "text/html": [
       "<div>\n",
       "<style scoped>\n",
       "    .dataframe tbody tr th:only-of-type {\n",
       "        vertical-align: middle;\n",
       "    }\n",
       "\n",
       "    .dataframe tbody tr th {\n",
       "        vertical-align: top;\n",
       "    }\n",
       "\n",
       "    .dataframe thead th {\n",
       "        text-align: right;\n",
       "    }\n",
       "</style>\n",
       "<table border=\"1\" class=\"dataframe\">\n",
       "  <thead>\n",
       "    <tr style=\"text-align: right;\">\n",
       "      <th></th>\n",
       "      <th>name</th>\n",
       "      <th>salary</th>\n",
       "      <th>age</th>\n",
       "      <th>games_played</th>\n",
       "      <th>games_started</th>\n",
       "      <th>minutes_pg</th>\n",
       "      <th>field_goals_pg</th>\n",
       "      <th>field_goal_attempts_pg</th>\n",
       "      <th>field_goal_%</th>\n",
       "      <th>3_pointers_pg</th>\n",
       "      <th>3_point_attempts_pg</th>\n",
       "      <th>3_point_%</th>\n",
       "      <th>2_pointers_pg</th>\n",
       "      <th>2_point_attempts_pg</th>\n",
       "      <th>2_point_%</th>\n",
       "      <th>effective_field_goal_%</th>\n",
       "      <th>free_throws_pg</th>\n",
       "      <th>free_throw_attempts_pg</th>\n",
       "      <th>free_throw_%</th>\n",
       "      <th>o_rebounds_pg</th>\n",
       "      <th>d_rebounds_pg</th>\n",
       "      <th>total_rebounds_pg</th>\n",
       "      <th>assists_pg</th>\n",
       "      <th>steals_pg</th>\n",
       "      <th>blocks_pg</th>\n",
       "      <th>turnovers_pg</th>\n",
       "      <th>personal_fouls_pg</th>\n",
       "      <th>points_pg</th>\n",
       "      <th>position_C</th>\n",
       "      <th>position_PF</th>\n",
       "      <th>position_PG</th>\n",
       "      <th>position_SF</th>\n",
       "      <th>position_SG</th>\n",
       "      <th>team_ATL</th>\n",
       "      <th>team_BOS</th>\n",
       "      <th>team_BRK</th>\n",
       "      <th>team_CHI</th>\n",
       "      <th>team_CHO</th>\n",
       "      <th>team_CLE</th>\n",
       "      <th>team_DAL</th>\n",
       "      <th>team_DEN</th>\n",
       "      <th>team_DET</th>\n",
       "      <th>team_GSW</th>\n",
       "      <th>team_HOU</th>\n",
       "      <th>team_IND</th>\n",
       "      <th>team_LAC</th>\n",
       "      <th>team_LAL</th>\n",
       "      <th>team_MEM</th>\n",
       "      <th>team_MIA</th>\n",
       "      <th>team_MIL</th>\n",
       "      <th>team_MIN</th>\n",
       "      <th>team_NOP</th>\n",
       "      <th>team_NYK</th>\n",
       "      <th>team_OKC</th>\n",
       "      <th>team_ORL</th>\n",
       "      <th>team_PHI</th>\n",
       "      <th>team_PHO</th>\n",
       "      <th>team_POR</th>\n",
       "      <th>team_SAC</th>\n",
       "      <th>team_SAS</th>\n",
       "      <th>team_TOR</th>\n",
       "      <th>team_UTA</th>\n",
       "      <th>team_WAS</th>\n",
       "    </tr>\n",
       "  </thead>\n",
       "  <tbody>\n",
       "    <tr>\n",
       "      <th>58</th>\n",
       "      <td>Mikal Bridges</td>\n",
       "      <td>20100000</td>\n",
       "      <td>26</td>\n",
       "      <td>83</td>\n",
       "      <td>83</td>\n",
       "      <td>35.7</td>\n",
       "      <td>7.1</td>\n",
       "      <td>15.3</td>\n",
       "      <td>0.468</td>\n",
       "      <td>2.0</td>\n",
       "      <td>5.3</td>\n",
       "      <td>0.382</td>\n",
       "      <td>5.1</td>\n",
       "      <td>9.9</td>\n",
       "      <td>0.514</td>\n",
       "      <td>0.535</td>\n",
       "      <td>3.8</td>\n",
       "      <td>4.3</td>\n",
       "      <td>0.895</td>\n",
       "      <td>1.0</td>\n",
       "      <td>3.4</td>\n",
       "      <td>4.4</td>\n",
       "      <td>3.3</td>\n",
       "      <td>1.1</td>\n",
       "      <td>0.7</td>\n",
       "      <td>1.5</td>\n",
       "      <td>1.9</td>\n",
       "      <td>20.1</td>\n",
       "      <td>0</td>\n",
       "      <td>0</td>\n",
       "      <td>0</td>\n",
       "      <td>1</td>\n",
       "      <td>1</td>\n",
       "      <td>0</td>\n",
       "      <td>0</td>\n",
       "      <td>1</td>\n",
       "      <td>0</td>\n",
       "      <td>0</td>\n",
       "      <td>0</td>\n",
       "      <td>0</td>\n",
       "      <td>0</td>\n",
       "      <td>0</td>\n",
       "      <td>0</td>\n",
       "      <td>0</td>\n",
       "      <td>0</td>\n",
       "      <td>0</td>\n",
       "      <td>0</td>\n",
       "      <td>0</td>\n",
       "      <td>0</td>\n",
       "      <td>0</td>\n",
       "      <td>0</td>\n",
       "      <td>0</td>\n",
       "      <td>0</td>\n",
       "      <td>0</td>\n",
       "      <td>0</td>\n",
       "      <td>0</td>\n",
       "      <td>1</td>\n",
       "      <td>0</td>\n",
       "      <td>0</td>\n",
       "      <td>0</td>\n",
       "      <td>0</td>\n",
       "      <td>0</td>\n",
       "      <td>0</td>\n",
       "    </tr>\n",
       "  </tbody>\n",
       "</table>\n",
       "</div>"
      ],
      "text/plain": [
       "             name    salary  age  games_played  games_started  minutes_pg  \\\n",
       "58  Mikal Bridges  20100000   26            83             83        35.7   \n",
       "\n",
       "    field_goals_pg  field_goal_attempts_pg  field_goal_%  3_pointers_pg  \\\n",
       "58             7.1                    15.3         0.468            2.0   \n",
       "\n",
       "    3_point_attempts_pg  3_point_%  2_pointers_pg  2_point_attempts_pg  \\\n",
       "58                  5.3      0.382            5.1                  9.9   \n",
       "\n",
       "    2_point_%  effective_field_goal_%  free_throws_pg  free_throw_attempts_pg  \\\n",
       "58      0.514                   0.535             3.8                     4.3   \n",
       "\n",
       "    free_throw_%  o_rebounds_pg  d_rebounds_pg  total_rebounds_pg  assists_pg  \\\n",
       "58         0.895            1.0            3.4                4.4         3.3   \n",
       "\n",
       "    steals_pg  blocks_pg  turnovers_pg  personal_fouls_pg  points_pg  \\\n",
       "58        1.1        0.7           1.5                1.9       20.1   \n",
       "\n",
       "    position_C  position_PF  position_PG  position_SF  position_SG  team_ATL  \\\n",
       "58           0            0            0            1            1         0   \n",
       "\n",
       "    team_BOS  team_BRK  team_CHI  team_CHO  team_CLE  team_DAL  team_DEN  \\\n",
       "58         0         1         0         0         0         0         0   \n",
       "\n",
       "    team_DET  team_GSW  team_HOU  team_IND  team_LAC  team_LAL  team_MEM  \\\n",
       "58         0         0         0         0         0         0         0   \n",
       "\n",
       "    team_MIA  team_MIL  team_MIN  team_NOP  team_NYK  team_OKC  team_ORL  \\\n",
       "58         0         0         0         0         0         0         0   \n",
       "\n",
       "    team_PHI  team_PHO  team_POR  team_SAC  team_SAS  team_TOR  team_UTA  \\\n",
       "58         0         1         0         0         0         0         0   \n",
       "\n",
       "    team_WAS  \n",
       "58         0  "
      ]
     },
     "execution_count": 13,
     "metadata": {},
     "output_type": "execute_result"
    }
   ],
   "source": [
    "# looks good\n",
    "df_dummies[df_dummies['name'] == 'Mikal Bridges']"
   ]
  },
  {
   "cell_type": "code",
   "execution_count": 19,
   "id": "f1a8eaf1-1e43-4f83-b352-bd17e1ade8f9",
   "metadata": {},
   "outputs": [],
   "source": [
    "# saving data frame for use in modeling notebook\n",
    "df_dummies.to_csv('nba_salaries_dummies.csv', index=False)"
   ]
  },
  {
   "cell_type": "markdown",
   "id": "6032d3e2",
   "metadata": {},
   "source": [
    "## Splitting Data into Train/Test Data"
   ]
  },
  {
   "cell_type": "code",
   "execution_count": 14,
   "id": "325fef60",
   "metadata": {},
   "outputs": [],
   "source": [
    "# features from previous notebook\n",
    "features = ['age','2_pointers_pg','3_pointers_pg','free_throws_pg','assists_pg','points_pg', 'minutes_pg']\n",
    "\n",
    "X = df_dummies[features].values\n",
    "y = df_dummies['salary'].values\n",
    "\n",
    "# we don't need to stratify because this data is necessarily balanced\n",
    "X_train, X_test, y_train, y_test = train_test_split(X, y, test_size = 0.3, random_state=12)"
   ]
  },
  {
   "cell_type": "markdown",
   "id": "082a7c39",
   "metadata": {},
   "source": [
    "## Scaling Features"
   ]
  },
  {
   "cell_type": "code",
   "execution_count": 15,
   "id": "6b9c2c17",
   "metadata": {},
   "outputs": [
    {
     "data": {
      "image/png": "[encoded data removed]",
      "text/plain": [
       "<Figure size 640x480 with 1 Axes>"
      ]
     },
     "metadata": {},
     "output_type": "display_data"
    },
    {
     "data": {
      "image/png": "[encoded data removed]",
      "text/plain": [
       "<Figure size 640x480 with 1 Axes>"
      ]
     },
     "metadata": {},
     "output_type": "display_data"
    },
    {
     "data": {
      "image/png": "[encoded data removed]",
      "text/plain": [
       "<Figure size 640x480 with 1 Axes>"
      ]
     },
     "metadata": {},
     "output_type": "display_data"
    },
    {
     "data": {
      "image/png": "[encoded data removed]",
      "text/plain": [
       "<Figure size 640x480 with 1 Axes>"
      ]
     },
     "metadata": {},
     "output_type": "display_data"
    },
    {
     "data": {
      "image/png": "[encoded data removed]",
      "text/plain": [
       "<Figure size 640x480 with 1 Axes>"
      ]
     },
     "metadata": {},
     "output_type": "display_data"
    },
    {
     "data": {
      "image/png": "[encoded data removed]",
      "text/plain": [
       "<Figure size 640x480 with 1 Axes>"
      ]
     },
     "metadata": {},
     "output_type": "display_data"
    },
    {
     "data": {
      "image/png": "[encoded data removed]",
      "text/plain": [
       "<Figure size 640x480 with 1 Axes>"
      ]
     },
     "metadata": {},
     "output_type": "display_data"
    }
   ],
   "source": [
    "# features from previous notebook\n",
    "for i in features:\n",
    "    plt.hist(df[i], bins=20)\n",
    "    plt.ylabel('{}'.format(i))\n",
    "    plt.title('Histogram of nba player {}'.format(i))\n",
    "    plt.show()\n",
    "\n",
    "#since the data is right skewed I think a log transformation using PowerTransformer() would be best"
   ]
  },
  {
   "cell_type": "code",
   "execution_count": 16,
   "id": "8de0a8be",
   "metadata": {},
   "outputs": [],
   "source": [
    "from sklearn.preprocessing import PowerTransformer, StandardScaler\n",
    "\n",
    "# transforming data using a log transformation\n",
    "log = PowerTransformer()\n",
    "X_train_logged = log.fit_transform(X_train)\n",
    "X_test_logged = log.transform(X_test)\n",
    "\n",
    "#trying with a standard scaler too\n",
    "scaler = StandardScaler()\n",
    "X_train_scaled = scaler.fit_transform(X_train)\n",
    "X_test_scaled = scaler.transform(X_test)"
   ]
  },
  {
   "cell_type": "markdown",
   "id": "eca2ab0d",
   "metadata": {},
   "source": [
    "## Testing\n",
    "Just to see if the scaling worked at all. Outside the scope of this notebook we'll do better modeling"
   ]
  },
  {
   "cell_type": "code",
   "execution_count": 17,
   "id": "dd6a1b28",
   "metadata": {},
   "outputs": [
    {
     "name": "stdout",
     "output_type": "stream",
     "text": [
      "Root Mean Squared Error: 7939877.709871792\n",
      "R-squared: 0.5335573419225739\n"
     ]
    }
   ],
   "source": [
    "#testing with a basic linear regression model on POWER TRANSFORMED data\n",
    "import numpy as np\n",
    "from sklearn.linear_model import LinearRegression\n",
    "from sklearn.metrics import mean_squared_error, mean_absolute_error, r2_score\n",
    "\n",
    "lin_reg = LinearRegression()\n",
    "lin_reg.fit(X_train_logged, y_train)\n",
    "\n",
    "y_pred = lin_reg.predict(X_test_logged)\n",
    "\n",
    "rmse = np.sqrt(mean_squared_error(y_test, y_pred))\n",
    "print(f'Root Mean Squared Error: {rmse}')\n",
    "r2 = r2_score(y_test, y_pred)\n",
    "print(f'R-squared: {r2}')"
   ]
  },
  {
   "cell_type": "code",
   "execution_count": 18,
   "id": "624d3998",
   "metadata": {},
   "outputs": [
    {
     "name": "stdout",
     "output_type": "stream",
     "text": [
      "Root Mean Squared Error: 7464872.742052903\n",
      "R-squared: 0.5876979904530617\n"
     ]
    }
   ],
   "source": [
    "#testing with a basic linear regression model on STANDARD SCALED data\n",
    "lin_reg2 = LinearRegression()\n",
    "lin_reg2.fit(X_train_scaled, y_train)\n",
    "\n",
    "y_pred2 = lin_reg2.predict(X_test_scaled)\n",
    "\n",
    "rmse2 = np.sqrt(mean_squared_error(y_test, y_pred2))\n",
    "print(f'Root Mean Squared Error: {rmse2}')\n",
    "r2_2 = r2_score(y_test, y_pred2)\n",
    "print(f'R-squared: {r2_2}')"
   ]
  },
  {
   "cell_type": "markdown",
   "id": "0abe0d08",
   "metadata": {},
   "source": [
    "## Conclusion\n",
    "### I would have assumed that using a PowerTransformer()  would be a better preprocessing technique in this case because all but one of our features are right skewed, however it appears that using a standard scaler increased model performance by 5%. Looking forward to trying out different models and making better and better predictions in the next notebook."
   ]
  }
 ],
 "metadata": {
  "kernelspec": {
   "display_name": "Python 3 (ipykernel)",
   "language": "python",
   "name": "python3"
  },
  "language_info": {
   "codemirror_mode": {
    "name": "ipython",
    "version": 3
   },
   "file_extension": ".py",
   "mimetype": "text/x-python",
   "name": "python",
   "nbconvert_exporter": "python",
   "pygments_lexer": "ipython3",
   "version": "3.11.7"
  }
 },
 "nbformat": 4,
 "nbformat_minor": 5
}
