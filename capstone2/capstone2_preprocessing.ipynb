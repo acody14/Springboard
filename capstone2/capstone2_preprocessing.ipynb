{
 "cells": [
  {
   "cell_type": "code",
   "execution_count": 64,
   "id": "4a13e74f",
   "metadata": {},
   "outputs": [],
   "source": [
    "# 1. Create dummy or indicator features for categorical variables\n",
    "# 2. Standardize the magnitude of numeric features using a scaler\n",
    "# 3. Split your data into testing and training datasets"
   ]
  },
  {
   "cell_type": "markdown",
   "id": "d67e5031",
   "metadata": {},
   "source": [
    "# Capstone 2 Exploratory Data Analysis\n",
    "## NBA Salary Predictor and Trade Suggestion\n",
    "## Austin Cody"
   ]
  },
  {
   "cell_type": "code",
   "execution_count": null,
   "id": "24dc7f2f",
   "metadata": {},
   "outputs": [],
   "source": [
    "import pandas as pd\n",
    "from sklearn.model_selection import train_test_split\n",
    "\n",
    "# increasing the number of displayable columns to better examine all dummy variables \n",
    "pd.set_option('display.max_columns', 31)"
   ]
  },
  {
   "cell_type": "code",
   "execution_count": 66,
   "id": "fbdeecab",
   "metadata": {},
   "outputs": [],
   "source": [
    "df = pd.read_csv('nba_salaries_cleaned.csv')"
   ]
  },
  {
   "cell_type": "code",
   "execution_count": 67,
   "id": "4c767f96",
   "metadata": {},
   "outputs": [
    {
     "data": {
      "text/html": [
       "<div>\n",
       "<style scoped>\n",
       "    .dataframe tbody tr th:only-of-type {\n",
       "        vertical-align: middle;\n",
       "    }\n",
       "\n",
       "    .dataframe tbody tr th {\n",
       "        vertical-align: top;\n",
       "    }\n",
       "\n",
       "    .dataframe thead th {\n",
       "        text-align: right;\n",
       "    }\n",
       "</style>\n",
       "<table border=\"1\" class=\"dataframe\">\n",
       "  <thead>\n",
       "    <tr style=\"text-align: right;\">\n",
       "      <th></th>\n",
       "      <th>name</th>\n",
       "      <th>salary</th>\n",
       "      <th>position</th>\n",
       "      <th>age</th>\n",
       "      <th>team</th>\n",
       "      <th>games_played</th>\n",
       "      <th>games_started</th>\n",
       "      <th>minutes_pg</th>\n",
       "      <th>field_goals_pg</th>\n",
       "      <th>field_goal_attempts_pg</th>\n",
       "      <th>field_goal_%</th>\n",
       "      <th>3_pointers_pg</th>\n",
       "      <th>3_point_attempts_pg</th>\n",
       "      <th>3_point_%</th>\n",
       "      <th>2_pointers_pg</th>\n",
       "      <th>2_point_attempts_pg</th>\n",
       "      <th>2_point_%</th>\n",
       "      <th>effective_field_goal_%</th>\n",
       "      <th>free_throws_pg</th>\n",
       "      <th>free_throw_attempts_pg</th>\n",
       "      <th>free_throw_%</th>\n",
       "      <th>o_rebounds_pg</th>\n",
       "      <th>d_rebounds_pg</th>\n",
       "      <th>total_rebounds_pg</th>\n",
       "      <th>assists_pg</th>\n",
       "      <th>steals_pg</th>\n",
       "      <th>blocks_pg</th>\n",
       "      <th>turnovers_pg</th>\n",
       "      <th>personal_fouls_pg</th>\n",
       "      <th>points_pg</th>\n",
       "    </tr>\n",
       "  </thead>\n",
       "  <tbody>\n",
       "    <tr>\n",
       "      <th>0</th>\n",
       "      <td>Stephen Curry</td>\n",
       "      <td>48070014</td>\n",
       "      <td>['PG']</td>\n",
       "      <td>34</td>\n",
       "      <td>['GSW']</td>\n",
       "      <td>56</td>\n",
       "      <td>56</td>\n",
       "      <td>34.7</td>\n",
       "      <td>10.0</td>\n",
       "      <td>20.2</td>\n",
       "      <td>0.493</td>\n",
       "      <td>4.9</td>\n",
       "      <td>11.4</td>\n",
       "      <td>0.427</td>\n",
       "      <td>5.1</td>\n",
       "      <td>8.8</td>\n",
       "      <td>0.579</td>\n",
       "      <td>0.614</td>\n",
       "      <td>4.6</td>\n",
       "      <td>5.0</td>\n",
       "      <td>0.915</td>\n",
       "      <td>0.7</td>\n",
       "      <td>5.4</td>\n",
       "      <td>6.1</td>\n",
       "      <td>6.3</td>\n",
       "      <td>0.9</td>\n",
       "      <td>0.4</td>\n",
       "      <td>3.2</td>\n",
       "      <td>2.1</td>\n",
       "      <td>29.4</td>\n",
       "    </tr>\n",
       "    <tr>\n",
       "      <th>1</th>\n",
       "      <td>John Wall</td>\n",
       "      <td>47345760</td>\n",
       "      <td>['PG']</td>\n",
       "      <td>32</td>\n",
       "      <td>['LAC']</td>\n",
       "      <td>34</td>\n",
       "      <td>3</td>\n",
       "      <td>22.2</td>\n",
       "      <td>4.1</td>\n",
       "      <td>9.9</td>\n",
       "      <td>0.408</td>\n",
       "      <td>1.0</td>\n",
       "      <td>3.2</td>\n",
       "      <td>0.303</td>\n",
       "      <td>3.1</td>\n",
       "      <td>6.7</td>\n",
       "      <td>0.459</td>\n",
       "      <td>0.457</td>\n",
       "      <td>2.3</td>\n",
       "      <td>3.3</td>\n",
       "      <td>0.681</td>\n",
       "      <td>0.4</td>\n",
       "      <td>2.3</td>\n",
       "      <td>2.7</td>\n",
       "      <td>5.2</td>\n",
       "      <td>0.8</td>\n",
       "      <td>0.4</td>\n",
       "      <td>2.4</td>\n",
       "      <td>1.7</td>\n",
       "      <td>11.4</td>\n",
       "    </tr>\n",
       "    <tr>\n",
       "      <th>2</th>\n",
       "      <td>Russell Westbrook</td>\n",
       "      <td>47080179</td>\n",
       "      <td>['PG']</td>\n",
       "      <td>34</td>\n",
       "      <td>['LAL', 'LAC']</td>\n",
       "      <td>73</td>\n",
       "      <td>24</td>\n",
       "      <td>29.1</td>\n",
       "      <td>5.9</td>\n",
       "      <td>13.6</td>\n",
       "      <td>0.436</td>\n",
       "      <td>1.2</td>\n",
       "      <td>3.9</td>\n",
       "      <td>0.311</td>\n",
       "      <td>4.7</td>\n",
       "      <td>9.7</td>\n",
       "      <td>0.487</td>\n",
       "      <td>0.481</td>\n",
       "      <td>2.8</td>\n",
       "      <td>4.3</td>\n",
       "      <td>0.656</td>\n",
       "      <td>1.2</td>\n",
       "      <td>4.6</td>\n",
       "      <td>5.8</td>\n",
       "      <td>7.5</td>\n",
       "      <td>1.0</td>\n",
       "      <td>0.5</td>\n",
       "      <td>3.5</td>\n",
       "      <td>2.2</td>\n",
       "      <td>15.9</td>\n",
       "    </tr>\n",
       "  </tbody>\n",
       "</table>\n",
       "</div>"
      ],
      "text/plain": [
       "                name    salary position  age            team  games_played  \\\n",
       "0      Stephen Curry  48070014   ['PG']   34         ['GSW']            56   \n",
       "1          John Wall  47345760   ['PG']   32         ['LAC']            34   \n",
       "2  Russell Westbrook  47080179   ['PG']   34  ['LAL', 'LAC']            73   \n",
       "\n",
       "   games_started  minutes_pg  field_goals_pg  field_goal_attempts_pg  \\\n",
       "0             56        34.7            10.0                    20.2   \n",
       "1              3        22.2             4.1                     9.9   \n",
       "2             24        29.1             5.9                    13.6   \n",
       "\n",
       "   field_goal_%  3_pointers_pg  3_point_attempts_pg  3_point_%  2_pointers_pg  \\\n",
       "0         0.493            4.9                 11.4      0.427            5.1   \n",
       "1         0.408            1.0                  3.2      0.303            3.1   \n",
       "2         0.436            1.2                  3.9      0.311            4.7   \n",
       "\n",
       "   2_point_attempts_pg  2_point_%  effective_field_goal_%  free_throws_pg  \\\n",
       "0                  8.8      0.579                   0.614             4.6   \n",
       "1                  6.7      0.459                   0.457             2.3   \n",
       "2                  9.7      0.487                   0.481             2.8   \n",
       "\n",
       "   free_throw_attempts_pg  free_throw_%  o_rebounds_pg  d_rebounds_pg  \\\n",
       "0                     5.0         0.915            0.7            5.4   \n",
       "1                     3.3         0.681            0.4            2.3   \n",
       "2                     4.3         0.656            1.2            4.6   \n",
       "\n",
       "   total_rebounds_pg  assists_pg  steals_pg  blocks_pg  turnovers_pg  \\\n",
       "0                6.1         6.3        0.9        0.4           3.2   \n",
       "1                2.7         5.2        0.8        0.4           2.4   \n",
       "2                5.8         7.5        1.0        0.5           3.5   \n",
       "\n",
       "   personal_fouls_pg  points_pg  \n",
       "0                2.1       29.4  \n",
       "1                1.7       11.4  \n",
       "2                2.2       15.9  "
      ]
     },
     "execution_count": 67,
     "metadata": {},
     "output_type": "execute_result"
    }
   ],
   "source": [
    "df.head(3)"
   ]
  },
  {
   "cell_type": "code",
   "execution_count": null,
   "id": "2a2bfcf3",
   "metadata": {},
   "outputs": [],
   "source": []
  },
  {
   "cell_type": "markdown",
   "id": "80624976",
   "metadata": {},
   "source": [
    "## Dummy Variable Creation\n",
    "1. converting categorical data into lists because some rows belong to multiple classes in each category\n",
    "2. creating dummy variables\n",
    "3. concatenating dummy variables to our original dataframe and removing the original categorical columns"
   ]
  },
  {
   "cell_type": "code",
   "execution_count": null,
   "id": "d1b14d4f",
   "metadata": {},
   "outputs": [],
   "source": [
    "# our categorical variables were an issue before due to the conversion of list objects to strings\n",
    "# during the dataframe to .csv process.\n",
    "print(type(df['position'].iloc[0]), type(df['team'].iloc[0]))"
   ]
  },
  {
   "cell_type": "code",
   "execution_count": null,
   "id": "3d3b9a33",
   "metadata": {},
   "outputs": [],
   "source": [
    "# converting strings back into lists\n",
    "# eval() function concisely converts strings formatted as '['team1','team2']' back into a list object\n",
    "df['position'] = df['position'].apply(eval)\n",
    "df['team'] = df['team'].apply(eval)"
   ]
  },
  {
   "cell_type": "code",
   "execution_count": null,
   "id": "8ef4657d",
   "metadata": {},
   "outputs": [],
   "source": [
    "# confirming our position and team columns are now list objects\n",
    "print(type(df['position'].iloc[0]), type(df['team'].iloc[0]))"
   ]
  },
  {
   "cell_type": "code",
   "execution_count": null,
   "id": "f04fe20a",
   "metadata": {},
   "outputs": [],
   "source": [
    "# because each category is a list I need to handle pd.get_dummies differently:\n",
    "# 1. turn the list objects into Series\n",
    "# 2. stack it to change it from wide format to long format\n",
    "# 3. adding team prefix (this part is standard)\n",
    "# 4. groupby(level=0) gets around the multi indexing\n",
    "team_dummies = pd.get_dummies(df['team'].apply(pd.Series).stack(), prefix='team').groupby(level=0).sum()"
   ]
  },
  {
   "cell_type": "code",
   "execution_count": null,
   "id": "96cf695e",
   "metadata": {},
   "outputs": [],
   "source": [
    "# finding player with 2 positions and 2 teams for verification of dummy variables\n",
    "df[df['name'] == 'Mikal Bridges'][['name','position','team']]\n",
    "# noting index of 58"
   ]
  },
  {
   "cell_type": "code",
   "execution_count": null,
   "id": "e741519a",
   "metadata": {},
   "outputs": [],
   "source": [
    "# examining 58th index -> player whom we know has multiple teams\n",
    "# you can see this was successful because multiple 1s appear in the third row for LAC and LAL\n",
    "print(team_dummies.iloc[58][['team_BRK','team_PHO']])\n",
    "team_dummies.head(3)"
   ]
  },
  {
   "cell_type": "code",
   "execution_count": 68,
   "id": "6a56bf96",
   "metadata": {},
   "outputs": [
    {
     "ename": "KeyError",
     "evalue": "\"None of [Index(['position_SF', 'position_SG'], dtype='object')] are in the [index]\"",
     "output_type": "error",
     "traceback": [
      "\u001b[0;31m---------------------------------------------------------------------------\u001b[0m",
      "\u001b[0;31mKeyError\u001b[0m                                  Traceback (most recent call last)",
      "Cell \u001b[0;32mIn[68], line 3\u001b[0m\n\u001b[1;32m      1\u001b[0m \u001b[38;5;66;03m# repeating for position\u001b[39;00m\n\u001b[1;32m      2\u001b[0m position_dummies \u001b[38;5;241m=\u001b[39m pd\u001b[38;5;241m.\u001b[39mget_dummies(df[\u001b[38;5;124m'\u001b[39m\u001b[38;5;124mposition\u001b[39m\u001b[38;5;124m'\u001b[39m]\u001b[38;5;241m.\u001b[39mapply(pd\u001b[38;5;241m.\u001b[39mSeries)\u001b[38;5;241m.\u001b[39mstack(), prefix\u001b[38;5;241m=\u001b[39m\u001b[38;5;124m'\u001b[39m\u001b[38;5;124mposition\u001b[39m\u001b[38;5;124m'\u001b[39m)\u001b[38;5;241m.\u001b[39mgroupby(level\u001b[38;5;241m=\u001b[39m\u001b[38;5;241m0\u001b[39m)\u001b[38;5;241m.\u001b[39msum()\n\u001b[0;32m----> 3\u001b[0m \u001b[38;5;28mprint\u001b[39m(position_dummies\u001b[38;5;241m.\u001b[39miloc[\u001b[38;5;241m58\u001b[39m][[\u001b[38;5;124m'\u001b[39m\u001b[38;5;124mposition_SF\u001b[39m\u001b[38;5;124m'\u001b[39m,\u001b[38;5;124m'\u001b[39m\u001b[38;5;124mposition_SG\u001b[39m\u001b[38;5;124m'\u001b[39m]])\n\u001b[1;32m      4\u001b[0m position_dummies\u001b[38;5;241m.\u001b[39mhead(\u001b[38;5;241m3\u001b[39m)\n",
      "File \u001b[0;32m~/anaconda3/lib/python3.11/site-packages/pandas/core/series.py:1007\u001b[0m, in \u001b[0;36mSeries.__getitem__\u001b[0;34m(self, key)\u001b[0m\n\u001b[1;32m   1004\u001b[0m     key \u001b[38;5;241m=\u001b[39m np\u001b[38;5;241m.\u001b[39masarray(key, dtype\u001b[38;5;241m=\u001b[39m\u001b[38;5;28mbool\u001b[39m)\n\u001b[1;32m   1005\u001b[0m     \u001b[38;5;28;01mreturn\u001b[39;00m \u001b[38;5;28mself\u001b[39m\u001b[38;5;241m.\u001b[39m_get_values(key)\n\u001b[0;32m-> 1007\u001b[0m \u001b[38;5;28;01mreturn\u001b[39;00m \u001b[38;5;28mself\u001b[39m\u001b[38;5;241m.\u001b[39m_get_with(key)\n",
      "File \u001b[0;32m~/anaconda3/lib/python3.11/site-packages/pandas/core/series.py:1047\u001b[0m, in \u001b[0;36mSeries._get_with\u001b[0;34m(self, key)\u001b[0m\n\u001b[1;32m   1044\u001b[0m         \u001b[38;5;28;01mreturn\u001b[39;00m \u001b[38;5;28mself\u001b[39m\u001b[38;5;241m.\u001b[39miloc[key]\n\u001b[1;32m   1046\u001b[0m \u001b[38;5;66;03m# handle the dup indexing case GH#4246\u001b[39;00m\n\u001b[0;32m-> 1047\u001b[0m \u001b[38;5;28;01mreturn\u001b[39;00m \u001b[38;5;28mself\u001b[39m\u001b[38;5;241m.\u001b[39mloc[key]\n",
      "File \u001b[0;32m~/anaconda3/lib/python3.11/site-packages/pandas/core/indexing.py:1073\u001b[0m, in \u001b[0;36m_LocationIndexer.__getitem__\u001b[0;34m(self, key)\u001b[0m\n\u001b[1;32m   1070\u001b[0m axis \u001b[38;5;241m=\u001b[39m \u001b[38;5;28mself\u001b[39m\u001b[38;5;241m.\u001b[39maxis \u001b[38;5;129;01mor\u001b[39;00m \u001b[38;5;241m0\u001b[39m\n\u001b[1;32m   1072\u001b[0m maybe_callable \u001b[38;5;241m=\u001b[39m com\u001b[38;5;241m.\u001b[39mapply_if_callable(key, \u001b[38;5;28mself\u001b[39m\u001b[38;5;241m.\u001b[39mobj)\n\u001b[0;32m-> 1073\u001b[0m \u001b[38;5;28;01mreturn\u001b[39;00m \u001b[38;5;28mself\u001b[39m\u001b[38;5;241m.\u001b[39m_getitem_axis(maybe_callable, axis\u001b[38;5;241m=\u001b[39maxis)\n",
      "File \u001b[0;32m~/anaconda3/lib/python3.11/site-packages/pandas/core/indexing.py:1301\u001b[0m, in \u001b[0;36m_LocIndexer._getitem_axis\u001b[0;34m(self, key, axis)\u001b[0m\n\u001b[1;32m   1298\u001b[0m     \u001b[38;5;28;01mif\u001b[39;00m \u001b[38;5;28mhasattr\u001b[39m(key, \u001b[38;5;124m\"\u001b[39m\u001b[38;5;124mndim\u001b[39m\u001b[38;5;124m\"\u001b[39m) \u001b[38;5;129;01mand\u001b[39;00m key\u001b[38;5;241m.\u001b[39mndim \u001b[38;5;241m>\u001b[39m \u001b[38;5;241m1\u001b[39m:\n\u001b[1;32m   1299\u001b[0m         \u001b[38;5;28;01mraise\u001b[39;00m \u001b[38;5;167;01mValueError\u001b[39;00m(\u001b[38;5;124m\"\u001b[39m\u001b[38;5;124mCannot index with multidimensional key\u001b[39m\u001b[38;5;124m\"\u001b[39m)\n\u001b[0;32m-> 1301\u001b[0m     \u001b[38;5;28;01mreturn\u001b[39;00m \u001b[38;5;28mself\u001b[39m\u001b[38;5;241m.\u001b[39m_getitem_iterable(key, axis\u001b[38;5;241m=\u001b[39maxis)\n\u001b[1;32m   1303\u001b[0m \u001b[38;5;66;03m# nested tuple slicing\u001b[39;00m\n\u001b[1;32m   1304\u001b[0m \u001b[38;5;28;01mif\u001b[39;00m is_nested_tuple(key, labels):\n",
      "File \u001b[0;32m~/anaconda3/lib/python3.11/site-packages/pandas/core/indexing.py:1239\u001b[0m, in \u001b[0;36m_LocIndexer._getitem_iterable\u001b[0;34m(self, key, axis)\u001b[0m\n\u001b[1;32m   1236\u001b[0m \u001b[38;5;28mself\u001b[39m\u001b[38;5;241m.\u001b[39m_validate_key(key, axis)\n\u001b[1;32m   1238\u001b[0m \u001b[38;5;66;03m# A collection of keys\u001b[39;00m\n\u001b[0;32m-> 1239\u001b[0m keyarr, indexer \u001b[38;5;241m=\u001b[39m \u001b[38;5;28mself\u001b[39m\u001b[38;5;241m.\u001b[39m_get_listlike_indexer(key, axis)\n\u001b[1;32m   1240\u001b[0m \u001b[38;5;28;01mreturn\u001b[39;00m \u001b[38;5;28mself\u001b[39m\u001b[38;5;241m.\u001b[39mobj\u001b[38;5;241m.\u001b[39m_reindex_with_indexers(\n\u001b[1;32m   1241\u001b[0m     {axis: [keyarr, indexer]}, copy\u001b[38;5;241m=\u001b[39m\u001b[38;5;28;01mTrue\u001b[39;00m, allow_dups\u001b[38;5;241m=\u001b[39m\u001b[38;5;28;01mTrue\u001b[39;00m\n\u001b[1;32m   1242\u001b[0m )\n",
      "File \u001b[0;32m~/anaconda3/lib/python3.11/site-packages/pandas/core/indexing.py:1432\u001b[0m, in \u001b[0;36m_LocIndexer._get_listlike_indexer\u001b[0;34m(self, key, axis)\u001b[0m\n\u001b[1;32m   1429\u001b[0m ax \u001b[38;5;241m=\u001b[39m \u001b[38;5;28mself\u001b[39m\u001b[38;5;241m.\u001b[39mobj\u001b[38;5;241m.\u001b[39m_get_axis(axis)\n\u001b[1;32m   1430\u001b[0m axis_name \u001b[38;5;241m=\u001b[39m \u001b[38;5;28mself\u001b[39m\u001b[38;5;241m.\u001b[39mobj\u001b[38;5;241m.\u001b[39m_get_axis_name(axis)\n\u001b[0;32m-> 1432\u001b[0m keyarr, indexer \u001b[38;5;241m=\u001b[39m ax\u001b[38;5;241m.\u001b[39m_get_indexer_strict(key, axis_name)\n\u001b[1;32m   1434\u001b[0m \u001b[38;5;28;01mreturn\u001b[39;00m keyarr, indexer\n",
      "File \u001b[0;32m~/anaconda3/lib/python3.11/site-packages/pandas/core/indexes/base.py:6070\u001b[0m, in \u001b[0;36mIndex._get_indexer_strict\u001b[0;34m(self, key, axis_name)\u001b[0m\n\u001b[1;32m   6067\u001b[0m \u001b[38;5;28;01melse\u001b[39;00m:\n\u001b[1;32m   6068\u001b[0m     keyarr, indexer, new_indexer \u001b[38;5;241m=\u001b[39m \u001b[38;5;28mself\u001b[39m\u001b[38;5;241m.\u001b[39m_reindex_non_unique(keyarr)\n\u001b[0;32m-> 6070\u001b[0m \u001b[38;5;28mself\u001b[39m\u001b[38;5;241m.\u001b[39m_raise_if_missing(keyarr, indexer, axis_name)\n\u001b[1;32m   6072\u001b[0m keyarr \u001b[38;5;241m=\u001b[39m \u001b[38;5;28mself\u001b[39m\u001b[38;5;241m.\u001b[39mtake(indexer)\n\u001b[1;32m   6073\u001b[0m \u001b[38;5;28;01mif\u001b[39;00m \u001b[38;5;28misinstance\u001b[39m(key, Index):\n\u001b[1;32m   6074\u001b[0m     \u001b[38;5;66;03m# GH 42790 - Preserve name from an Index\u001b[39;00m\n",
      "File \u001b[0;32m~/anaconda3/lib/python3.11/site-packages/pandas/core/indexes/base.py:6130\u001b[0m, in \u001b[0;36mIndex._raise_if_missing\u001b[0;34m(self, key, indexer, axis_name)\u001b[0m\n\u001b[1;32m   6128\u001b[0m     \u001b[38;5;28;01mif\u001b[39;00m use_interval_msg:\n\u001b[1;32m   6129\u001b[0m         key \u001b[38;5;241m=\u001b[39m \u001b[38;5;28mlist\u001b[39m(key)\n\u001b[0;32m-> 6130\u001b[0m     \u001b[38;5;28;01mraise\u001b[39;00m \u001b[38;5;167;01mKeyError\u001b[39;00m(\u001b[38;5;124mf\u001b[39m\u001b[38;5;124m\"\u001b[39m\u001b[38;5;124mNone of [\u001b[39m\u001b[38;5;132;01m{\u001b[39;00mkey\u001b[38;5;132;01m}\u001b[39;00m\u001b[38;5;124m] are in the [\u001b[39m\u001b[38;5;132;01m{\u001b[39;00maxis_name\u001b[38;5;132;01m}\u001b[39;00m\u001b[38;5;124m]\u001b[39m\u001b[38;5;124m\"\u001b[39m)\n\u001b[1;32m   6132\u001b[0m not_found \u001b[38;5;241m=\u001b[39m \u001b[38;5;28mlist\u001b[39m(ensure_index(key)[missing_mask\u001b[38;5;241m.\u001b[39mnonzero()[\u001b[38;5;241m0\u001b[39m]]\u001b[38;5;241m.\u001b[39munique())\n\u001b[1;32m   6133\u001b[0m \u001b[38;5;28;01mraise\u001b[39;00m \u001b[38;5;167;01mKeyError\u001b[39;00m(\u001b[38;5;124mf\u001b[39m\u001b[38;5;124m\"\u001b[39m\u001b[38;5;132;01m{\u001b[39;00mnot_found\u001b[38;5;132;01m}\u001b[39;00m\u001b[38;5;124m not in index\u001b[39m\u001b[38;5;124m\"\u001b[39m)\n",
      "\u001b[0;31mKeyError\u001b[0m: \"None of [Index(['position_SF', 'position_SG'], dtype='object')] are in the [index]\""
     ]
    }
   ],
   "source": [
    "# repeating for position\n",
    "position_dummies = pd.get_dummies(df['position'].apply(pd.Series).stack(), prefix='position').groupby(level=0).sum()\n",
    "print(position_dummies.iloc[58][['position_SF','position_SG']])\n",
    "position_dummies.head(3)"
   ]
  }
 ],
 "metadata": {
  "kernelspec": {
   "display_name": "Python 3 (ipykernel)",
   "language": "python",
   "name": "python3"
  },
  "language_info": {
   "codemirror_mode": {
    "name": "ipython",
    "version": 3
   },
   "file_extension": ".py",
   "mimetype": "text/x-python",
   "name": "python",
   "nbconvert_exporter": "python",
   "pygments_lexer": "ipython3",
   "version": "3.11.3"
  }
 },
 "nbformat": 4,
 "nbformat_minor": 5
}
