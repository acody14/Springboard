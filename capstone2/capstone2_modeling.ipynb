{
 "cells": [
  {
   "cell_type": "markdown",
   "id": "1a4a1fde-e01a-46b1-a9ab-a4c2607306f0",
   "metadata": {},
   "source": [
    "# Capstone 2 Modeling\n",
    "## NBA Salary Predictor and Trade Suggestion\n",
    "## Austin Cody\n",
    "#### Models to attempt: Linear Regression, Random Forest Regressor, XGBoost, Support Vector Machine\n",
    "#### Tuning techniques: RandomsearchCV, Bayesian Optimization"
   ]
  },
  {
   "cell_type": "code",
   "execution_count": 1,
   "id": "b491875f-4ca7-4a0a-8add-5fcb198f370e",
   "metadata": {},
   "outputs": [],
   "source": [
    "import pandas as pd\n",
    "import numpy as np\n",
    "import matplotlib.pyplot as plt\n",
    "import seaborn as sns\n",
    "from sklearn.model_selection import train_test_split\n",
    "from sklearn.metrics import mean_squared_error, mean_absolute_error, r2_score"
   ]
  },
  {
   "cell_type": "code",
   "execution_count": 2,
   "id": "31a9f4b6-a9c8-450e-8cfa-eb76b6aa50e4",
   "metadata": {},
   "outputs": [],
   "source": [
    "#defining functions\n",
    "def print_metrics(y_test,y_pred):\n",
    "    rmse = np.sqrt(mean_squared_error(y_test, y_pred))\n",
    "    print(f'Mean Squared Error: {rmse}')\n",
    "\n",
    "    mae = mean_absolute_error(y_test, y_pred)\n",
    "    print(f'Mean Absolute Error: {mae}')\n",
    "\n",
    "    r2 = r2_score(y_test, y_pred)\n",
    "    print(f'R-squared: {r2}')"
   ]
  },
  {
   "cell_type": "code",
   "execution_count": 3,
   "id": "52dbbe31-72a1-4c8c-8ab6-f1f8bdc1d9f3",
   "metadata": {},
   "outputs": [],
   "source": [
    "# reading in csv, splitting data into train/test\n",
    "df = pd.read_csv('nba_salaries_dummies.csv')\n",
    "features = ['age','2_pointers_pg','3_pointers_pg','free_throws_pg','assists_pg','points_pg', 'minutes_pg']\n",
    "\n",
    "X = df[features].values\n",
    "y = df['salary'].values\n",
    "\n",
    "# we don't need to stratify because this data is necessarily balanced\n",
    "X_train, X_test, y_train, y_test = train_test_split(X, y, test_size = 0.3)"
   ]
  },
  {
   "cell_type": "code",
   "execution_count": 4,
   "id": "ec0412bd-92a6-47c5-9785-cdd4d7a50573",
   "metadata": {},
   "outputs": [],
   "source": [
    "#scaling from previous notebook\n",
    "from sklearn.preprocessing import StandardScaler\n",
    "scaler = StandardScaler()\n",
    "X_train_scaled = scaler.fit_transform(X_train)\n",
    "X_test_scaled = scaler.transform(X_test)"
   ]
  },
  {
   "cell_type": "markdown",
   "id": "67b28f8e-22d5-4f79-9313-b3fcc442bfb0",
   "metadata": {},
   "source": [
    "## Linear Regression using Lasso Regularization and hyperparameter tuning using Bayesian Optimization "
   ]
  },
  {
   "cell_type": "code",
   "execution_count": null,
   "id": "548e4c7a-3d62-482c-8ff1-dcb3ae51606d",
   "metadata": {},
   "outputs": [],
   "source": [
    "from sklearn.linear_model import Lasso\n",
    "from bayes_opt import BayesianOptimization\n",
    "\n",
    "#optimizes rmse for our linear model\n",
    "def lasso_eval(alpha):\n",
    "    lasso = Lasso(alpha=alpha)\n",
    "    lasso.fit(X_train_scaled, y_train)\n",
    "    y_pred = lasso.predict(X_test_scaled)\n",
    "    \n",
    "    rmse = np.sqrt(mean_squared_error(y_test, y_pred))\n",
    "    return -rmse # we want to minimize rmse so we make it negative"
   ]
  },
  {
   "cell_type": "code",
   "execution_count": null,
   "id": "11d572f2-eb82-411a-b29c-9c6b059562e9",
   "metadata": {},
   "outputs": [],
   "source": [
    "lasso_bo = BayesianOptimization(f = lasso_eval,\n",
    "                                pbounds = {'alpha': (0.01, 1.0)})\n",
    "\n",
    "lasso_bo.maximize(n_iter=1000, \n",
    "                  init_points=5)"
   ]
  },
  {
   "cell_type": "code",
   "execution_count": null,
   "id": "1af0af3d-238e-4197-a176-169542301937",
   "metadata": {},
   "outputs": [],
   "source": [
    "#### K FOLD CROSS VALIDATION ON YOUR DATA"
   ]
  },
  {
   "cell_type": "markdown",
   "id": "d3104d62-1e41-40a3-9634-328cb9f8d811",
   "metadata": {},
   "source": [
    "## Random Forest Regressor using hyperparameter tuning with Bayesian Optimization "
   ]
  },
  {
   "cell_type": "code",
   "execution_count": 8,
   "id": "fa5b157b-8585-4fd0-a43d-ae0c2b02bd35",
   "metadata": {},
   "outputs": [
    {
     "name": "stdout",
     "output_type": "stream",
     "text": [
      "|   iter    |  target   | max_depth | max_fe... | max_le... | min_sa... | min_sa... | n_esti... |\n",
      "-------------------------------------------------------------------------------------------------\n",
      "| \u001b[0m1        \u001b[0m | \u001b[0m0.787    \u001b[0m | \u001b[0m19.74    \u001b[0m | \u001b[0m3.496    \u001b[0m | \u001b[0m38.49    \u001b[0m | \u001b[0m2.623    \u001b[0m | \u001b[0m8.213    \u001b[0m | \u001b[0m40.61    \u001b[0m |\n",
      "| \u001b[0m2        \u001b[0m | \u001b[0m0.7013   \u001b[0m | \u001b[0m2.317    \u001b[0m | \u001b[0m5.066    \u001b[0m | \u001b[0m39.29    \u001b[0m | \u001b[0m1.353    \u001b[0m | \u001b[0m7.64     \u001b[0m | \u001b[0m109.5    \u001b[0m |\n",
      "| \u001b[95m3        \u001b[0m | \u001b[95m0.798    \u001b[0m | \u001b[95m12.86    \u001b[0m | \u001b[95m6.24     \u001b[0m | \u001b[95m23.26    \u001b[0m | \u001b[95m6.852    \u001b[0m | \u001b[95m7.59     \u001b[0m | \u001b[95m16.47    \u001b[0m |\n",
      "| \u001b[0m4        \u001b[0m | \u001b[0m0.7412   \u001b[0m | \u001b[0m7.596    \u001b[0m | \u001b[0m3.421    \u001b[0m | \u001b[0m24.4     \u001b[0m | \u001b[0m8.136    \u001b[0m | \u001b[0m5.21     \u001b[0m | \u001b[0m113.2    \u001b[0m |\n",
      "| \u001b[0m5        \u001b[0m | \u001b[0m0.7962   \u001b[0m | \u001b[0m14.94    \u001b[0m | \u001b[0m5.619    \u001b[0m | \u001b[0m19.49    \u001b[0m | \u001b[0m7.829    \u001b[0m | \u001b[0m9.656    \u001b[0m | \u001b[0m88.0     \u001b[0m |\n",
      "| \u001b[0m6        \u001b[0m | \u001b[0m0.7681   \u001b[0m | \u001b[0m18.3     \u001b[0m | \u001b[0m5.509    \u001b[0m | \u001b[0m18.16    \u001b[0m | \u001b[0m8.458    \u001b[0m | \u001b[0m9.564    \u001b[0m | \u001b[0m65.05    \u001b[0m |\n",
      "| \u001b[0m7        \u001b[0m | \u001b[0m0.7943   \u001b[0m | \u001b[0m18.3     \u001b[0m | \u001b[0m6.808    \u001b[0m | \u001b[0m41.97    \u001b[0m | \u001b[0m4.688    \u001b[0m | \u001b[0m8.155    \u001b[0m | \u001b[0m17.3     \u001b[0m |\n",
      "| \u001b[0m8        \u001b[0m | \u001b[0m0.7834   \u001b[0m | \u001b[0m12.99    \u001b[0m | \u001b[0m5.991    \u001b[0m | \u001b[0m23.05    \u001b[0m | \u001b[0m7.959    \u001b[0m | \u001b[0m9.633    \u001b[0m | \u001b[0m18.21    \u001b[0m |\n",
      "| \u001b[95m9        \u001b[0m | \u001b[95m0.8028   \u001b[0m | \u001b[95m11.5     \u001b[0m | \u001b[95m7.0      \u001b[0m | \u001b[95m30.86    \u001b[0m | \u001b[95m1.0      \u001b[0m | \u001b[95m2.0      \u001b[0m | \u001b[95m10.0     \u001b[0m |\n",
      "| \u001b[95m10       \u001b[0m | \u001b[95m0.821    \u001b[0m | \u001b[95m20.0     \u001b[0m | \u001b[95m7.0      \u001b[0m | \u001b[95m16.62    \u001b[0m | \u001b[95m1.0      \u001b[0m | \u001b[95m2.0      \u001b[0m | \u001b[95m10.0     \u001b[0m |\n",
      "| \u001b[0m11       \u001b[0m | \u001b[0m0.677    \u001b[0m | \u001b[0m2.121    \u001b[0m | \u001b[0m4.411    \u001b[0m | \u001b[0m10.89    \u001b[0m | \u001b[0m1.831    \u001b[0m | \u001b[0m3.027    \u001b[0m | \u001b[0m10.31    \u001b[0m |\n",
      "| \u001b[0m12       \u001b[0m | \u001b[0m0.7858   \u001b[0m | \u001b[0m20.0     \u001b[0m | \u001b[0m7.0      \u001b[0m | \u001b[0m26.05    \u001b[0m | \u001b[0m8.895    \u001b[0m | \u001b[0m2.0      \u001b[0m | \u001b[0m10.0     \u001b[0m |\n",
      "| \u001b[0m13       \u001b[0m | \u001b[0m0.8175   \u001b[0m | \u001b[0m20.0     \u001b[0m | \u001b[0m7.0      \u001b[0m | \u001b[0m22.94    \u001b[0m | \u001b[0m1.0      \u001b[0m | \u001b[0m2.0      \u001b[0m | \u001b[0m19.36    \u001b[0m |\n",
      "| \u001b[0m14       \u001b[0m | \u001b[0m0.8005   \u001b[0m | \u001b[0m10.9     \u001b[0m | \u001b[0m3.0      \u001b[0m | \u001b[0m33.64    \u001b[0m | \u001b[0m1.0      \u001b[0m | \u001b[0m2.0      \u001b[0m | \u001b[0m24.96    \u001b[0m |\n",
      "| \u001b[0m15       \u001b[0m | \u001b[0m0.5367   \u001b[0m | \u001b[0m1.017    \u001b[0m | \u001b[0m6.789    \u001b[0m | \u001b[0m48.04    \u001b[0m | \u001b[0m1.193    \u001b[0m | \u001b[0m2.389    \u001b[0m | \u001b[0m21.18    \u001b[0m |\n",
      "| \u001b[0m16       \u001b[0m | \u001b[0m0.8031   \u001b[0m | \u001b[0m17.85    \u001b[0m | \u001b[0m3.0      \u001b[0m | \u001b[0m21.4     \u001b[0m | \u001b[0m1.0      \u001b[0m | \u001b[0m2.0      \u001b[0m | \u001b[0m37.2     \u001b[0m |\n",
      "| \u001b[0m17       \u001b[0m | \u001b[0m0.5193   \u001b[0m | \u001b[0m20.0     \u001b[0m | \u001b[0m3.209    \u001b[0m | \u001b[0m2.0      \u001b[0m | \u001b[0m2.385    \u001b[0m | \u001b[0m2.227    \u001b[0m | \u001b[0m87.98    \u001b[0m |\n",
      "| \u001b[0m18       \u001b[0m | \u001b[0m0.7673   \u001b[0m | \u001b[0m14.6     \u001b[0m | \u001b[0m7.0      \u001b[0m | \u001b[0m35.76    \u001b[0m | \u001b[0m10.0     \u001b[0m | \u001b[0m10.0     \u001b[0m | \u001b[0m80.37    \u001b[0m |\n",
      "| \u001b[0m19       \u001b[0m | \u001b[0m0.7217   \u001b[0m | \u001b[0m3.301    \u001b[0m | \u001b[0m3.0      \u001b[0m | \u001b[0m24.73    \u001b[0m | \u001b[0m10.0     \u001b[0m | \u001b[0m2.0      \u001b[0m | \u001b[0m49.27    \u001b[0m |\n",
      "| \u001b[0m20       \u001b[0m | \u001b[0m0.7358   \u001b[0m | \u001b[0m20.0     \u001b[0m | \u001b[0m3.0      \u001b[0m | \u001b[0m29.52    \u001b[0m | \u001b[0m1.0      \u001b[0m | \u001b[0m10.0     \u001b[0m | \u001b[0m10.0     \u001b[0m |\n",
      "| \u001b[0m21       \u001b[0m | \u001b[0m0.7206   \u001b[0m | \u001b[0m20.0     \u001b[0m | \u001b[0m3.0      \u001b[0m | \u001b[0m31.68    \u001b[0m | \u001b[0m10.0     \u001b[0m | \u001b[0m2.0      \u001b[0m | \u001b[0m28.61    \u001b[0m |\n",
      "| \u001b[0m22       \u001b[0m | \u001b[0m0.806    \u001b[0m | \u001b[0m20.0     \u001b[0m | \u001b[0m7.0      \u001b[0m | \u001b[0m10.25    \u001b[0m | \u001b[0m1.0      \u001b[0m | \u001b[0m2.0      \u001b[0m | \u001b[0m24.76    \u001b[0m |\n",
      "| \u001b[0m23       \u001b[0m | \u001b[0m0.7332   \u001b[0m | \u001b[0m17.97    \u001b[0m | \u001b[0m3.429    \u001b[0m | \u001b[0m5.428    \u001b[0m | \u001b[0m1.068    \u001b[0m | \u001b[0m2.035    \u001b[0m | \u001b[0m41.46    \u001b[0m |\n",
      "| \u001b[95m24       \u001b[0m | \u001b[95m0.8254   \u001b[0m | \u001b[95m9.05     \u001b[0m | \u001b[95m7.0      \u001b[0m | \u001b[95m20.86    \u001b[0m | \u001b[95m1.0      \u001b[0m | \u001b[95m2.0      \u001b[0m | \u001b[95m27.4     \u001b[0m |\n",
      "| \u001b[0m25       \u001b[0m | \u001b[0m0.5234   \u001b[0m | \u001b[0m1.283    \u001b[0m | \u001b[0m3.073    \u001b[0m | \u001b[0m22.12    \u001b[0m | \u001b[0m9.267    \u001b[0m | \u001b[0m8.985    \u001b[0m | \u001b[0m81.09    \u001b[0m |\n",
      "| \u001b[0m26       \u001b[0m | \u001b[0m0.7666   \u001b[0m | \u001b[0m20.0     \u001b[0m | \u001b[0m7.0      \u001b[0m | \u001b[0m28.1     \u001b[0m | \u001b[0m10.0     \u001b[0m | \u001b[0m10.0     \u001b[0m | \u001b[0m95.13    \u001b[0m |\n",
      "| \u001b[0m27       \u001b[0m | \u001b[0m0.8047   \u001b[0m | \u001b[0m10.81    \u001b[0m | \u001b[0m7.0      \u001b[0m | \u001b[0m27.07    \u001b[0m | \u001b[0m1.0      \u001b[0m | \u001b[0m10.0     \u001b[0m | \u001b[0m33.94    \u001b[0m |\n",
      "| \u001b[0m28       \u001b[0m | \u001b[0m0.8025   \u001b[0m | \u001b[0m20.0     \u001b[0m | \u001b[0m7.0      \u001b[0m | \u001b[0m26.94    \u001b[0m | \u001b[0m1.0      \u001b[0m | \u001b[0m10.0     \u001b[0m | \u001b[0m50.71    \u001b[0m |\n",
      "| \u001b[0m29       \u001b[0m | \u001b[0m0.8154   \u001b[0m | \u001b[0m20.0     \u001b[0m | \u001b[0m7.0      \u001b[0m | \u001b[0m41.42    \u001b[0m | \u001b[0m1.0      \u001b[0m | \u001b[0m10.0     \u001b[0m | \u001b[0m60.3     \u001b[0m |\n",
      "| \u001b[0m30       \u001b[0m | \u001b[0m0.8166   \u001b[0m | \u001b[0m20.0     \u001b[0m | \u001b[0m7.0      \u001b[0m | \u001b[0m50.0     \u001b[0m | \u001b[0m1.0      \u001b[0m | \u001b[0m2.0      \u001b[0m | \u001b[0m71.36    \u001b[0m |\n",
      "| \u001b[0m31       \u001b[0m | \u001b[0m0.7733   \u001b[0m | \u001b[0m20.0     \u001b[0m | \u001b[0m7.0      \u001b[0m | \u001b[0m50.0     \u001b[0m | \u001b[0m10.0     \u001b[0m | \u001b[0m2.0      \u001b[0m | \u001b[0m58.43    \u001b[0m |\n",
      "| \u001b[0m32       \u001b[0m | \u001b[0m0.8185   \u001b[0m | \u001b[0m7.784    \u001b[0m | \u001b[0m7.0      \u001b[0m | \u001b[0m50.0     \u001b[0m | \u001b[0m1.0      \u001b[0m | \u001b[0m10.0     \u001b[0m | \u001b[0m66.75    \u001b[0m |\n",
      "| \u001b[0m33       \u001b[0m | \u001b[0m0.8193   \u001b[0m | \u001b[0m20.0     \u001b[0m | \u001b[0m7.0      \u001b[0m | \u001b[0m34.41    \u001b[0m | \u001b[0m1.0      \u001b[0m | \u001b[0m2.0      \u001b[0m | \u001b[0m69.53    \u001b[0m |\n",
      "| \u001b[0m34       \u001b[0m | \u001b[0m0.7156   \u001b[0m | \u001b[0m20.0     \u001b[0m | \u001b[0m3.0      \u001b[0m | \u001b[0m50.0     \u001b[0m | \u001b[0m10.0     \u001b[0m | \u001b[0m10.0     \u001b[0m | \u001b[0m74.57    \u001b[0m |\n",
      "| \u001b[0m35       \u001b[0m | \u001b[0m0.8151   \u001b[0m | \u001b[0m9.024    \u001b[0m | \u001b[0m7.0      \u001b[0m | \u001b[0m41.44    \u001b[0m | \u001b[0m1.0      \u001b[0m | \u001b[0m2.0      \u001b[0m | \u001b[0m60.62    \u001b[0m |\n",
      "| \u001b[0m36       \u001b[0m | \u001b[0m0.5217   \u001b[0m | \u001b[0m1.688    \u001b[0m | \u001b[0m5.424    \u001b[0m | \u001b[0m47.58    \u001b[0m | \u001b[0m2.54     \u001b[0m | \u001b[0m9.777    \u001b[0m | \u001b[0m54.51    \u001b[0m |\n",
      "| \u001b[0m37       \u001b[0m | \u001b[0m0.8105   \u001b[0m | \u001b[0m12.38    \u001b[0m | \u001b[0m6.041    \u001b[0m | \u001b[0m42.67    \u001b[0m | \u001b[0m1.066    \u001b[0m | \u001b[0m8.263    \u001b[0m | \u001b[0m70.79    \u001b[0m |\n",
      "| \u001b[0m38       \u001b[0m | \u001b[0m0.8229   \u001b[0m | \u001b[0m5.772    \u001b[0m | \u001b[0m7.0      \u001b[0m | \u001b[0m50.0     \u001b[0m | \u001b[0m1.0      \u001b[0m | \u001b[0m2.0      \u001b[0m | \u001b[0m74.73    \u001b[0m |\n",
      "| \u001b[0m39       \u001b[0m | \u001b[0m0.8183   \u001b[0m | \u001b[0m20.0     \u001b[0m | \u001b[0m7.0      \u001b[0m | \u001b[0m34.69    \u001b[0m | \u001b[0m1.0      \u001b[0m | \u001b[0m2.0      \u001b[0m | \u001b[0m56.41    \u001b[0m |\n",
      "| \u001b[0m40       \u001b[0m | \u001b[0m0.5274   \u001b[0m | \u001b[0m10.94    \u001b[0m | \u001b[0m5.997    \u001b[0m | \u001b[0m2.116    \u001b[0m | \u001b[0m2.865    \u001b[0m | \u001b[0m5.634    \u001b[0m | \u001b[0m199.2    \u001b[0m |\n",
      "| \u001b[0m41       \u001b[0m | \u001b[0m0.522    \u001b[0m | \u001b[0m1.0      \u001b[0m | \u001b[0m7.0      \u001b[0m | \u001b[0m50.0     \u001b[0m | \u001b[0m10.0     \u001b[0m | \u001b[0m2.0      \u001b[0m | \u001b[0m163.2    \u001b[0m |\n",
      "| \u001b[0m42       \u001b[0m | \u001b[0m0.5278   \u001b[0m | \u001b[0m20.0     \u001b[0m | \u001b[0m7.0      \u001b[0m | \u001b[0m2.0      \u001b[0m | \u001b[0m10.0     \u001b[0m | \u001b[0m10.0     \u001b[0m | \u001b[0m140.4    \u001b[0m |\n",
      "| \u001b[0m43       \u001b[0m | \u001b[0m0.7932   \u001b[0m | \u001b[0m20.0     \u001b[0m | \u001b[0m3.0      \u001b[0m | \u001b[0m50.0     \u001b[0m | \u001b[0m1.0      \u001b[0m | \u001b[0m10.0     \u001b[0m | \u001b[0m200.0    \u001b[0m |\n",
      "| \u001b[0m44       \u001b[0m | \u001b[0m0.6679   \u001b[0m | \u001b[0m2.212    \u001b[0m | \u001b[0m3.472    \u001b[0m | \u001b[0m45.67    \u001b[0m | \u001b[0m1.028    \u001b[0m | \u001b[0m3.472    \u001b[0m | \u001b[0m199.6    \u001b[0m |\n",
      "| \u001b[0m45       \u001b[0m | \u001b[0m0.7702   \u001b[0m | \u001b[0m20.0     \u001b[0m | \u001b[0m7.0      \u001b[0m | \u001b[0m50.0     \u001b[0m | \u001b[0m10.0     \u001b[0m | \u001b[0m2.0      \u001b[0m | \u001b[0m124.9    \u001b[0m |\n",
      "| \u001b[0m46       \u001b[0m | \u001b[0m0.8059   \u001b[0m | \u001b[0m20.0     \u001b[0m | \u001b[0m7.0      \u001b[0m | \u001b[0m50.0     \u001b[0m | \u001b[0m1.0      \u001b[0m | \u001b[0m2.0      \u001b[0m | \u001b[0m95.67    \u001b[0m |\n",
      "| \u001b[0m47       \u001b[0m | \u001b[0m0.7813   \u001b[0m | \u001b[0m20.0     \u001b[0m | \u001b[0m3.0      \u001b[0m | \u001b[0m33.33    \u001b[0m | \u001b[0m1.0      \u001b[0m | \u001b[0m2.0      \u001b[0m | \u001b[0m87.07    \u001b[0m |\n",
      "| \u001b[0m48       \u001b[0m | \u001b[0m0.7621   \u001b[0m | \u001b[0m4.345    \u001b[0m | \u001b[0m7.0      \u001b[0m | \u001b[0m50.0     \u001b[0m | \u001b[0m10.0     \u001b[0m | \u001b[0m2.0      \u001b[0m | \u001b[0m92.64    \u001b[0m |\n",
      "| \u001b[0m49       \u001b[0m | \u001b[0m0.7597   \u001b[0m | \u001b[0m19.11    \u001b[0m | \u001b[0m3.73     \u001b[0m | \u001b[0m49.83    \u001b[0m | \u001b[0m7.844    \u001b[0m | \u001b[0m8.578    \u001b[0m | \u001b[0m107.6    \u001b[0m |\n",
      "| \u001b[0m50       \u001b[0m | \u001b[0m0.5103   \u001b[0m | \u001b[0m20.0     \u001b[0m | \u001b[0m7.0      \u001b[0m | \u001b[0m2.0      \u001b[0m | \u001b[0m10.0     \u001b[0m | \u001b[0m10.0     \u001b[0m | \u001b[0m10.0     \u001b[0m |\n",
      "| \u001b[0m51       \u001b[0m | \u001b[0m0.7856   \u001b[0m | \u001b[0m20.0     \u001b[0m | \u001b[0m3.0      \u001b[0m | \u001b[0m37.99    \u001b[0m | \u001b[0m1.0      \u001b[0m | \u001b[0m10.0     \u001b[0m | \u001b[0m134.5    \u001b[0m |\n",
      "| \u001b[0m52       \u001b[0m | \u001b[0m0.5229   \u001b[0m | \u001b[0m1.726    \u001b[0m | \u001b[0m6.896    \u001b[0m | \u001b[0m32.75    \u001b[0m | \u001b[0m1.314    \u001b[0m | \u001b[0m4.226    \u001b[0m | \u001b[0m134.2    \u001b[0m |\n",
      "| \u001b[0m53       \u001b[0m | \u001b[0m0.7888   \u001b[0m | \u001b[0m20.0     \u001b[0m | \u001b[0m3.0      \u001b[0m | \u001b[0m36.04    \u001b[0m | \u001b[0m1.0      \u001b[0m | \u001b[0m10.0     \u001b[0m | \u001b[0m185.1    \u001b[0m |\n",
      "| \u001b[0m54       \u001b[0m | \u001b[0m0.5241   \u001b[0m | \u001b[0m1.0      \u001b[0m | \u001b[0m7.0      \u001b[0m | \u001b[0m9.474    \u001b[0m | \u001b[0m1.0      \u001b[0m | \u001b[0m10.0     \u001b[0m | \u001b[0m37.46    \u001b[0m |\n",
      "| \u001b[0m55       \u001b[0m | \u001b[0m0.7682   \u001b[0m | \u001b[0m20.0     \u001b[0m | \u001b[0m7.0      \u001b[0m | \u001b[0m35.14    \u001b[0m | \u001b[0m10.0     \u001b[0m | \u001b[0m10.0     \u001b[0m | \u001b[0m200.0    \u001b[0m |\n",
      "=================================================================================================\n"
     ]
    }
   ],
   "source": [
    "from sklearn.ensemble import RandomForestRegressor\n",
    "from bayes_opt import BayesianOptimization\n",
    "from sklearn.model_selection import cross_val_score\n",
    "\n",
    "#optimizes rmse for our linear model\n",
    "def rfr_eval(n_estimators,max_depth,min_samples_split,min_samples_leaf,max_features,max_leaf_nodes):\n",
    "    rfr = RandomForestRegressor(n_estimators=int(n_estimators),\n",
    "                                max_depth=int(max_depth),\n",
    "                                min_samples_split=int(min_samples_split),\n",
    "                                min_samples_leaf=int(min_samples_leaf),\n",
    "                                max_features=int(max_features),\n",
    "                                max_leaf_nodes=int(max_leaf_nodes))\n",
    "    rfr.fit(X_train_scaled, y_train)\n",
    "    y_pred = rfr.predict(X_test_scaled)\n",
    "    \n",
    "    #rmse = np.sqrt(mean_squared_error(y_test, y_pred)) # we want to minimize rmse so we make it negative\n",
    "    r2 = r2_score(y_test, y_pred)\n",
    "    return r2\n",
    "\n",
    "rfr_bo = BayesianOptimization(f = rfr_eval,\n",
    "                                pbounds = {'n_estimators':(10,200),\n",
    "                                           'max_depth':(1,20),\n",
    "                                           'min_samples_split':(2,10),\n",
    "                                           'min_samples_leaf':(1,10),\n",
    "                                           'max_features':(3,len(features)),\n",
    "                                           'max_leaf_nodes':(2,50)})\n",
    "\n",
    "rfr_bo.maximize(n_iter=50, \n",
    "                  init_points=5)"
   ]
  },
  {
   "cell_type": "code",
   "execution_count": 11,
   "id": "fffad56d-32bf-4f7d-800f-8f428c4824ee",
   "metadata": {},
   "outputs": [
    {
     "data": {
      "text/plain": [
       "{'target': 0.8254060412153806,\n",
       " 'params': {'max_depth': 9.050099131458282,\n",
       "  'max_features': 7.0,\n",
       "  'max_leaf_nodes': 20.864830126658855,\n",
       "  'min_samples_leaf': 1.0,\n",
       "  'min_samples_split': 2.0,\n",
       "  'n_estimators': 27.40089684840415}}"
      ]
     },
     "execution_count": 11,
     "metadata": {},
     "output_type": "execute_result"
    }
   ],
   "source": [
    "rfr_bo.max"
   ]
  },
  {
   "cell_type": "code",
   "execution_count": 13,
   "id": "79ce6610-0c99-46ec-ab1e-87a3729f1ad2",
   "metadata": {},
   "outputs": [
    {
     "data": {
      "text/plain": [
       "7.0"
      ]
     },
     "execution_count": 13,
     "metadata": {},
     "output_type": "execute_result"
    }
   ],
   "source": [
    "rfr_bo.max['params']['max_features']"
   ]
  },
  {
   "cell_type": "code",
   "execution_count": 46,
   "id": "46785f4b-e40d-4a50-bed0-a274f190cbd2",
   "metadata": {},
   "outputs": [
    {
     "name": "stdout",
     "output_type": "stream",
     "text": [
      "Bayesian Optimized Random Forest Regressor:\n",
      "Mean Squared Error: 5119270.354739264\n",
      "Mean Absolute Error: 3507382.0342028835\n",
      "R-squared: 0.821973621486979\n"
     ]
    }
   ],
   "source": [
    "rfr_optimized = RandomForestRegressor(max_depth = int(rfr_bo.max['params']['max_depth']),\n",
    "                                      max_features = int(rfr_bo.max['params']['max_features']),\n",
    "                                      max_leaf_nodes = int(rfr_bo.max['params']['max_leaf_nodes']),\n",
    "                                      min_samples_leaf = int(rfr_bo.max['params']['min_samples_leaf']),\n",
    "                                      min_samples_split = int(rfr_bo.max['params']['min_samples_split']),\n",
    "                                      n_estimators = int(rfr_bo.max['params']['n_estimators']))\n",
    "rfr_optimized.fit(X_train_scaled,y_train)\n",
    "y_pred = rfr_optimized.predict(X_test_scaled)\n",
    "\n",
    "print('Bayesian Optimized Random Forest Regressor:')\n",
    "print_metrics(y_test,y_pred)"
   ]
  },
  {
   "cell_type": "code",
   "execution_count": 51,
   "id": "41b18de5-7b40-472f-accd-91339b6137de",
   "metadata": {},
   "outputs": [
    {
     "data": {
      "text/plain": [
       "0.6880962665756261"
      ]
     },
     "execution_count": 51,
     "metadata": {},
     "output_type": "execute_result"
    }
   ],
   "source": [
    "#cross validation\n",
    "from sklearn.model_selection import cross_val_score, KFold\n",
    "kf = KFold(n_splits=5, shuffle=True)\n",
    "cv_results = cross_val_score(rfr_optimized, X, y, cv=kf)\n",
    "np.mean(cv_results)"
   ]
  }
 ],
 "metadata": {
  "kernelspec": {
   "display_name": "Python 3 (ipykernel)",
   "language": "python",
   "name": "python3"
  },
  "language_info": {
   "codemirror_mode": {
    "name": "ipython",
    "version": 3
   },
   "file_extension": ".py",
   "mimetype": "text/x-python",
   "name": "python",
   "nbconvert_exporter": "python",
   "pygments_lexer": "ipython3",
   "version": "3.11.7"
  }
 },
 "nbformat": 4,
 "nbformat_minor": 5
}
