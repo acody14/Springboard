{
 "cells": [
  {
   "cell_type": "markdown",
   "id": "6d692f20",
   "metadata": {},
   "source": [
    "## Capstone 2 Exploratory Data Analysis\n",
    "### NBA Salary Predictor and Trade Suggestion\n",
    "### Austin Cody"
   ]
  },
  {
   "cell_type": "code",
   "execution_count": null,
   "id": "9184d781",
   "metadata": {},
   "outputs": [],
   "source": [
    "# importing modules\n",
    "import pandas as pd\n",
    "import matplotlib.pyplot as plt\n",
    "import seaborn as sns"
   ]
  }
 ],
 "metadata": {
  "kernelspec": {
   "display_name": "Python 3 (ipykernel)",
   "language": "python",
   "name": "python3"
  },
  "language_info": {
   "codemirror_mode": {
    "name": "ipython",
    "version": 3
   },
   "file_extension": ".py",
   "mimetype": "text/x-python",
   "name": "python",
   "nbconvert_exporter": "python",
   "pygments_lexer": "ipython3",
   "version": "3.11.3"
  }
 },
 "nbformat": 4,
 "nbformat_minor": 5
}
