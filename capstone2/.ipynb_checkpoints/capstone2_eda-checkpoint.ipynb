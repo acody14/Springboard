{
 "cells": [
  {
   "cell_type": "markdown",
   "id": "36eff9cb",
   "metadata": {},
   "source": [
    "## Capstone 2 Exploratory Data Analysis\n",
    "### NBA Salary Predictor and Trade Suggestion\n",
    "### Austin Cody"
   ]
  },
  {
   "cell_type": "code",
   "execution_count": null,
   "id": "95cf9df9",
   "metadata": {},
   "outputs": [],
   "source": [
    "# importing modules\n",
    "import pandas as pd\n",
    "import matplotlib.pyplot as plt\n",
    "import seaborn as sns\n",
    "\n",
    "import warnings\n",
    "# Suppressing FutureWarning related to deprecated append method\n",
    "warnings.simplefilter(action='ignore', category=FutureWarning)"
   ]
  },
  {
   "cell_type": "code",
   "execution_count": null,
   "id": "42d814fd",
   "metadata": {},
   "outputs": [],
   "source": [
    "# Loading our newly cleaned csv into pandas DataFrame\n",
    "df = pd.read_csv('nba_salaries_cleaned.csv')"
   ]
  },
  {
   "cell_type": "code",
   "execution_count": null,
   "id": "e19774b2",
   "metadata": {},
   "outputs": [],
   "source": [
    "df.head()"
   ]
  },
  {
   "cell_type": "code",
   "execution_count": null,
   "id": "437fa861",
   "metadata": {},
   "outputs": [],
   "source": [
    "# TASK: examine every feature using either histograms, bi-plots, or other visual and numeric means."
   ]
  },
  {
   "cell_type": "code",
   "execution_count": null,
   "id": "1ada15a5",
   "metadata": {},
   "outputs": [],
   "source": [
    "# TASK: examine relationship strengths using Pearson correlation coefficients and other statistical methods"
   ]
  },
  {
   "cell_type": "code",
   "execution_count": null,
   "id": "a0b3c1e0",
   "metadata": {},
   "outputs": [],
   "source": [
    "# Creating heatmap to examine correlation coefficients between salary and other variables\n",
    "correlation_matrix = df.corr()\n",
    "plt.subplots(figsize=(30,20))\n",
    "sns.heatmap(correlation_matrix, annot=True, cmap='coolwarm', linewidths=.5, vmin=-1.0, vmax=1.0);"
   ]
  },
  {
   "cell_type": "code",
   "execution_count": null,
   "id": "addfd3d1",
   "metadata": {},
   "outputs": [],
   "source": [
    "# Looks like we have a choice to make about the threshold for correlation coefficients\n",
    "# 0.5? 0.6? 0.7?"
   ]
  },
  {
   "cell_type": "code",
   "execution_count": null,
   "id": "0cf91284",
   "metadata": {},
   "outputs": [],
   "source": [
    "# categorical variables position and team are stored as strings (they were stored as lists previously)\n",
    "# this is an issue as i need to iterate through the items in the list, but the csv import/export process took the list as a string"
   ]
  },
  {
   "cell_type": "code",
   "execution_count": null,
   "id": "2b3b5f5d",
   "metadata": {},
   "outputs": [],
   "source": [
    "for i in range(len(df['position'])):\n",
    "    string = df['position'][i]\n",
    "    string = string.strip(\"[]'\")\n",
    "    df.at[i, 'position'] = string.split(\"', '\")"
   ]
  },
  {
   "cell_type": "code",
   "execution_count": null,
   "id": "73257f02",
   "metadata": {},
   "outputs": [],
   "source": [
    "#examining relationship between position and salary\n",
    "#position column is a list with one or more positions in it\n",
    "dictionary_position = {}\n",
    "df_position = pd.DataFrame(dictionary_position)\n",
    "for i in range(len(df['position'])):\n",
    "    list_of_position = df['position'][i]\n",
    "    for j in range(len(list_of_position)):\n",
    "        row = {'position':list_of_position[j],\n",
    "               'salary':df['salary'][i]}\n",
    "        df_position = df_position.append(row, ignore_index=True) # unlike append as a list method, append as a df method doesn't modify the original\n",
    "#now we have a dataframe of single positions with their associated salary.\n",
    "#I counted 7 players with more than 1 position. the length of this dataframe should be seven more than the length of df\n",
    "assert len(df_position) == len(df) + 7\n",
    "\n",
    "#checks out\n",
    "df_position.head(14)"
   ]
  },
  {
   "cell_type": "code",
   "execution_count": null,
   "id": "9db3e1fe",
   "metadata": {},
   "outputs": [],
   "source": []
  }
 ],
 "metadata": {
  "kernelspec": {
   "display_name": "Python 3 (ipykernel)",
   "language": "python",
   "name": "python3"
  },
  "language_info": {
   "codemirror_mode": {
    "name": "ipython",
    "version": 3
   },
   "file_extension": ".py",
   "mimetype": "text/x-python",
   "name": "python",
   "nbconvert_exporter": "python",
   "pygments_lexer": "ipython3",
   "version": "3.11.3"
  }
 },
 "nbformat": 4,
 "nbformat_minor": 5
}
