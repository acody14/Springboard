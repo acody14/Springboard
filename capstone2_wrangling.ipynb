{
 "cells": [
  {
   "cell_type": "code",
   "execution_count": null,
   "id": "efaf3d09",
   "metadata": {},
   "outputs": [],
   "source": [
    "# importing modules\n",
    "import pandas as pd\n",
    "import matplotlib.pyplot as plt\n",
    "import seaborn as sns\n",
    "import os"
   ]
  },
  {
   "cell_type": "code",
   "execution_count": null,
   "id": "29749ce3",
   "metadata": {},
   "outputs": [],
   "source": [
    "# Loading nba_salaries.csv into pandas DataFrame\n",
    "salaries = pd.read_csv('nba_salaries.csv')"
   ]
  },
  {
   "cell_type": "code",
   "execution_count": null,
   "id": "df0218a1",
   "metadata": {},
   "outputs": [],
   "source": [
    "# Basic info on each column\n",
    "salaries.info()"
   ]
  },
  {
   "cell_type": "code",
   "execution_count": null,
   "id": "644f682a",
   "metadata": {},
   "outputs": [],
   "source": [
    "# in case I want to examine the entire dataframe in jupyter notebook later without pandas limiting the number of visible rows\n",
    "pd.set_option('display.max_rows', None)\n",
    "\n",
    "# displaying first 10 rows\n",
    "salaries.head()"
   ]
  },
  {
   "cell_type": "code",
   "execution_count": null,
   "id": "9c05c26c",
   "metadata": {},
   "outputs": [],
   "source": [
    "# transposing to more easily examine an individual player\n",
    "salaries[salaries['Player Name'] == 'Dorian Finney-Smith'].T"
   ]
  },
  {
   "cell_type": "code",
   "execution_count": null,
   "id": "a9e20d29",
   "metadata": {},
   "outputs": [],
   "source": [
    "# Currently we have two unnecessary columns at the beginning and end of our DataFrame: \n",
    "# 'unnamed: 0' appears to be a number from zero to len(salaries).\n",
    "# 'Player-additional' which is some sort of player-id.\n",
    "\n",
    "# We will get rid of the 'unnamed: 0' column. It's not useful, even if we were to use it as an index.\n",
    "# dropping first unnecessary column\n",
    "salaries.drop('Unnamed: 0', axis=1, inplace=True)"
   ]
  },
  {
   "cell_type": "code",
   "execution_count": null,
   "id": "29fafe07",
   "metadata": {},
   "outputs": [],
   "source": [
    "# BEFORE eliminating the 'Player-additional' column  we need to make sure there are no duplicate player names.\n",
    "# if there are duplicate player names then an id column such as this would be extremely important.\n",
    "\n",
    "#checking if there are duplicate player names\n",
    "print(salaries.duplicated('Player Name').sum())\n",
    "\n",
    "#Excellent, no player duplicates. Dropping the second unnecessary column\n",
    "salaries.drop('Player-additional', axis=1, inplace=True)"
   ]
  },
  {
   "cell_type": "code",
   "execution_count": null,
   "id": "9c0b5f77",
   "metadata": {},
   "outputs": [],
   "source": [
    "# Many column names are abbreviated names of different statistics. Renaming will make our data more readable.\n",
    "# pg, meaning 'per game', is so common in these stats that I left it in.\n",
    "\n",
    "# all stats explained on https://www.basketball-reference.com/about/glossary.html\n",
    "\n",
    "# renaming columns\n",
    "salaries.rename(columns = {\n",
    "    'Player Name':'name',\n",
    "    'GP':'games_played',\n",
    "    'GS':'games_started',\n",
    "    'MP':'minutes_pg',\n",
    "    'FG':'field_goals_pg', # includes any shot worth 2 or 3 points that is not a free throw\n",
    "    'FGA':'field_goal_attempts_pg',\n",
    "    'FG%':'field_goal_%',\n",
    "    '3P':'3_pointers_pg',  # 3 point field goal\n",
    "    '3PA':'3_point_attempts_pg',\n",
    "    '3P%':'3_point_%',\n",
    "    '2P':'2_pointers_pg', # 2 point field goal\n",
    "    '2PA':'2_point_attempts_pg',\n",
    "    '2P%':'2_point_%',\n",
    "    'eFG%':'effective_field_goal_%', # field goal % adjusted by the fact that 3 point field goal attempts are worth more than 2 point field goal attempts\n",
    "    'FT':'free_throws_pg',\n",
    "    'FTA':'free_throw_attempts_pg',\n",
    "    'FT%':'free_throw_%',\n",
    "    'ORB':'o_rebounds_pg', # offensive\n",
    "    'DRB':'d_rebounds_pg', # defensive\n",
    "    'TRB':'total_rebounds_pg',\n",
    "    'AST':'assists_pg',\n",
    "    'STL':'steals_pg',\n",
    "    'BLK':'blocks_pg',\n",
    "    'TOV':'turnovers_pg',\n",
    "    'PF':'personal_fouls_pg',\n",
    "    'PTS':'points_pg'},\n",
    "               inplace=True)\n",
    "\n",
    "# lowercasing the remaining columns for uniformity\n",
    "salaries.columns = salaries.columns.str.lower()"
   ]
  },
  {
   "cell_type": "code",
   "execution_count": null,
   "id": "e65967fa",
   "metadata": {},
   "outputs": [],
   "source": [
    "#checking all the columns\n",
    "salaries[salaries.name=='Dorian Finney-Smith'].T"
   ]
  },
  {
   "cell_type": "code",
   "execution_count": null,
   "id": "68d8a8e7",
   "metadata": {},
   "outputs": [],
   "source": [
    "# Some players have played for multiple teams. If so, their team name uses the format 'ABC/DEF'.\n",
    "# Some players have played multiple positions. If so, their position uses the format 'AB-CD'\n",
    "# This might cause trouble later so we'll turn each value in the column into a list of team names by splitting using '/' or '-' as a delimiter.\n",
    "\n",
    "# confirming that columns are of data type 'object' (they are)\n",
    "print(salaries['team'].dtype)\n",
    "print(salaries['position'].dtype)\n",
    "\n",
    "#turning each value into a list\n",
    "salaries['team'] = salaries['team'].str.split('/')\n",
    "salaries['position'] = salaries['position'].str.split('-')\n",
    "\n",
    "#checking if team split worked\n",
    "print(salaries[salaries.name == 'Dorian Finney-Smith'].team) # player who played for two teams this season\n",
    "print(salaries[salaries.name == 'LeBron James'].team)        # player who played for one team this season\n",
    "\n",
    "#checking if position split worked\n",
    "print(salaries[salaries.name == 'Mikal Bridges'].position) # player who played two positions this season\n",
    "print(salaries[salaries.name == 'LeBron James'].position)  # player who played one position this season\n",
    "\n",
    "# all of this worked ^"
   ]
  },
  {
   "cell_type": "code",
   "execution_count": null,
   "id": "37b2f7d1",
   "metadata": {},
   "outputs": [],
   "source": [
    "# re-examining DataFrame\n",
    "salaries.head()"
   ]
  },
  {
   "cell_type": "markdown",
   "id": "2e8113f9",
   "metadata": {},
   "source": [
    "## Missing Values"
   ]
  },
  {
   "cell_type": "code",
   "execution_count": null,
   "id": "f46fad20",
   "metadata": {},
   "outputs": [],
   "source": [
    "# checking number of missing values in each column\n",
    "print(salaries.isna().sum())"
   ]
  },
  {
   "cell_type": "code",
   "execution_count": null,
   "id": "7dcad725",
   "metadata": {},
   "outputs": [],
   "source": [
    "# Every column containing missing values is a percentage column - interesting.\n",
    "# My first hypothesis is that these players played so little that they didn't take shots.\n",
    "# This would result in zero division when calculating the percentages and thus explain our missing values.\n",
    "# Let's investigate."
   ]
  },
  {
   "cell_type": "code",
   "execution_count": null,
   "id": "c0e991ea",
   "metadata": {},
   "outputs": [],
   "source": [
    "# first examining the missing value in field_goal_%\n",
    "\n",
    "salaries[salaries['field_goal_%'].isna()].T\n",
    "\n",
    "# Alondes Williams is the person with missing field_goal_%. It looks like he didn't shoot any field goals.\n",
    "# In fact, he only played for 5 minutes in a single game."
   ]
  },
  {
   "cell_type": "code",
   "execution_count": null,
   "id": "e0dcafa7",
   "metadata": {},
   "outputs": [],
   "source": [
    "# next examining missing values in 3_point_%\n",
    "\n",
    "salaries[salaries['3_point_%'].isna()].T\n",
    "\n",
    "# Very interesting. 13 players have missing 3_point_%\n",
    "# All of them have 0 3_pointers_pg, but why? What do they have in common?\n",
    "# Six of these players have 5 or fewer games_played which is a feasible explanation.\n",
    "# The other seven players have position in common. They all play Center.\n",
    "# Centers do not typically have the opportunity to shoot 3 pointers because they hover so close to the basket.\n",
    "\n",
    "# This is starting to make sense."
   ]
  },
  {
   "cell_type": "code",
   "execution_count": null,
   "id": "40aabe2d",
   "metadata": {},
   "outputs": [],
   "source": [
    "#next examining missing values in 2_point_%\n",
    "\n",
    "salaries[salaries['2_point_%'].isna()]\n",
    "\n",
    "# again these four players all played very few games."
   ]
  },
  {
   "cell_type": "code",
   "execution_count": null,
   "id": "e5e57bf0",
   "metadata": {},
   "outputs": [],
   "source": [
    "#next examining missing value in effective_field_goal_%\n",
    "\n",
    "salaries[salaries['effective_field_goal_%'].isna()]\n",
    "\n",
    "#Alondes Williams again - the person who didn't take any shots."
   ]
  },
  {
   "cell_type": "code",
   "execution_count": null,
   "id": "c46dbefd",
   "metadata": {},
   "outputs": [],
   "source": [
    "#lastly examining free_throw_%\n",
    "salaries[salaries['free_throw_%'].isna()].T\n",
    "\n",
    "#these players again have a relatively low number of games_played"
   ]
  },
  {
   "cell_type": "code",
   "execution_count": null,
   "id": "9392942b",
   "metadata": {},
   "outputs": [],
   "source": [
    "#### Missing Values conclusion\n",
    "\n",
    "# Every missing value was the result of zero divison from a player not taking a field goal or a free throw\n",
    "# However, not every missing value was the result of these players playing few games (the Centers taking no 3 point shots)\n",
    "# I think imputing the values as 0% makes the most sense in this case because they didn't make any attempts.\n",
    "# Deleting the entire player's row doesn't make sense because they may have compensated by having a high 2 point percentage.\n",
    "# Also I think dropping players who have played 10 games or fewer will reduce the skew in our data. "
   ]
  },
  {
   "cell_type": "code",
   "execution_count": null,
   "id": "1df5a798",
   "metadata": {},
   "outputs": [],
   "source": [
    "#impute missing values as 0"
   ]
  },
  {
   "cell_type": "code",
   "execution_count": null,
   "id": "00f2a770",
   "metadata": {},
   "outputs": [],
   "source": [
    "#drop players with fewer than 10 games played\n",
    "\n",
    "#counting how many players have fewer than 10 games\n",
    "(salaries['games_played'] < 10).sum()"
   ]
  },
  {
   "cell_type": "code",
   "execution_count": null,
   "id": "6c47a87e",
   "metadata": {},
   "outputs": [],
   "source": [
    "# check for outliers"
   ]
  },
  {
   "cell_type": "code",
   "execution_count": null,
   "id": "08f5ba14",
   "metadata": {},
   "outputs": [],
   "source": [
    "#dummy variable for position and team"
   ]
  },
  {
   "cell_type": "code",
   "execution_count": null,
   "id": "fea09dcd",
   "metadata": {},
   "outputs": [],
   "source": [
    "#import injury dataset?"
   ]
  },
  {
   "cell_type": "code",
   "execution_count": null,
   "id": "ae4ba6e7",
   "metadata": {},
   "outputs": [],
   "source": []
  },
  {
   "cell_type": "code",
   "execution_count": null,
   "id": "898110bd",
   "metadata": {},
   "outputs": [],
   "source": []
  },
  {
   "cell_type": "code",
   "execution_count": null,
   "id": "be33c7fa",
   "metadata": {},
   "outputs": [],
   "source": []
  },
  {
   "cell_type": "code",
   "execution_count": null,
   "id": "87f79f94",
   "metadata": {},
   "outputs": [],
   "source": []
  },
  {
   "cell_type": "code",
   "execution_count": null,
   "id": "b412580a",
   "metadata": {},
   "outputs": [],
   "source": []
  }
 ],
 "metadata": {
  "kernelspec": {
   "display_name": "Python 3 (ipykernel)",
   "language": "python",
   "name": "python3"
  },
  "language_info": {
   "codemirror_mode": {
    "name": "ipython",
    "version": 3
   },
   "file_extension": ".py",
   "mimetype": "text/x-python",
   "name": "python",
   "nbconvert_exporter": "python",
   "pygments_lexer": "ipython3",
   "version": "3.11.3"
  }
 },
 "nbformat": 4,
 "nbformat_minor": 5
}
