{
 "cells": [
  {
   "cell_type": "markdown",
   "id": "15ff98c5-1a12-4cf0-a7c4-6736a675a424",
   "metadata": {},
   "source": [
    "## Relax Inc. Take-Home Challenge - Austin Cody"
   ]
  },
  {
   "cell_type": "code",
   "execution_count": 1,
   "id": "0ca57ce9-3e6a-4050-9e80-8e39f7f29861",
   "metadata": {},
   "outputs": [],
   "source": [
    "import pandas as pd\n",
    "import numpy as np\n",
    "import matplotlib.pyplot as plt\n",
    "import seaborn as sns"
   ]
  },
  {
   "cell_type": "code",
   "execution_count": 2,
   "id": "c1d011a1-5ce9-44fc-8c3f-11a7aec0359c",
   "metadata": {},
   "outputs": [
    {
     "data": {
      "text/html": [
       "<div>\n",
       "<style scoped>\n",
       "    .dataframe tbody tr th:only-of-type {\n",
       "        vertical-align: middle;\n",
       "    }\n",
       "\n",
       "    .dataframe tbody tr th {\n",
       "        vertical-align: top;\n",
       "    }\n",
       "\n",
       "    .dataframe thead th {\n",
       "        text-align: right;\n",
       "    }\n",
       "</style>\n",
       "<table border=\"1\" class=\"dataframe\">\n",
       "  <thead>\n",
       "    <tr style=\"text-align: right;\">\n",
       "      <th></th>\n",
       "      <th>object_id</th>\n",
       "      <th>creation_time</th>\n",
       "      <th>name</th>\n",
       "      <th>email</th>\n",
       "      <th>creation_source</th>\n",
       "      <th>last_session_creation_time</th>\n",
       "      <th>opted_in_to_mailing_list</th>\n",
       "      <th>enabled_for_marketing_drip</th>\n",
       "      <th>org_id</th>\n",
       "      <th>invited_by_user_id</th>\n",
       "    </tr>\n",
       "  </thead>\n",
       "  <tbody>\n",
       "    <tr>\n",
       "      <th>0</th>\n",
       "      <td>1</td>\n",
       "      <td>2014-04-22 03:53:30</td>\n",
       "      <td>Clausen August</td>\n",
       "      <td>AugustCClausen@yahoo.com</td>\n",
       "      <td>GUEST_INVITE</td>\n",
       "      <td>1.398139e+09</td>\n",
       "      <td>1</td>\n",
       "      <td>0</td>\n",
       "      <td>11</td>\n",
       "      <td>10803.0</td>\n",
       "    </tr>\n",
       "    <tr>\n",
       "      <th>1</th>\n",
       "      <td>2</td>\n",
       "      <td>2013-11-15 03:45:04</td>\n",
       "      <td>Poole Matthew</td>\n",
       "      <td>MatthewPoole@gustr.com</td>\n",
       "      <td>ORG_INVITE</td>\n",
       "      <td>1.396238e+09</td>\n",
       "      <td>0</td>\n",
       "      <td>0</td>\n",
       "      <td>1</td>\n",
       "      <td>316.0</td>\n",
       "    </tr>\n",
       "    <tr>\n",
       "      <th>2</th>\n",
       "      <td>3</td>\n",
       "      <td>2013-03-19 23:14:52</td>\n",
       "      <td>Bottrill Mitchell</td>\n",
       "      <td>MitchellBottrill@gustr.com</td>\n",
       "      <td>ORG_INVITE</td>\n",
       "      <td>1.363735e+09</td>\n",
       "      <td>0</td>\n",
       "      <td>0</td>\n",
       "      <td>94</td>\n",
       "      <td>1525.0</td>\n",
       "    </tr>\n",
       "    <tr>\n",
       "      <th>3</th>\n",
       "      <td>4</td>\n",
       "      <td>2013-05-21 08:09:28</td>\n",
       "      <td>Clausen Nicklas</td>\n",
       "      <td>NicklasSClausen@yahoo.com</td>\n",
       "      <td>GUEST_INVITE</td>\n",
       "      <td>1.369210e+09</td>\n",
       "      <td>0</td>\n",
       "      <td>0</td>\n",
       "      <td>1</td>\n",
       "      <td>5151.0</td>\n",
       "    </tr>\n",
       "    <tr>\n",
       "      <th>4</th>\n",
       "      <td>5</td>\n",
       "      <td>2013-01-17 10:14:20</td>\n",
       "      <td>Raw Grace</td>\n",
       "      <td>GraceRaw@yahoo.com</td>\n",
       "      <td>GUEST_INVITE</td>\n",
       "      <td>1.358850e+09</td>\n",
       "      <td>0</td>\n",
       "      <td>0</td>\n",
       "      <td>193</td>\n",
       "      <td>5240.0</td>\n",
       "    </tr>\n",
       "  </tbody>\n",
       "</table>\n",
       "</div>"
      ],
      "text/plain": [
       "   object_id        creation_time               name  \\\n",
       "0          1  2014-04-22 03:53:30     Clausen August   \n",
       "1          2  2013-11-15 03:45:04      Poole Matthew   \n",
       "2          3  2013-03-19 23:14:52  Bottrill Mitchell   \n",
       "3          4  2013-05-21 08:09:28    Clausen Nicklas   \n",
       "4          5  2013-01-17 10:14:20          Raw Grace   \n",
       "\n",
       "                        email creation_source  last_session_creation_time  \\\n",
       "0    AugustCClausen@yahoo.com    GUEST_INVITE                1.398139e+09   \n",
       "1      MatthewPoole@gustr.com      ORG_INVITE                1.396238e+09   \n",
       "2  MitchellBottrill@gustr.com      ORG_INVITE                1.363735e+09   \n",
       "3   NicklasSClausen@yahoo.com    GUEST_INVITE                1.369210e+09   \n",
       "4          GraceRaw@yahoo.com    GUEST_INVITE                1.358850e+09   \n",
       "\n",
       "   opted_in_to_mailing_list  enabled_for_marketing_drip  org_id  \\\n",
       "0                         1                           0      11   \n",
       "1                         0                           0       1   \n",
       "2                         0                           0      94   \n",
       "3                         0                           0       1   \n",
       "4                         0                           0     193   \n",
       "\n",
       "   invited_by_user_id  \n",
       "0             10803.0  \n",
       "1               316.0  \n",
       "2              1525.0  \n",
       "3              5151.0  \n",
       "4              5240.0  "
      ]
     },
     "execution_count": 2,
     "metadata": {},
     "output_type": "execute_result"
    }
   ],
   "source": [
    "# users = pd.read_csv('takehome_users.csv')\n",
    "# This ^ generated an error that the csv was not UTF-8 encoded\n",
    "# To fix, I opened the csv in Numbers and exported it to csv again, specifying UTF-8 encoding\n",
    "\n",
    "users = pd.read_csv('takehome_users_UTF8.csv')\n",
    "users.head()"
   ]
  },
  {
   "cell_type": "code",
   "execution_count": 3,
   "id": "46a220bd-afce-4775-bdd3-320e361e3a92",
   "metadata": {},
   "outputs": [
    {
     "data": {
      "text/plain": [
       "object_id                        0\n",
       "creation_time                    0\n",
       "name                             0\n",
       "email                            0\n",
       "creation_source                  0\n",
       "last_session_creation_time    3177\n",
       "opted_in_to_mailing_list         0\n",
       "enabled_for_marketing_drip       0\n",
       "org_id                           0\n",
       "invited_by_user_id            5583\n",
       "dtype: int64"
      ]
     },
     "execution_count": 3,
     "metadata": {},
     "output_type": "execute_result"
    }
   ],
   "source": [
    "users.isna().sum()\n",
    "# we have some missing values - invited_by_user_id won't be helpful anyway - we can delete that\n",
    "# Or actually we could turn it into a was_invited column with a 0 or a 1 and see if it's a useful feature\n",
    "# It could be that being invited is an indicator for use\n",
    "\n",
    "# last_session_creation_time missing 3177 means that 3177 people didn't ever login after initially creating their account\n",
    "# We will have to check if those users absences are consistent with the users in the logins dataframe"
   ]
  },
  {
   "cell_type": "code",
   "execution_count": 4,
   "id": "114319d4-7590-45f2-a843-6c0530b7157e",
   "metadata": {},
   "outputs": [
    {
     "data": {
      "text/html": [
       "<div>\n",
       "<style scoped>\n",
       "    .dataframe tbody tr th:only-of-type {\n",
       "        vertical-align: middle;\n",
       "    }\n",
       "\n",
       "    .dataframe tbody tr th {\n",
       "        vertical-align: top;\n",
       "    }\n",
       "\n",
       "    .dataframe thead th {\n",
       "        text-align: right;\n",
       "    }\n",
       "</style>\n",
       "<table border=\"1\" class=\"dataframe\">\n",
       "  <thead>\n",
       "    <tr style=\"text-align: right;\">\n",
       "      <th></th>\n",
       "      <th>time_stamp</th>\n",
       "      <th>user_id</th>\n",
       "      <th>visited</th>\n",
       "    </tr>\n",
       "  </thead>\n",
       "  <tbody>\n",
       "    <tr>\n",
       "      <th>0</th>\n",
       "      <td>2014-04-22 03:53:30</td>\n",
       "      <td>1</td>\n",
       "      <td>1</td>\n",
       "    </tr>\n",
       "    <tr>\n",
       "      <th>1</th>\n",
       "      <td>2013-11-15 03:45:04</td>\n",
       "      <td>2</td>\n",
       "      <td>1</td>\n",
       "    </tr>\n",
       "    <tr>\n",
       "      <th>2</th>\n",
       "      <td>2013-11-29 03:45:04</td>\n",
       "      <td>2</td>\n",
       "      <td>1</td>\n",
       "    </tr>\n",
       "    <tr>\n",
       "      <th>3</th>\n",
       "      <td>2013-12-09 03:45:04</td>\n",
       "      <td>2</td>\n",
       "      <td>1</td>\n",
       "    </tr>\n",
       "    <tr>\n",
       "      <th>4</th>\n",
       "      <td>2013-12-25 03:45:04</td>\n",
       "      <td>2</td>\n",
       "      <td>1</td>\n",
       "    </tr>\n",
       "  </tbody>\n",
       "</table>\n",
       "</div>"
      ],
      "text/plain": [
       "            time_stamp  user_id  visited\n",
       "0  2014-04-22 03:53:30        1        1\n",
       "1  2013-11-15 03:45:04        2        1\n",
       "2  2013-11-29 03:45:04        2        1\n",
       "3  2013-12-09 03:45:04        2        1\n",
       "4  2013-12-25 03:45:04        2        1"
      ]
     },
     "execution_count": 4,
     "metadata": {},
     "output_type": "execute_result"
    }
   ],
   "source": [
    "# Examining logins dataframe\n",
    "logins = pd.read_csv('takehome_user_engagement.csv')\n",
    "\n",
    "#checking for missing values\n",
    "assert any(logins.isna().sum()) == False\n",
    "\n",
    "logins.head()"
   ]
  },
  {
   "cell_type": "code",
   "execution_count": 5,
   "id": "08e9530e-0bff-4b8c-8e00-60465ec6970b",
   "metadata": {},
   "outputs": [
    {
     "data": {
      "text/html": [
       "<div>\n",
       "<style scoped>\n",
       "    .dataframe tbody tr th:only-of-type {\n",
       "        vertical-align: middle;\n",
       "    }\n",
       "\n",
       "    .dataframe tbody tr th {\n",
       "        vertical-align: top;\n",
       "    }\n",
       "\n",
       "    .dataframe thead th {\n",
       "        text-align: right;\n",
       "    }\n",
       "</style>\n",
       "<table border=\"1\" class=\"dataframe\">\n",
       "  <thead>\n",
       "    <tr style=\"text-align: right;\">\n",
       "      <th></th>\n",
       "      <th>user_id</th>\n",
       "      <th>visited</th>\n",
       "    </tr>\n",
       "    <tr>\n",
       "      <th>time_stamp</th>\n",
       "      <th></th>\n",
       "      <th></th>\n",
       "    </tr>\n",
       "  </thead>\n",
       "  <tbody>\n",
       "    <tr>\n",
       "      <th>2014-04-22 03:53:30</th>\n",
       "      <td>1</td>\n",
       "      <td>1</td>\n",
       "    </tr>\n",
       "    <tr>\n",
       "      <th>2013-11-15 03:45:04</th>\n",
       "      <td>2</td>\n",
       "      <td>1</td>\n",
       "    </tr>\n",
       "    <tr>\n",
       "      <th>2013-11-29 03:45:04</th>\n",
       "      <td>2</td>\n",
       "      <td>1</td>\n",
       "    </tr>\n",
       "    <tr>\n",
       "      <th>2013-12-09 03:45:04</th>\n",
       "      <td>2</td>\n",
       "      <td>1</td>\n",
       "    </tr>\n",
       "    <tr>\n",
       "      <th>2013-12-25 03:45:04</th>\n",
       "      <td>2</td>\n",
       "      <td>1</td>\n",
       "    </tr>\n",
       "  </tbody>\n",
       "</table>\n",
       "</div>"
      ],
      "text/plain": [
       "                     user_id  visited\n",
       "time_stamp                           \n",
       "2014-04-22 03:53:30        1        1\n",
       "2013-11-15 03:45:04        2        1\n",
       "2013-11-29 03:45:04        2        1\n",
       "2013-12-09 03:45:04        2        1\n",
       "2013-12-25 03:45:04        2        1"
      ]
     },
     "execution_count": 5,
     "metadata": {},
     "output_type": "execute_result"
    }
   ],
   "source": [
    "# setting index to time_stamp column as a datetime object\n",
    "logins['time_stamp'] = pd.to_datetime(logins['time_stamp'])\n",
    "logins.set_index('time_stamp', inplace=True)\n",
    "\n",
    "logins.head()"
   ]
  },
  {
   "cell_type": "code",
   "execution_count": 6,
   "id": "2c98810a-cf0d-482e-b26b-a02cca30c8c8",
   "metadata": {},
   "outputs": [
    {
     "name": "stdout",
     "output_type": "stream",
     "text": [
      "12000\n"
     ]
    }
   ],
   "source": [
    "# Checking that total number of users is consistent between two dataframes\n",
    "\n",
    "# number of users in logins dataframe\n",
    "num_logged_in = logins['user_id'].nunique()\n",
    "\n",
    "# number of users who had missing values in the last_session_creation_time column of users dataframe\n",
    "never_logged_in = users['last_session_creation_time'].isna().sum()\n",
    "\n",
    "# These should add up to our 12000 users\n",
    "total = num_logged_in + never_logged_in\n",
    "print(total)"
   ]
  },
  {
   "cell_type": "markdown",
   "id": "debd81b5-1d54-437f-a22a-e4bfa52e99bb",
   "metadata": {},
   "source": [
    "## Creation of adopted_user Column\n",
    "We are defining an Adopted User as a user who has logged in 3 times in at least one 7 day timeframe"
   ]
  },
  {
   "cell_type": "code",
   "execution_count": 7,
   "id": "dcd72fee-2433-40e2-b4a8-0fbf4ba1faa9",
   "metadata": {},
   "outputs": [
    {
     "data": {
      "text/plain": [
       "True"
      ]
     },
     "execution_count": 7,
     "metadata": {},
     "output_type": "execute_result"
    }
   ],
   "source": [
    "# First trying with a single user using rolling method\n",
    "\n",
    "# Identifying whether user_id 10 has logged in 3 times in at least one 7 day window\n",
    "logins_single_user = logins[logins['user_id'] == 10]['visited']\n",
    "any(logins_single_user.rolling(window='7D').sum() > 3)"
   ]
  },
  {
   "cell_type": "code",
   "execution_count": 8,
   "id": "828408c3-e67a-4cff-8eb1-e64b9f40f957",
   "metadata": {},
   "outputs": [],
   "source": [
    "# Adapting this code for any user id and creating adopted_user column\n",
    "\n",
    "# Lambda function based on previous cell's code\n",
    "adopted_user = lambda id: 1 if any(logins[logins['user_id'] == id]['visited'].rolling(window='7D').sum() >= 3) else 0\n",
    "\n",
    "# Creating column applying lambda function to user_id column\n",
    "logins['adopted_user'] = logins['user_id'].apply(adopted_user)"
   ]
  },
  {
   "cell_type": "code",
   "execution_count": 9,
   "id": "e896f92d-3247-4a9c-859e-a54cfbeaf599",
   "metadata": {},
   "outputs": [],
   "source": [
    "logins_grouped = logins.groupby('user_id')['adopted_user'].sum()\n",
    "\n",
    "# dataframe of only the users with adopted status\n",
    "adopted_users_df = logins_grouped[logins_grouped > 0]"
   ]
  },
  {
   "cell_type": "code",
   "execution_count": 10,
   "id": "5846490a-44bf-4fb8-9c67-0a8e9336bd18",
   "metadata": {},
   "outputs": [
    {
     "name": "stdout",
     "output_type": "stream",
     "text": [
      "Number of Adopted Users: 1602\n",
      "Adopted Percentage: 13.35%\n"
     ]
    }
   ],
   "source": [
    "num_adopted_users = len(adopted_users_df)\n",
    "print(f'Number of Adopted Users: {num_adopted_users}')\n",
    "\n",
    "adopted_pct = round(num_adopted_users / len(users) * 100, 2)\n",
    "print(f'Adopted Percentage: {adopted_pct}%')"
   ]
  },
  {
   "cell_type": "code",
   "execution_count": 11,
   "id": "d98928ae-5c82-47aa-adad-9682a59926f7",
   "metadata": {},
   "outputs": [],
   "source": [
    "# NOW we need adopted user status in our users dataframe so we can use it as a target variable\n",
    "\n",
    "# lambda function for adding adopted_user to users dataframe\n",
    "add_adopted_user_column = lambda id: 1 if id in adopted_users_df.index else 0\n",
    "\n",
    "# Creating column\n",
    "users['adopted_user'] = users['object_id'].apply(add_adopted_user_column)"
   ]
  },
  {
   "cell_type": "code",
   "execution_count": 12,
   "id": "c513280b-74f2-40e5-9824-ad0f575a8343",
   "metadata": {},
   "outputs": [
    {
     "data": {
      "text/html": [
       "<div>\n",
       "<style scoped>\n",
       "    .dataframe tbody tr th:only-of-type {\n",
       "        vertical-align: middle;\n",
       "    }\n",
       "\n",
       "    .dataframe tbody tr th {\n",
       "        vertical-align: top;\n",
       "    }\n",
       "\n",
       "    .dataframe thead th {\n",
       "        text-align: right;\n",
       "    }\n",
       "</style>\n",
       "<table border=\"1\" class=\"dataframe\">\n",
       "  <thead>\n",
       "    <tr style=\"text-align: right;\">\n",
       "      <th></th>\n",
       "      <th>object_id</th>\n",
       "      <th>creation_time</th>\n",
       "      <th>name</th>\n",
       "      <th>email</th>\n",
       "      <th>creation_source</th>\n",
       "      <th>last_session_creation_time</th>\n",
       "      <th>opted_in_to_mailing_list</th>\n",
       "      <th>enabled_for_marketing_drip</th>\n",
       "      <th>org_id</th>\n",
       "      <th>invited_by_user_id</th>\n",
       "      <th>adopted_user</th>\n",
       "    </tr>\n",
       "  </thead>\n",
       "  <tbody>\n",
       "    <tr>\n",
       "      <th>1</th>\n",
       "      <td>2</td>\n",
       "      <td>2013-11-15 03:45:04</td>\n",
       "      <td>Poole Matthew</td>\n",
       "      <td>MatthewPoole@gustr.com</td>\n",
       "      <td>ORG_INVITE</td>\n",
       "      <td>1.396238e+09</td>\n",
       "      <td>0</td>\n",
       "      <td>0</td>\n",
       "      <td>1</td>\n",
       "      <td>316.0</td>\n",
       "      <td>1</td>\n",
       "    </tr>\n",
       "    <tr>\n",
       "      <th>9</th>\n",
       "      <td>10</td>\n",
       "      <td>2013-01-16 22:08:03</td>\n",
       "      <td>Santos Carla</td>\n",
       "      <td>CarlaFerreiraSantos@gustr.com</td>\n",
       "      <td>ORG_INVITE</td>\n",
       "      <td>1.401833e+09</td>\n",
       "      <td>1</td>\n",
       "      <td>1</td>\n",
       "      <td>318</td>\n",
       "      <td>4143.0</td>\n",
       "      <td>1</td>\n",
       "    </tr>\n",
       "    <tr>\n",
       "      <th>19</th>\n",
       "      <td>20</td>\n",
       "      <td>2014-03-06 11:46:38</td>\n",
       "      <td>Helms Mikayla</td>\n",
       "      <td>lqyvjilf@uhzdq.com</td>\n",
       "      <td>SIGNUP</td>\n",
       "      <td>1.401364e+09</td>\n",
       "      <td>0</td>\n",
       "      <td>0</td>\n",
       "      <td>58</td>\n",
       "      <td>NaN</td>\n",
       "      <td>1</td>\n",
       "    </tr>\n",
       "    <tr>\n",
       "      <th>32</th>\n",
       "      <td>33</td>\n",
       "      <td>2014-03-11 06:29:09</td>\n",
       "      <td>Araujo José</td>\n",
       "      <td>JoseMartinsAraujo@cuvox.de</td>\n",
       "      <td>GUEST_INVITE</td>\n",
       "      <td>1.401518e+09</td>\n",
       "      <td>0</td>\n",
       "      <td>0</td>\n",
       "      <td>401</td>\n",
       "      <td>79.0</td>\n",
       "      <td>1</td>\n",
       "    </tr>\n",
       "    <tr>\n",
       "      <th>41</th>\n",
       "      <td>42</td>\n",
       "      <td>2012-11-11 19:05:07</td>\n",
       "      <td>Pinto Giovanna</td>\n",
       "      <td>GiovannaCunhaPinto@cuvox.de</td>\n",
       "      <td>SIGNUP</td>\n",
       "      <td>1.401045e+09</td>\n",
       "      <td>1</td>\n",
       "      <td>0</td>\n",
       "      <td>235</td>\n",
       "      <td>NaN</td>\n",
       "      <td>1</td>\n",
       "    </tr>\n",
       "  </tbody>\n",
       "</table>\n",
       "</div>"
      ],
      "text/plain": [
       "    object_id        creation_time            name  \\\n",
       "1           2  2013-11-15 03:45:04   Poole Matthew   \n",
       "9          10  2013-01-16 22:08:03    Santos Carla   \n",
       "19         20  2014-03-06 11:46:38   Helms Mikayla   \n",
       "32         33  2014-03-11 06:29:09     Araujo José   \n",
       "41         42  2012-11-11 19:05:07  Pinto Giovanna   \n",
       "\n",
       "                            email creation_source  last_session_creation_time  \\\n",
       "1          MatthewPoole@gustr.com      ORG_INVITE                1.396238e+09   \n",
       "9   CarlaFerreiraSantos@gustr.com      ORG_INVITE                1.401833e+09   \n",
       "19             lqyvjilf@uhzdq.com          SIGNUP                1.401364e+09   \n",
       "32     JoseMartinsAraujo@cuvox.de    GUEST_INVITE                1.401518e+09   \n",
       "41    GiovannaCunhaPinto@cuvox.de          SIGNUP                1.401045e+09   \n",
       "\n",
       "    opted_in_to_mailing_list  enabled_for_marketing_drip  org_id  \\\n",
       "1                          0                           0       1   \n",
       "9                          1                           1     318   \n",
       "19                         0                           0      58   \n",
       "32                         0                           0     401   \n",
       "41                         1                           0     235   \n",
       "\n",
       "    invited_by_user_id  adopted_user  \n",
       "1                316.0             1  \n",
       "9               4143.0             1  \n",
       "19                 NaN             1  \n",
       "32                79.0             1  \n",
       "41                 NaN             1  "
      ]
     },
     "execution_count": 12,
     "metadata": {},
     "output_type": "execute_result"
    }
   ],
   "source": [
    "# confirming that column creation was successful\n",
    "# we can see that users with ids 2 and 10 are listed as adopted users which we know to be true\n",
    "\n",
    "users[users['adopted_user'] == 1].head(5)"
   ]
  },
  {
   "cell_type": "markdown",
   "id": "4b9f128c-9b51-430e-adaf-12f1cd925e8c",
   "metadata": {},
   "source": [
    "## Exploratory Data Analysis"
   ]
  },
  {
   "cell_type": "code",
   "execution_count": 13,
   "id": "b00aa27e-4809-4034-9903-b461db94e356",
   "metadata": {},
   "outputs": [
    {
     "data": {
      "image/png": "[encoded data removed]",
      "text/plain": [
       "<Figure size 1500x1000 with 2 Axes>"
      ]
     },
     "metadata": {},
     "output_type": "display_data"
    }
   ],
   "source": [
    "correlation_matrix = users.corr(numeric_only=True)\n",
    "plt.subplots(figsize=(15,10))\n",
    "sns.heatmap(correlation_matrix,\n",
    "            annot=True,\n",
    "            cmap='coolwarm',\n",
    "            linewidths=.5,\n",
    "            vmin=-1, # to make sure colors do not scale to our lowest and highest correlation coefficients\n",
    "            vmax=1.0);"
   ]
  },
  {
   "cell_type": "code",
   "execution_count": 14,
   "id": "798681cb-c42d-4b5d-a3f3-10860caa9609",
   "metadata": {},
   "outputs": [
    {
     "data": {
      "image/png": "[encoded data removed]",
      "text/plain": [
       "<Figure size 640x480 with 1 Axes>"
      ]
     },
     "metadata": {},
     "output_type": "display_data"
    }
   ],
   "source": [
    "def plot_histogram(column):\n",
    "    plt.hist(users.loc[users['adopted_user']==1, column], \n",
    "                 bins=30, alpha=0.3, color='b', label='adopted user')\n",
    "    plt.hist(users.loc[users['adopted_user']==0, column], \n",
    "                 bins=30, alpha=0.3, color='r', label='non adopted user')\n",
    "    plt.legend()\n",
    "    plt.xlabel('last_session_creation_time')\n",
    "    plt.ylabel('Number of users')\n",
    "plot_histogram('last_session_creation_time')"
   ]
  },
  {
   "cell_type": "code",
   "execution_count": 15,
   "id": "626253de-c2e5-4220-b808-70f59a3ef0f5",
   "metadata": {},
   "outputs": [
    {
     "name": "stdout",
     "output_type": "stream",
     "text": [
      "<class 'pandas.core.frame.DataFrame'>\n",
      "RangeIndex: 12000 entries, 0 to 11999\n",
      "Data columns (total 11 columns):\n",
      " #   Column                      Non-Null Count  Dtype  \n",
      "---  ------                      --------------  -----  \n",
      " 0   object_id                   12000 non-null  int64  \n",
      " 1   creation_time               12000 non-null  object \n",
      " 2   name                        12000 non-null  object \n",
      " 3   email                       12000 non-null  object \n",
      " 4   creation_source             12000 non-null  object \n",
      " 5   last_session_creation_time  8823 non-null   float64\n",
      " 6   opted_in_to_mailing_list    12000 non-null  int64  \n",
      " 7   enabled_for_marketing_drip  12000 non-null  int64  \n",
      " 8   org_id                      12000 non-null  int64  \n",
      " 9   invited_by_user_id          6417 non-null   float64\n",
      " 10  adopted_user                12000 non-null  int64  \n",
      "dtypes: float64(2), int64(5), object(4)\n",
      "memory usage: 1.0+ MB\n"
     ]
    }
   ],
   "source": [
    "users.info()"
   ]
  },
  {
   "cell_type": "code",
   "execution_count": 16,
   "id": "9217692a-6da6-4b6b-95be-4d1c25d91501",
   "metadata": {},
   "outputs": [],
   "source": [
    "# Creating dummy variables from categorical columns\n",
    "dummies = pd.get_dummies(users['creation_source'])\n",
    "users = pd.concat([users,dummies],axis=1)\n",
    "users.drop('creation_source',axis=1, inplace=True)"
   ]
  },
  {
   "cell_type": "code",
   "execution_count": 17,
   "id": "2aebc278-2866-4f34-aa5d-d2ac30044091",
   "metadata": {},
   "outputs": [],
   "source": [
    "# dropping non-feature variables\n",
    "users.drop(['object_id','creation_time','name','email',],axis=1,inplace=True)\n",
    "# dropping rows with missing values\n",
    "users.dropna(axis=0, inplace= True)\n",
    "# dropping target variable as well\n",
    "y = users['adopted_user'].values\n",
    "users.drop('adopted_user',axis=1,inplace=True)"
   ]
  },
  {
   "cell_type": "code",
   "execution_count": 41,
   "id": "9b0a349e-6475-4194-809e-38fc204c6062",
   "metadata": {},
   "outputs": [],
   "source": [
    "# Using Lasso (L1) Regression for feature selection\n",
    "    # L1 regularization adds an additional term to Ordinary Least Squares loss function for each feature to reduce overfitting\n",
    "    # The coefficient of less important features will converge to 0. The remaining features should stand out.\n",
    "\n",
    "from sklearn.linear_model import Lasso\n",
    "from sklearn.preprocessing import StandardScaler\n",
    "\n",
    "# scaling features for Lasso use\n",
    "scaler = StandardScaler()\n",
    "\n",
    "feature_names = users.columns\n",
    "X_scaled = scaler.fit_transform(users)\n",
    "\n",
    "lasso = Lasso(alpha=0.01,max_iter=10000)\n",
    "lasso_coef = lasso.fit(X_scaled,y).coef_"
   ]
  },
  {
   "cell_type": "code",
   "execution_count": 42,
   "id": "9d3de9bd-b1e4-4abe-ba3c-e0c738e9544e",
   "metadata": {},
   "outputs": [
    {
     "data": {
      "text/plain": [
       "array([ 1.44177561e-01,  0.00000000e+00, -0.00000000e+00,  1.15628257e-02,\n",
       "       -0.00000000e+00,  1.21247461e-02, -4.01688733e-17,  0.00000000e+00,\n",
       "        0.00000000e+00,  0.00000000e+00])"
      ]
     },
     "execution_count": 42,
     "metadata": {},
     "output_type": "execute_result"
    }
   ],
   "source": [
    "lasso_coef"
   ]
  },
  {
   "cell_type": "code",
   "execution_count": 43,
   "id": "5297d83d-dc18-436c-aaed-1cf4a7d7c354",
   "metadata": {},
   "outputs": [
    {
     "data": {
      "image/png": "[encoded data removed]",
      "text/plain": [
       "<Figure size 800x400 with 1 Axes>"
      ]
     },
     "metadata": {},
     "output_type": "display_data"
    }
   ],
   "source": [
    "plt.figure(figsize=(8,4))\n",
    "plt.bar(feature_names,abs(lasso_coef))\n",
    "plt.title(\"Lasso Regression Coefficients vs Potential features\")\n",
    "plt.xlabel(\"Potential feature\")\n",
    "plt.ylabel(\"Coefficients\")\n",
    "plt.xticks(rotation=90)\n",
    "plt.show()"
   ]
  },
  {
   "cell_type": "code",
   "execution_count": 53,
   "id": "c83b52c9-ad15-4ac1-bb76-fb7838feea49",
   "metadata": {},
   "outputs": [],
   "source": [
    "# Lasso Regression identifies three features that may be useful predictors\n",
    "# Let's see if these hold when we train a random forest regressor\n",
    "\n",
    "from sklearn.model_selection import train_test_split\n",
    "\n",
    "# redefining features\n",
    "X = users.values\n",
    "\n",
    "# splitting data into train and test sets\n",
    "X_train, X_test, y_train, y_test = train_test_split(X, y, test_size=0.3, stratify=y)\n",
    "\n",
    "# scaling data\n",
    "scaler = StandardScaler()\n",
    "X_train_scaled = scaler.fit_transform(X_train)\n",
    "X_test_scaled = scaler.transform(X_test)"
   ]
  },
  {
   "cell_type": "code",
   "execution_count": 54,
   "id": "376cabb8-88b3-4960-ac6c-a6918666e0df",
   "metadata": {},
   "outputs": [
    {
     "name": "stdout",
     "output_type": "stream",
     "text": [
      "|   iter    |  target   | max_depth | max_fe... | max_le... | min_sa... | min_sa... | n_esti... |\n",
      "-------------------------------------------------------------------------------------------------\n",
      "| \u001b[0m1        \u001b[0m | \u001b[0m0.8777   \u001b[0m | \u001b[0m9.4      \u001b[0m | \u001b[0m3.812    \u001b[0m | \u001b[0m8.19     \u001b[0m | \u001b[0m6.348    \u001b[0m | \u001b[0m2.0      \u001b[0m | \u001b[0m469.1    \u001b[0m |\n",
      "| \u001b[95m2        \u001b[0m | \u001b[95m0.8822   \u001b[0m | \u001b[95m5.663    \u001b[0m | \u001b[95m8.394    \u001b[0m | \u001b[95m21.05    \u001b[0m | \u001b[95m2.402    \u001b[0m | \u001b[95m9.934    \u001b[0m | \u001b[95m403.0    \u001b[0m |\n",
      "| \u001b[0m3        \u001b[0m | \u001b[0m0.8821   \u001b[0m | \u001b[0m5.073    \u001b[0m | \u001b[0m3.721    \u001b[0m | \u001b[0m23.3     \u001b[0m | \u001b[0m4.276    \u001b[0m | \u001b[0m7.426    \u001b[0m | \u001b[0m191.7    \u001b[0m |\n",
      "| \u001b[95m4        \u001b[0m | \u001b[95m0.8848   \u001b[0m | \u001b[95m4.061    \u001b[0m | \u001b[95m5.296    \u001b[0m | \u001b[95m12.83    \u001b[0m | \u001b[95m1.924    \u001b[0m | \u001b[95m8.822    \u001b[0m | \u001b[95m118.8    \u001b[0m |\n",
      "| \u001b[0m5        \u001b[0m | \u001b[0m0.8095   \u001b[0m | \u001b[0m6.316    \u001b[0m | \u001b[0m3.054    \u001b[0m | \u001b[0m3.162    \u001b[0m | \u001b[0m7.609    \u001b[0m | \u001b[0m9.943    \u001b[0m | \u001b[0m311.6    \u001b[0m |\n",
      "| \u001b[0m6        \u001b[0m | \u001b[0m0.8806   \u001b[0m | \u001b[0m6.188    \u001b[0m | \u001b[0m9.663    \u001b[0m | \u001b[0m21.37    \u001b[0m | \u001b[0m1.198    \u001b[0m | \u001b[0m7.649    \u001b[0m | \u001b[0m403.7    \u001b[0m |\n",
      "| \u001b[0m7        \u001b[0m | \u001b[0m0.8822   \u001b[0m | \u001b[0m6.552    \u001b[0m | \u001b[0m7.432    \u001b[0m | \u001b[0m28.91    \u001b[0m | \u001b[0m5.529    \u001b[0m | \u001b[0m3.775    \u001b[0m | \u001b[0m42.78    \u001b[0m |\n",
      "| \u001b[0m8        \u001b[0m | \u001b[0m0.8172   \u001b[0m | \u001b[0m9.24     \u001b[0m | \u001b[0m3.741    \u001b[0m | \u001b[0m2.092    \u001b[0m | \u001b[0m8.402    \u001b[0m | \u001b[0m4.237    \u001b[0m | \u001b[0m10.7     \u001b[0m |\n",
      "| \u001b[95m9        \u001b[0m | \u001b[95m0.8863   \u001b[0m | \u001b[95m5.54     \u001b[0m | \u001b[95m6.865    \u001b[0m | \u001b[95m30.0     \u001b[0m | \u001b[95m1.0      \u001b[0m | \u001b[95m2.0      \u001b[0m | \u001b[95m81.25    \u001b[0m |\n",
      "| \u001b[95m10       \u001b[0m | \u001b[95m0.8866   \u001b[0m | \u001b[95m10.0     \u001b[0m | \u001b[95m10.0     \u001b[0m | \u001b[95m2.0      \u001b[0m | \u001b[95m10.0     \u001b[0m | \u001b[95m2.0      \u001b[0m | \u001b[95m158.0    \u001b[0m |\n",
      "| \u001b[0m11       \u001b[0m | \u001b[0m0.8779   \u001b[0m | \u001b[0m10.0     \u001b[0m | \u001b[0m10.0     \u001b[0m | \u001b[0m30.0     \u001b[0m | \u001b[0m1.0      \u001b[0m | \u001b[0m10.0     \u001b[0m | \u001b[0m500.0    \u001b[0m |\n",
      "| \u001b[0m12       \u001b[0m | \u001b[0m0.8788   \u001b[0m | \u001b[0m10.0     \u001b[0m | \u001b[0m10.0     \u001b[0m | \u001b[0m30.0     \u001b[0m | \u001b[0m10.0     \u001b[0m | \u001b[0m10.0     \u001b[0m | \u001b[0m149.4    \u001b[0m |\n",
      "| \u001b[0m13       \u001b[0m | \u001b[0m0.886    \u001b[0m | \u001b[0m10.0     \u001b[0m | \u001b[0m10.0     \u001b[0m | \u001b[0m2.0      \u001b[0m | \u001b[0m10.0     \u001b[0m | \u001b[0m2.0      \u001b[0m | \u001b[0m225.6    \u001b[0m |\n",
      "| \u001b[0m14       \u001b[0m | \u001b[0m0.8089   \u001b[0m | \u001b[0m10.0     \u001b[0m | \u001b[0m3.0      \u001b[0m | \u001b[0m2.0      \u001b[0m | \u001b[0m10.0     \u001b[0m | \u001b[0m2.0      \u001b[0m | \u001b[0m80.44    \u001b[0m |\n",
      "| \u001b[0m15       \u001b[0m | \u001b[0m0.8089   \u001b[0m | \u001b[0m3.0      \u001b[0m | \u001b[0m3.0      \u001b[0m | \u001b[0m2.0      \u001b[0m | \u001b[0m1.0      \u001b[0m | \u001b[0m2.0      \u001b[0m | \u001b[0m139.0    \u001b[0m |\n",
      "| \u001b[0m16       \u001b[0m | \u001b[0m0.8821   \u001b[0m | \u001b[0m10.0     \u001b[0m | \u001b[0m10.0     \u001b[0m | \u001b[0m14.23    \u001b[0m | \u001b[0m10.0     \u001b[0m | \u001b[0m5.42     \u001b[0m | \u001b[0m165.8    \u001b[0m |\n",
      "| \u001b[0m17       \u001b[0m | \u001b[0m0.8851   \u001b[0m | \u001b[0m3.666    \u001b[0m | \u001b[0m6.655    \u001b[0m | \u001b[0m25.02    \u001b[0m | \u001b[0m1.0      \u001b[0m | \u001b[0m7.83     \u001b[0m | \u001b[0m106.3    \u001b[0m |\n",
      "| \u001b[0m18       \u001b[0m | \u001b[0m0.8789   \u001b[0m | \u001b[0m9.999    \u001b[0m | \u001b[0m10.0     \u001b[0m | \u001b[0m28.59    \u001b[0m | \u001b[0m9.685    \u001b[0m | \u001b[0m10.0     \u001b[0m | \u001b[0m121.1    \u001b[0m |\n",
      "| \u001b[95m19       \u001b[0m | \u001b[95m0.8872   \u001b[0m | \u001b[95m8.207    \u001b[0m | \u001b[95m9.589    \u001b[0m | \u001b[95m2.0      \u001b[0m | \u001b[95m10.0     \u001b[0m | \u001b[95m2.0      \u001b[0m | \u001b[95m180.6    \u001b[0m |\n",
      "| \u001b[95m20       \u001b[0m | \u001b[95m0.8878   \u001b[0m | \u001b[95m4.232    \u001b[0m | \u001b[95m10.0     \u001b[0m | \u001b[95m4.191    \u001b[0m | \u001b[95m9.328    \u001b[0m | \u001b[95m2.381    \u001b[0m | \u001b[95m204.1    \u001b[0m |\n",
      "=================================================================================================\n"
     ]
    }
   ],
   "source": [
    "# I'll use Bayesian Optimization for Hyper Parameter Tuning - adapted the code from my capstone 2 modeling notebook\n",
    "from sklearn.ensemble import RandomForestClassifier\n",
    "from sklearn.model_selection import cross_val_score, StratifiedKFold\n",
    "from bayes_opt import BayesianOptimization\n",
    "from sklearn.metrics import roc_curve, roc_auc_score, classification_report, confusion_matrix\n",
    "\n",
    "#optimizes accuracy for our random forest classifier\n",
    "def rfc_objective_function(n_estimators,max_depth,min_samples_split,min_samples_leaf,max_features,max_leaf_nodes):\n",
    "    rfc = RandomForestClassifier(n_estimators=int(n_estimators),\n",
    "                                max_depth=int(max_depth),\n",
    "                                min_samples_split=int(min_samples_split),\n",
    "                                min_samples_leaf=int(min_samples_leaf),\n",
    "                                max_features=int(max_features),\n",
    "                                max_leaf_nodes=int(max_leaf_nodes))\n",
    "\n",
    "    # cross validating inside our objective functions avoids overfitting to our individual set of data\n",
    "    kf = StratifiedKFold(n_splits=10, shuffle=True)\n",
    "    cv_scores = cross_val_score(rfc, X_train_scaled, y_train, cv=kf)\n",
    "\n",
    "    return np.mean(cv_scores)\n",
    "\n",
    "rfc_bo = BayesianOptimization(f = rfc_objective_function,\n",
    "                              pbounds = {'n_estimators':(10,500),\n",
    "                                           'max_depth':(3,10),\n",
    "                                           'min_samples_split':(2,10),\n",
    "                                           'min_samples_leaf':(1,10),\n",
    "                                           'max_features':(3,len(users.columns)),\n",
    "                                           'max_leaf_nodes':(2,30)})\n",
    "\n",
    "rfc_bo.maximize(n_iter=15, init_points=5)"
   ]
  },
  {
   "cell_type": "code",
   "execution_count": 57,
   "id": "83b36471-669e-49e6-9ddf-97c0fafb975b",
   "metadata": {},
   "outputs": [
    {
     "name": "stdout",
     "output_type": "stream",
     "text": [
      "Bayesian Optimized Random Forest Classifier:\n",
      "\n",
      "Train Set:\n",
      "[[2513  191]\n",
      " [ 183  456]]\n",
      "              precision    recall  f1-score   support\n",
      "\n",
      "           0       0.93      0.93      0.93      2704\n",
      "           1       0.70      0.71      0.71       639\n",
      "\n",
      "    accuracy                           0.89      3343\n",
      "   macro avg       0.82      0.82      0.82      3343\n",
      "weighted avg       0.89      0.89      0.89      3343\n",
      "\n",
      "\n",
      "Test Set:\n",
      "[[1074   85]\n",
      " [  88  186]]\n",
      "              precision    recall  f1-score   support\n",
      "\n",
      "           0       0.92      0.93      0.93      1159\n",
      "           1       0.69      0.68      0.68       274\n",
      "\n",
      "    accuracy                           0.88      1433\n",
      "   macro avg       0.81      0.80      0.80      1433\n",
      "weighted avg       0.88      0.88      0.88      1433\n",
      "\n"
     ]
    }
   ],
   "source": [
    "rfc_optimized = RandomForestClassifier(max_depth = int(rfc_bo.max['params']['max_depth']),\n",
    "                                      max_features = int(rfc_bo.max['params']['max_features']),\n",
    "                                      max_leaf_nodes = int(rfc_bo.max['params']['max_leaf_nodes']),\n",
    "                                      min_samples_leaf = int(rfc_bo.max['params']['min_samples_leaf']),\n",
    "                                      min_samples_split = int(rfc_bo.max['params']['min_samples_split']),\n",
    "                                      n_estimators = int(rfc_bo.max['params']['n_estimators']))\n",
    "rfc_optimized.fit(X_train_scaled,y_train)\n",
    "y_pred_test = rfc_optimized.predict(X_test_scaled)\n",
    "y_pred_train = rfc_optimized.predict(X_train_scaled)\n",
    "\n",
    "# Evaluating Best Random Forest Classifier\n",
    "print(\"Bayesian Optimized Random Forest Classifier:\\n\")\n",
    "print('Train Set:')\n",
    "print(confusion_matrix(y_train,y_pred_train))\n",
    "print(classification_report(y_train,y_pred_train))\n",
    "print('\\nTest Set:')\n",
    "print(confusion_matrix(y_test,y_pred_test))\n",
    "print(classification_report(y_test,y_pred_test))"
   ]
  },
  {
   "cell_type": "code",
   "execution_count": 59,
   "id": "6bb54eec-cb7e-4295-bdd3-c029ba01f3b0",
   "metadata": {},
   "outputs": [
    {
     "data": {
      "text/html": [
       "<div>\n",
       "<style scoped>\n",
       "    .dataframe tbody tr th:only-of-type {\n",
       "        vertical-align: middle;\n",
       "    }\n",
       "\n",
       "    .dataframe tbody tr th {\n",
       "        vertical-align: top;\n",
       "    }\n",
       "\n",
       "    .dataframe thead th {\n",
       "        text-align: right;\n",
       "    }\n",
       "</style>\n",
       "<table border=\"1\" class=\"dataframe\">\n",
       "  <thead>\n",
       "    <tr style=\"text-align: right;\">\n",
       "      <th></th>\n",
       "      <th>feature</th>\n",
       "      <th>importance</th>\n",
       "    </tr>\n",
       "  </thead>\n",
       "  <tbody>\n",
       "    <tr>\n",
       "      <th>0</th>\n",
       "      <td>last_session_creation_time</td>\n",
       "      <td>0.998216</td>\n",
       "    </tr>\n",
       "    <tr>\n",
       "      <th>3</th>\n",
       "      <td>org_id</td>\n",
       "      <td>0.000904</td>\n",
       "    </tr>\n",
       "    <tr>\n",
       "      <th>4</th>\n",
       "      <td>invited_by_user_id</td>\n",
       "      <td>0.000689</td>\n",
       "    </tr>\n",
       "    <tr>\n",
       "      <th>2</th>\n",
       "      <td>enabled_for_marketing_drip</td>\n",
       "      <td>0.000191</td>\n",
       "    </tr>\n",
       "    <tr>\n",
       "      <th>1</th>\n",
       "      <td>opted_in_to_mailing_list</td>\n",
       "      <td>0.000000</td>\n",
       "    </tr>\n",
       "    <tr>\n",
       "      <th>5</th>\n",
       "      <td>GUEST_INVITE</td>\n",
       "      <td>0.000000</td>\n",
       "    </tr>\n",
       "    <tr>\n",
       "      <th>6</th>\n",
       "      <td>ORG_INVITE</td>\n",
       "      <td>0.000000</td>\n",
       "    </tr>\n",
       "    <tr>\n",
       "      <th>7</th>\n",
       "      <td>PERSONAL_PROJECTS</td>\n",
       "      <td>0.000000</td>\n",
       "    </tr>\n",
       "    <tr>\n",
       "      <th>8</th>\n",
       "      <td>SIGNUP</td>\n",
       "      <td>0.000000</td>\n",
       "    </tr>\n",
       "    <tr>\n",
       "      <th>9</th>\n",
       "      <td>SIGNUP_GOOGLE_AUTH</td>\n",
       "      <td>0.000000</td>\n",
       "    </tr>\n",
       "  </tbody>\n",
       "</table>\n",
       "</div>"
      ],
      "text/plain": [
       "                      feature  importance\n",
       "0  last_session_creation_time    0.998216\n",
       "3                      org_id    0.000904\n",
       "4          invited_by_user_id    0.000689\n",
       "2  enabled_for_marketing_drip    0.000191\n",
       "1    opted_in_to_mailing_list    0.000000\n",
       "5                GUEST_INVITE    0.000000\n",
       "6                  ORG_INVITE    0.000000\n",
       "7           PERSONAL_PROJECTS    0.000000\n",
       "8                      SIGNUP    0.000000\n",
       "9          SIGNUP_GOOGLE_AUTH    0.000000"
      ]
     },
     "execution_count": 59,
     "metadata": {},
     "output_type": "execute_result"
    }
   ],
   "source": [
    "feature_importances = rfc_optimized.feature_importances_\n",
    "df_important = pd.DataFrame(zip(users.columns, feature_importances), columns=['feature','importance'])\n",
    "df_important.sort_values('importance',ascending=False)"
   ]
  },
  {
   "cell_type": "code",
   "execution_count": null,
   "id": "6ed3313c-fb8f-475f-bac4-586102838219",
   "metadata": {},
   "outputs": [],
   "source": [
    "# By far the most important feature was last session login time. It ended up being an excellent predictor"
   ]
  }
 ],
 "metadata": {
  "kernelspec": {
   "display_name": "Python 3 (ipykernel)",
   "language": "python",
   "name": "python3"
  },
  "language_info": {
   "codemirror_mode": {
    "name": "ipython",
    "version": 3
   },
   "file_extension": ".py",
   "mimetype": "text/x-python",
   "name": "python",
   "nbconvert_exporter": "python",
   "pygments_lexer": "ipython3",
   "version": "3.11.7"
  }
 },
 "nbformat": 4,
 "nbformat_minor": 5
}
